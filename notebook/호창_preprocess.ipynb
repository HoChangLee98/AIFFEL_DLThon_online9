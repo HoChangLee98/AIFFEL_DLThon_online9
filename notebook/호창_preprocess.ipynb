{
 "cells": [
  {
   "cell_type": "code",
   "execution_count": 1,
   "id": "035e5c2f",
   "metadata": {
    "scrolled": true
   },
   "outputs": [],
   "source": [
    "import pandas as pd\n",
    "import json\n",
    "import os\n",
    "\n",
    "## 경고 무시\n",
    "import warnings\n",
    "warnings.filterwarnings('ignore')\n",
    "\n",
    "## 시각화 툴\n",
    "import matplotlib.pyplot as plt\n",
    "import seaborn as sns\n",
    "\n",
    "## 정규식 \n",
    "import re\n",
    "\n",
    "## 형태소 분석기\n",
    "from konlpy.tag import Okt\n",
    "\n",
    "## 띄어쓰기 교정\n",
    "from konlpy.tag import Hannanum\n",
    "\n",
    "## encoding \n",
    "from sklearn.preprocessing import LabelEncoder\n",
    "\n",
    "## vocabulary\n",
    "import tensorflow_datasets as tfds"
   ]
  },
  {
   "cell_type": "markdown",
   "id": "3e66cedf",
   "metadata": {},
   "source": [
    "## Data Load"
   ]
  },
  {
   "cell_type": "code",
   "execution_count": 2,
   "id": "54a4fda8",
   "metadata": {},
   "outputs": [],
   "source": [
    "train_df = pd.read_csv(\"../data/train.csv\")\n",
    "train_general_text = pd.read_csv(\"train_df.csv\")\n",
    "train_general = train_general_text.loc[3950:, [\"idx\", \"conversation\"]]\n",
    "train_general[\"class\"] = \"일반 대화\"\n",
    "\n",
    "with open (\"../data/test.json\", \"r\") as f:\n",
    "    test_df = json.load(f)\n",
    "\n",
    "test = pd.DataFrame(test_df).T.reset_index().rename(columns={\"index\":\"file_name\"})"
   ]
  },
  {
   "cell_type": "code",
   "execution_count": 3,
   "id": "98d8ee46",
   "metadata": {},
   "outputs": [],
   "source": [
    "train = pd.concat([train_df, train_general])"
   ]
  },
  {
   "cell_type": "markdown",
   "id": "14d2d57f",
   "metadata": {},
   "source": [
    "## Exploratory Data Analysis"
   ]
  },
  {
   "cell_type": "code",
   "execution_count": 90,
   "id": "b71ed394",
   "metadata": {},
   "outputs": [
    {
     "data": {
      "text/plain": [
       "기타 괴롭힘 대화      1094\n",
       "일반 대화          1026\n",
       "갈취 대화           981\n",
       "직장 내 괴롭힘 대화     979\n",
       "협박 대화           896\n",
       "Name: class, dtype: int64"
      ]
     },
     "execution_count": 90,
     "metadata": {},
     "output_type": "execute_result"
    }
   ],
   "source": [
    "## train class\n",
    "train[\"class\"].value_counts()"
   ]
  },
  {
   "cell_type": "code",
   "execution_count": 92,
   "id": "be446d34",
   "metadata": {
    "scrolled": true
   },
   "outputs": [
    {
     "data": {
      "text/plain": [
       "count    4976.000000\n",
       "mean       55.811093\n",
       "std        24.604557\n",
       "min         8.000000\n",
       "25%        41.000000\n",
       "50%        51.000000\n",
       "75%        65.000000\n",
       "max       223.000000\n",
       "Name: conversation, dtype: float64"
      ]
     },
     "execution_count": 92,
     "metadata": {},
     "output_type": "execute_result"
    }
   ],
   "source": [
    "## conversation 길이에 대한 통계치\n",
    "train[\"conversation\"].apply(lambda x: len(x.split())).describe()"
   ]
  },
  {
   "cell_type": "code",
   "execution_count": 93,
   "id": "7ff4148b",
   "metadata": {},
   "outputs": [
    {
     "data": {
      "text/plain": [
       "count    500.000000\n",
       "mean      54.102000\n",
       "std       26.137136\n",
       "min       14.000000\n",
       "25%       37.000000\n",
       "50%       48.000000\n",
       "75%       65.000000\n",
       "max      192.000000\n",
       "Name: text, dtype: float64"
      ]
     },
     "execution_count": 93,
     "metadata": {},
     "output_type": "execute_result"
    }
   ],
   "source": [
    "test[\"text\"].apply(lambda x: len(x.split())).describe()"
   ]
  },
  {
   "cell_type": "code",
   "execution_count": 94,
   "id": "5a704350",
   "metadata": {},
   "outputs": [
    {
     "data": {
      "text/plain": [
       "Text(0.5, 1.0, 'test')"
      ]
     },
     "execution_count": 94,
     "metadata": {},
     "output_type": "execute_result"
    },
    {
     "data": {
      "image/png": "[encoded data removed]",
      "text/plain": [
       "<Figure size 432x288 with 2 Axes>"
      ]
     },
     "metadata": {
      "needs_background": "light"
     },
     "output_type": "display_data"
    }
   ],
   "source": [
    "plt.subplot(1,2,1)\n",
    "sns.boxplot(train[\"conversation\"].apply(lambda x: len(x.split())))\n",
    "plt.title(\"train\")\n",
    "plt.subplot(1,2,2)\n",
    "sns.boxplot(test[\"text\"].apply(lambda x: len(x.split())))\n",
    "plt.title(\"test\")"
   ]
  },
  {
   "cell_type": "code",
   "execution_count": 95,
   "id": "949f6d77",
   "metadata": {},
   "outputs": [
    {
     "data": {
      "text/plain": [
       "'어이 거기\\n예??\\n너 말이야 너. 이리 오라고\\n무슨 일.\\n너 옷 좋아보인다?\\n얘 돈 좀 있나봐\\n아니에요.돈 없어요\\n뒤져서 나오면 넌 죽는다\\n오늘 피시방 콜?\\n콜. 마지막 기회다. 있는거 다 내놔\\n정말 없어요'"
      ]
     },
     "execution_count": 95,
     "metadata": {},
     "output_type": "execute_result"
    }
   ],
   "source": [
    "train[\"conversation\"][3]"
   ]
  },
  {
   "cell_type": "code",
   "execution_count": 96,
   "id": "35906757",
   "metadata": {},
   "outputs": [
    {
     "data": {
      "text/plain": [
       "'이거 들어바 와 이 노래 진짜 좋다 그치 요즘 이 것만 들어 진짜 너무 좋다 내가 요즘 듣는 것도 들어봐 음 난 좀 별론데 좋을 줄 알았는데 아쉽네 내 취향은 아닌 듯 배고프다 밥이나 먹으러 가자 그래'"
      ]
     },
     "execution_count": 96,
     "metadata": {},
     "output_type": "execute_result"
    }
   ],
   "source": [
    "test[\"text\"][3]"
   ]
  },
  {
   "cell_type": "markdown",
   "id": "c3d8af19",
   "metadata": {},
   "source": [
    "## Preprocessing\n",
    "#### 해결해야 할까??\n",
    "---\n",
    "- \\n에 부분에 token을 추가해야할까?\n",
    "- \"죽여달라고\", \"죽여버리고\", \"죽을 거면\", \"죽여버려야겠군\" 모두 같은 말인데 모델에 다르게 들어간다. \n",
    "- 품사 태깅을 수행해야 할까?\n",
    "- 개체명을 인식해야 할까?\n",
    "\n",
    "#### 진행한 전처리\n",
    "---\n",
    "1. 띄어쓰기 교정 X\n",
    "2. 정규식 전처리 \n",
    "3. 형태소 분석기 사용 ex) 스스로를 -> 스스로 를\n",
    "4. [temp] 불용어 처리 \n",
    "5. 라벨 인코딩"
   ]
  },
  {
   "cell_type": "code",
   "execution_count": 97,
   "id": "3c1af1c1",
   "metadata": {},
   "outputs": [],
   "source": [
    "f = open(\"../stopword.txt\", \"r\")\n",
    "stopword_list = f.read().splitlines()"
   ]
  },
  {
   "cell_type": "code",
   "execution_count": 66,
   "id": "a1746687",
   "metadata": {},
   "outputs": [],
   "source": [
    "## 텍스트 데이터 전처리\n",
    "def text_cleaner(text):\n",
    "    \"\"\"text 데이터를 전처리하는 함수 \n",
    "    \n",
    "    Args:\n",
    "        text: 하나의 텍스트 데이터 샘플\n",
    "    Returns:\n",
    "        cleaned_text: 전처리된 하나의 텍스트 데이터 샘플\n",
    "    \"\"\"\n",
    "\n",
    "    ## 2. 정규식 전처리: 한글, 영어, 숫자를 제외하고 모두 제거한다.  \n",
    "    text = re.sub(\"[^가-힣a-zA-Z0-9]+\", \" \", text)\n",
    "    \n",
    "    ## 3. 형태소 분석기 사용\n",
    "    okt = Okt()\n",
    "    tokens = okt.morphs(text)\n",
    "\n",
    "    ## 4. 한국어 불용어 처리\n",
    "    tokens = [word for word in tokens if not word in stopword_list]\n",
    "    cleaned_text = \" \".join(tokens)    \n",
    "    \n",
    "    return cleaned_text"
   ]
  },
  {
   "cell_type": "code",
   "execution_count": 67,
   "id": "e835a81c",
   "metadata": {},
   "outputs": [],
   "source": [
    "preprocessed_train = train_df.copy()\n",
    "preprocessed_test = test_df.copy()"
   ]
  },
  {
   "cell_type": "code",
   "execution_count": 68,
   "id": "3c3e681f",
   "metadata": {},
   "outputs": [],
   "source": [
    "## 텍스트 데이터 전처리 40분이 넘어간다. \n",
    "preprocessed_train[\"conversation\"] = train_df[\"conversation\"].apply(lambda x: text_cleaner(x))\n",
    "preprocessed_test[\"text\"] = test_df[\"text\"].apply(lambda x: text_cleaner(x))"
   ]
  },
  {
   "cell_type": "code",
   "execution_count": null,
   "id": "568137d6",
   "metadata": {},
   "outputs": [],
   "source": [
    "preprocessed_train.to_csv(\"../data/preprocessed_train_v1.csv\", index=False)\n",
    "preprocessed_test.to_csv(\"../data/preprocessed_test_v1.csv\", index=False)"
   ]
  },
  {
   "cell_type": "code",
   "execution_count": 47,
   "id": "db701023",
   "metadata": {},
   "outputs": [],
   "source": [
    "class Preprocessor:\n",
    "    def __init__(\n",
    "        self, \n",
    "        folder_path=\"../data/\"\n",
    "    ):\n",
    "        self.folder_path = folder_path\n",
    "        self.train = pd.read_csv(self.folder_path + \"train.csv\")\n",
    "        train_general_text = pd.read_csv(\"train_general.csv\")\n",
    "        train_general = train_general_text.loc[3950:, [\"idx\", \"conversation\"]]\n",
    "        train_general[\"class\"] = \"일반 대화\"\n",
    "        \n",
    "        self.train = pd.concat([self.train, train_general])\n",
    "        \n",
    "        with open (self.folder_path + \"/test.json\", \"r\") as f:\n",
    "            test = json.load(f)\n",
    "        self.test = pd.DataFrame(test).T.reset_index().rename(columns={\"index\":\"file_name\"})\n",
    "        \n",
    "        f = open(\"../stopword.txt\", \"r\")\n",
    "        self.stopword_list = f.read().splitlines()\n",
    "    \n",
    "\n",
    "    def preprocess(\n",
    "        self, \n",
    "        version:int=0\n",
    "    ):\n",
    "        \"\"\"실제로 전처리를 진행하는 함수\n",
    "        \n",
    "        Args: \n",
    "            version: 버전 입력\n",
    "        Returns:\n",
    "            preprocessed_train: 전처리가 끝난 훈련 데이터 셋 \n",
    "            preprocessed_test: 전처리가 끝난 테스트 데이터 셋 \n",
    "        \"\"\"\n",
    "        train_file_path = \"../preprocessed_data/\" + f\"preprocessed_train_v{version}.csv\"\n",
    "        test_file_path = \"../preprocessed_data/\" + f\"preprocessed_test_v{version}.csv\"\n",
    "        \n",
    "        ## train data\n",
    "        if not os.path.exists(train_file_path):\n",
    "            ## 원본 데이터 복사\n",
    "            preprocessed_train = self.train.copy()\n",
    "\n",
    "            print(\"train 데이터 셋을 생성합니다.\")\n",
    "            preprocessed_train[\"conversation\"] = preprocessed_train[\"conversation\"].apply(lambda x: self.text_cleaner(x))\n",
    "\n",
    "            print(\"train 데이터 셋을 저장합니다.\")\n",
    "            preprocessed_train.to_csv(train_file_path, index=False)\n",
    "        \n",
    "        else:\n",
    "            preprocessed_train = pd.read_csv(train_file_path)\n",
    "        \n",
    "        ## test data \n",
    "        if not os.path.exists(test_file_path):\n",
    "            ## 원본 데이터 복사\n",
    "            preprocessed_test = self.test.copy()\n",
    "\n",
    "            print(\"test 데이터 셋을 생성합니다.\")\n",
    "            preprocessed_test[\"text\"] = preprocessed_test[\"text\"].apply(lambda x: self.text_cleaner(x))\n",
    "\n",
    "            print(\"test 데이터 셋을 저장합니다.\")\n",
    "            preprocessed_test.to_csv(test_file_path, index=False)        \n",
    "        \n",
    "        else:\n",
    "            preprocessed_test = pd.read_csv(test_file_path)\n",
    "            \n",
    "        \n",
    "        return preprocessed_train, preprocessed_test\n",
    "        \n",
    "    def text_cleaner(self, text):\n",
    "        \"\"\"text 데이터를 전처리하는 함수 \n",
    "\n",
    "        Args:\n",
    "            text: 하나의 텍스트 데이터 샘플\n",
    "        Returns:\n",
    "            cleaned_text: 전처리된 하나의 텍스트 데이터 샘플\n",
    "        \"\"\"\n",
    "        \n",
    "        ## <s>, [INST], </s>, [/INST] 제거\n",
    "        text = text.replace(\"<s>\", \"\").replace(\"[INST]\", \"\").replace(\"</s>\", \"\").replace(\"[/INST]\", \"\")\n",
    "        \n",
    "        ## 정규식 전처리: 한글, 영어, 숫자를 제외하고 모두 제거한다.  \n",
    "        text = re.sub(\"[^가-힣a-zA-Z0-9]+\", \" \", text)\n",
    "        \n",
    "        ## 여러 개의 공백을 하나의 공백으로\n",
    "        text = re.sub(r'\\s+', ' ', text).strip()\n",
    "\n",
    "        ## 형태소 분석기 사용\n",
    "        okt = Okt()\n",
    "        tokens = okt.morphs(text)\n",
    "\n",
    "        ## 한국어 불용어 처리\n",
    "        tokens = [word for word in tokens if not word in self.stopword_list]\n",
    "        cleaned_text = \" \".join(tokens)    \n",
    "\n",
    "        return cleaned_text        "
   ]
  },
  {
   "cell_type": "code",
   "execution_count": 48,
   "id": "d4d6b138",
   "metadata": {},
   "outputs": [],
   "source": [
    "preprocessor = Preprocessor()"
   ]
  },
  {
   "cell_type": "code",
   "execution_count": 49,
   "id": "d85ebc5b",
   "metadata": {
    "scrolled": false
   },
   "outputs": [
    {
     "name": "stdout",
     "output_type": "stream",
     "text": [
      "train 데이터 셋을 생성합니다.\n",
      "train 데이터 셋을 저장합니다.\n",
      "test 데이터 셋을 생성합니다.\n",
      "test 데이터 셋을 저장합니다.\n"
     ]
    }
   ],
   "source": [
    "preprocessed_train, preprocessed_test = preprocessor.preprocess()"
   ]
  },
  {
   "cell_type": "code",
   "execution_count": 53,
   "id": "2d4f372b",
   "metadata": {},
   "outputs": [
    {
     "name": "stdout",
     "output_type": "stream",
     "text": [
      "텍스트의 최소 길이 : 6\n",
      "텍스트의 최대 길이 : 239\n",
      "텍스트의 평균 길이 : 59.00422025723473\n"
     ]
    },
    {
     "data": {
      "image/png": "[encoded data removed]",
      "text/plain": [
       "<Figure size 432x288 with 1 Axes>"
      ]
     },
     "metadata": {
      "needs_background": "light"
     },
     "output_type": "display_data"
    },
    {
     "data": {
      "image/png": "[encoded data removed]",
      "text/plain": [
       "<Figure size 432x288 with 1 Axes>"
      ]
     },
     "metadata": {
      "needs_background": "light"
     },
     "output_type": "display_data"
    }
   ],
   "source": [
    "import numpy as np\n",
    "text_len = [len(s.split()) for s in preprocessed_train['conversation']]\n",
    "\n",
    "print('텍스트의 최소 길이 : {}'.format(np.min(text_len)))\n",
    "print('텍스트의 최대 길이 : {}'.format(np.max(text_len)))\n",
    "print('텍스트의 평균 길이 : {}'.format(np.mean(text_len)))\n",
    "\n",
    "plt.boxplot(text_len)\n",
    "plt.title('conversation')\n",
    "plt.tight_layout()\n",
    "plt.show()\n",
    "\n",
    "plt.title('conversation')\n",
    "plt.hist(text_len, bins = 40)\n",
    "plt.xlabel('length of samples')\n",
    "plt.ylabel('number of samples')\n",
    "plt.show()"
   ]
  },
  {
   "cell_type": "code",
   "execution_count": null,
   "id": "69a76910",
   "metadata": {},
   "outputs": [],
   "source": [
    "## 텍스트 길이 설정: test 셋 길이만큼 있어야한다. \n",
    "# text_max_len = len(preprocessed_test)"
   ]
  },
  {
   "cell_type": "markdown",
   "id": "2346c05b",
   "metadata": {},
   "source": [
    "## Label Encoding"
   ]
  },
  {
   "cell_type": "code",
   "execution_count": null,
   "id": "31962958",
   "metadata": {},
   "outputs": [],
   "source": [
    "# CLASS_NAMES에 '일반 대화'를 포함시킴\n",
    "CLASS_NAMES = ['협박 대화', '갈취 대화', '직장 내 괴롭힘 대화', '기타 괴롭힘 대화', '일반 대화']\n",
    "\n",
    "# 수동 매핑 설정\n",
    "class_mapping = {\n",
    "    '협박 대화': 0,\n",
    "    '갈취 대화': 1,\n",
    "    '직장 내 괴롭힘 대화': 2,\n",
    "    '기타 괴롭힘 대화': 3,\n",
    "    '일반 대화': 4\n",
    "}\n",
    "\n",
    "# 'class' 열을 수동 매핑 적용하기 전에 문자열로 변환\n",
    "preprocessed_train['class'] = preprocessed_train['class'].astype(str).map(class_mapping)"
   ]
  },
  {
   "cell_type": "markdown",
   "id": "19911fea",
   "metadata": {},
   "source": [
    "## Tokenizer\n",
    "vocab size에 따른 시각화"
   ]
  },
  {
   "cell_type": "code",
   "execution_count": null,
   "id": "9d8d7546",
   "metadata": {},
   "outputs": [],
   "source": [
    "# 데이터에는 시작 토큰과 종료 토큰을 추가한다.\n",
    "data['decoder_input'] = data['Summary'].apply(lambda x : 'sostoken '+ x)\n",
    "data['decoder_target'] = data['Summary'].apply(lambda x : x + ' eostoken')"
   ]
  },
  {
   "cell_type": "code",
   "execution_count": null,
   "id": "57fd793d",
   "metadata": {},
   "outputs": [],
   "source": [
    "## 토크나이져\n",
    "## vocab_size 시각화 및 설정\n",
    "## 전체 설계"
   ]
  }
 ],
 "metadata": {
  "kernelspec": {
   "display_name": "Python 3 (ipykernel)",
   "language": "python",
   "name": "python3"
  },
  "language_info": {
   "codemirror_mode": {
    "name": "ipython",
    "version": 3
   },
   "file_extension": ".py",
   "mimetype": "text/x-python",
   "name": "python",
   "nbconvert_exporter": "python",
   "pygments_lexer": "ipython3",
   "version": "3.9.7"
  }
 },
 "nbformat": 4,
 "nbformat_minor": 5
}
