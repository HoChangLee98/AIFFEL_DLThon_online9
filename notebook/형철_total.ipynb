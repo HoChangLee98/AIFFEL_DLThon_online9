{
 "cells": [
  {
   "cell_type": "code",
   "execution_count": 20,
   "id": "4dd428b0",
   "metadata": {},
   "outputs": [],
   "source": [
    "import numpy as np\n",
    "import pandas as pd\n",
    "import tensorflow as tf\n",
    "import os\n",
    "from os.path import join\n",
    "import sys\n",
    "sys.path.append(\"../\")\n",
    "sys.path.append(\"../model\")\n",
    "\n",
    "## 경고 무시\n",
    "import warnings\n",
    "warnings.filterwarnings('ignore')\n",
    "\n",
    "## 시각화 툴\n",
    "import matplotlib.pyplot as plt\n",
    "import seaborn as sns\n",
    "\n",
    "## encoding \n",
    "from sklearn.preprocessing import LabelEncoder\n",
    "from sklearn.model_selection import train_test_split\n",
    "from sklearn.utils import class_weight\n",
    "from tensorflow.keras import regularizers\n",
    "\n",
    "## vocabulary\n",
    "import tensorflow_datasets as tfds\n",
    "\n",
    "## tokenizer \n",
    "from transformers import BertTokenizer\n",
    "from keras.preprocessing.sequence import pad_sequences\n",
    "\n",
    "## preprocessor\n",
    "from custom_preprocessor import Preprocessor\n",
    "\n",
    "## model\n",
    "from transformer_v1 import transformer\n",
    "\n",
    "from tensorflow.keras import backend as K"
   ]
  },
  {
   "cell_type": "markdown",
   "id": "0c7d44b5",
   "metadata": {},
   "source": [
    "# hyper parameter"
   ]
  },
  {
   "cell_type": "code",
   "execution_count": 21,
   "id": "f4a5f190",
   "metadata": {},
   "outputs": [],
   "source": [
    "# 토크나이저 파라미터\n",
    "VOCAB_SIZE = 10000\n",
    "\n",
    "# 학습 파라미터\n",
    "EPOCHS = 1\n",
    "\n",
    "# 모델 구조 파라미터\n",
    "NUM_LAYERS = 2 # 인코더와 디코더의 층의 개수\n",
    "D_MODEL = 256 # 인코더와 디코더 내부의 입, 출력의 고정 차원\n",
    "NUM_HEADS = 8 # 멀티 헤드 어텐션에서의 헤드 수 \n",
    "UNITS = 512 # 피드 포워드 신경망의 은닉층의 크기\n",
    "DROPOUT = 0.1 # 드롭아웃의 비율"
   ]
  },
  {
   "cell_type": "markdown",
   "id": "e714935b",
   "metadata": {},
   "source": [
    "# Data 준비"
   ]
  },
  {
   "cell_type": "code",
   "execution_count": 22,
   "id": "003d6856",
   "metadata": {},
   "outputs": [],
   "source": [
    "preprocessor = Preprocessor()\n",
    "preprocessed_train, preprocessed_test = preprocessor.preprocess()"
   ]
  },
  {
   "cell_type": "code",
   "execution_count": 23,
   "id": "e64ee74a",
   "metadata": {},
   "outputs": [],
   "source": [
    "preprocessed_train[\"conversation\"].apply(lambda x: len(x.split())).max()\n",
    "\n",
    "## CLASS_NAMES에 '일반 대화'를 포함시킴\n",
    "CLASS_NAMES = ['협박 대화', '갈취 대화', '직장 내 괴롭힘 대화', '기타 괴롭힘 대화', '일반 대화']\n",
    "\n",
    "# 수동 매핑 설정\n",
    "class_mapping = {\n",
    "    '협박 대화': 0,\n",
    "    '갈취 대화': 1,\n",
    "    '직장 내 괴롭힘 대화': 2,\n",
    "    '기타 괴롭힘 대화': 3,\n",
    "    '일반 대화': 4\n",
    "}\n",
    "\n",
    "\n",
    "# 'class' 열을 수동 매핑 적용하기 전에 문자열로 변환\n",
    "preprocessed_train['class'] = preprocessed_train['class'].astype(str).map(class_mapping)\n",
    "labels = preprocessed_train['class']"
   ]
  },
  {
   "cell_type": "code",
   "execution_count": 24,
   "id": "22a24758",
   "metadata": {},
   "outputs": [],
   "source": [
    "# BERT tokenizer\n",
    "tokenizer = BertTokenizer.from_pretrained('bert-base-multilingual-cased')\n",
    "\n",
    "# 특수 토큰 ID 확인\n",
    "CLS_TOKEN_ID = tokenizer.cls_token_id  # [CLS] 토큰 ID\n",
    "SEP_TOKEN_ID = tokenizer.sep_token_id  # [SEP] 토큰 ID\n",
    "UNK_TOKEN_ID = tokenizer.unk_token_id  # [UNK] 토큰 ID\n",
    "PAD_TOKEN_ID = tokenizer.pad_token_id  # [PAD] 토큰 ID\n",
    "\n",
    "# 각 문장에 [CLS], [SEP] 추가\n",
    "def add_special_tokens(tokenized_texts):\n",
    "    return [[CLS_TOKEN_ID] + tokenizer.convert_tokens_to_ids(tokens) + [SEP_TOKEN_ID] for tokens in tokenized_texts]\n",
    "\n",
    "## 토크나이징\n",
    "tokenized_train = [tokenizer.tokenize(con) for con in preprocessed_train['conversation'].tolist()]\n",
    "tokenized_test = [tokenizer.tokenize(con) for con in preprocessed_test['text'].tolist()]\n",
    "\n",
    "## [CLS], [SEP] 토큰 추가\n",
    "token_id_train = add_special_tokens(tokenized_train)\n",
    "token_id_test = add_special_tokens(tokenized_test)\n",
    "\n",
    "# 패딩과 트렁케이션 설정\n",
    "## 문장의 max length를 test 문장의 최대 길이로 설정한다. \n",
    "## padding은 앞에서부터 진행\n",
    "## max길이를 넘어가면 앞에서부터 자른다. -> 한국말은 끝까지 들어야하므로..\n",
    "token_id_train = pad_sequences(token_id_train, maxlen=191, dtype='long', padding='pre', truncating='pre', value=PAD_TOKEN_ID)\n",
    "token_id_test = pad_sequences(token_id_test, maxlen=191, dtype='long', padding='pre', truncating='pre', value=PAD_TOKEN_ID)"
   ]
  },
  {
   "cell_type": "code",
   "execution_count": 25,
   "id": "8071014f",
   "metadata": {},
   "outputs": [
    {
     "data": {
      "text/plain": [
       "(4976, 191)"
      ]
     },
     "execution_count": 25,
     "metadata": {},
     "output_type": "execute_result"
    }
   ],
   "source": [
    "token_id_train.shape"
   ]
  },
  {
   "cell_type": "code",
   "execution_count": 26,
   "id": "6e3f5667",
   "metadata": {},
   "outputs": [],
   "source": [
    "test_size_rate = 0.2\n",
    "val_size_rate = 0.1\n",
    "\n",
    "BATCH_SIZE = 64\n",
    "BUFFER_SIZE = 10000\n",
    "\n",
    "\n",
    "# 시드값 설정\n",
    "seed = 1004\n",
    "X_train, X_test, y_train, y_test = train_test_split(token_id_train, labels, test_size=test_size_rate, stratify=labels, random_state=seed)\n",
    "X_train, X_val, y_train, y_val = train_test_split(X_train, y_train, test_size=val_size_rate, stratify=y_train, random_state=seed)\n",
    "\n",
    "# 클래스 가중치 계산 (클래스 4 포함)\n",
    "class_weights = class_weight.compute_class_weight(\n",
    "    'balanced',\n",
    "    classes=np.unique(y_train),\n",
    "    y=y_train\n",
    ")\n",
    "class_weights = dict(enumerate(class_weights))\n",
    "\n",
    "# 각 샘플에 가중치 할당\n",
    "sample_weights = np.array([class_weights[y] for y in y_train])\n",
    "\n",
    "# tf.data.Dataset으로 변환 (sample_weight 포함)\n",
    "train_dataset = tf.data.Dataset.from_tensor_slices((X_train, y_train, sample_weights))\n",
    "val_dataset = tf.data.Dataset.from_tensor_slices((X_val, y_val))\n",
    "test_dataset = tf.data.Dataset.from_tensor_slices((X_test, y_test))\n",
    "\n",
    "# 데이터셋을 섞고, 배치 처리\n",
    "train_dataset = train_dataset.cache().shuffle(BUFFER_SIZE).batch(BATCH_SIZE).prefetch(tf.data.experimental.AUTOTUNE)\n",
    "val_dataset = val_dataset.batch(BATCH_SIZE)\n",
    "test_dataset = test_dataset.batch(BATCH_SIZE)"
   ]
  },
  {
   "cell_type": "markdown",
   "id": "f778cdd3",
   "metadata": {},
   "source": [
    "# Model 설정"
   ]
  },
  {
   "cell_type": "code",
   "execution_count": 27,
   "id": "4aeddcc1",
   "metadata": {},
   "outputs": [
    {
     "name": "stdout",
     "output_type": "stream",
     "text": [
      "Model: \"transformer\"\n",
      "__________________________________________________________________________________________________\n",
      "Layer (type)                    Output Shape         Param #     Connected to                     \n",
      "==================================================================================================\n",
      "inputs (InputLayer)             [(None, None)]       0                                            \n",
      "__________________________________________________________________________________________________\n",
      "enc_padding_mask (Lambda)       (None, 1, 1, None)   0           inputs[0][0]                     \n",
      "__________________________________________________________________________________________________\n",
      "encoder (Functional)            (None, None, 256)    783104      inputs[0][0]                     \n",
      "                                                                 enc_padding_mask[0][0]           \n",
      "__________________________________________________________________________________________________\n",
      "global_average_pooling1d (Globa (None, 256)          0           encoder[0][0]                    \n",
      "__________________________________________________________________________________________________\n",
      "dropout_7 (Dropout)             (None, 256)          0           global_average_pooling1d[0][0]   \n",
      "__________________________________________________________________________________________________\n",
      "linear_hidden_layer (Dense)     (None, 512)          131584      dropout_7[0][0]                  \n",
      "__________________________________________________________________________________________________\n",
      "outputs (Dense)                 (None, 5)            2565        linear_hidden_layer[0][0]        \n",
      "==================================================================================================\n",
      "Total params: 917,253\n",
      "Trainable params: 917,253\n",
      "Non-trainable params: 0\n",
      "__________________________________________________________________________________________________\n"
     ]
    }
   ],
   "source": [
    "# 하이퍼파라미터\n",
    "VOCAB_SIZE = 1000\n",
    "NUM_LAYERS = 1 # 인코더와 디코더의 층의 개수\n",
    "D_MODEL = 256 # 인코더와 디코더 내부의 입, 출력의 고정 차원\n",
    "NUM_HEADS = 8 # 멀티 헤드 어텐션에서의 헤드 수 \n",
    "UNITS = 512 # 피드 포워드 신경망의 은닉층의 크기\n",
    "DROPOUT = 0.1 # 드롭아웃의 비율\n",
    "\n",
    "model = transformer(\n",
    "    vocab_size=VOCAB_SIZE,\n",
    "    num_layers=NUM_LAYERS,\n",
    "    units=UNITS,\n",
    "    d_model=D_MODEL,\n",
    "    num_heads=NUM_HEADS,\n",
    "    dropout=DROPOUT)\n",
    "\n",
    "model.summary()"
   ]
  },
  {
   "cell_type": "code",
   "execution_count": 28,
   "id": "698920c4",
   "metadata": {},
   "outputs": [
    {
     "data": {
      "text/plain": [
       "(3582,)"
      ]
     },
     "execution_count": 28,
     "metadata": {},
     "output_type": "execute_result"
    }
   ],
   "source": [
    "# y_train\n",
    "y_true_classes = tf.argmax(y_train, axis=-1)\n",
    "y_train.shape"
   ]
  },
  {
   "cell_type": "code",
   "execution_count": 29,
   "id": "20e7ebe4",
   "metadata": {},
   "outputs": [],
   "source": [
    "def loss_function(y_true, y_pred):\n",
    "    y_true = tf.squeeze(y_true, axis=-1)\n",
    "    loss = tf.keras.losses.SparseCategoricalCrossentropy(\n",
    "        from_logits=False)(y_true, y_pred)\n",
    "    return tf.reduce_mean(loss)\n",
    "\n",
    "def accuracy(y_true, y_pred):\n",
    "    return tf.keras.metrics.sparse_categorical_accuracy(y_true, y_pred)\n",
    "\n",
    "def recall_m(y_true, y_pred):\n",
    "\n",
    "    y_pred = K.cast(K.greater(K.clip(y_pred, 0, 1), 0.5),K.floatx())\n",
    "    true_positives = K.round(K.sum(K.clip(y_true * y_pred, 0, 1)))\n",
    "    possible_positives = K.sum(K.clip(y_true, 0, 1))\n",
    "    recall_ratio = true_positives / (possible_positives + K.epsilon())\n",
    "    return recall_ratio\n",
    "\n",
    "def precision_m(y_true, y_pred):\n",
    "\n",
    "    y_pred = K.cast(K.greater(K.clip(y_pred, 0, 1), 0.5), K.floatx())\n",
    "    true_positives = K.round(K.sum(K.clip(y_true * y_pred, 0, 1)))\n",
    "    predicted_positives = K.sum(y_pred)\n",
    "    precision_ratio = true_positives / (predicted_positives + K.epsilon())\n",
    "    return precision_ratio\n",
    "\n",
    "def f1_m(y_true, y_pred):\n",
    "    y_pred_classes = tf.argmax(y_pred, axis=-1)\n",
    "    precision = precision_m(y_true, y_pred)\n",
    "    recall = recall_m(y_true, y_pred)\n",
    "    return 2*((precision*recall)/(precision+recall+K.epsilon()))"
   ]
  },
  {
   "cell_type": "code",
   "execution_count": 30,
   "id": "df3d9d13",
   "metadata": {},
   "outputs": [],
   "source": [
    "class CustomSchedule(tf.keras.optimizers.schedules.LearningRateSchedule):\n",
    "\n",
    "    def __init__(self, d_model, warmup_steps=4000):\n",
    "        super(CustomSchedule, self).__init__()\n",
    "\n",
    "        self.d_model = d_model\n",
    "        self.d_model = tf.cast(self.d_model, tf.float32)\n",
    "\n",
    "        self.warmup_steps = warmup_steps\n",
    "\n",
    "    def __call__(self, step):\n",
    "        arg1 = tf.math.rsqrt(step)\n",
    "        arg2 = step * (self.warmup_steps**-1.5)\n",
    "\n",
    "        return tf.math.rsqrt(self.d_model) * tf.math.minimum(arg1, arg2)"
   ]
  },
  {
   "cell_type": "code",
   "execution_count": 31,
   "id": "a027ea7e",
   "metadata": {},
   "outputs": [],
   "source": [
    "learning_rate = CustomSchedule(D_MODEL)\n",
    "\n",
    "optimizer = tf.keras.optimizers.Adam(\n",
    "    learning_rate, beta_1=0.9, beta_2=0.98, epsilon=1e-9)\n",
    "\n",
    "model.compile(optimizer=optimizer, loss=loss_function, metrics=[f1_m])"
   ]
  },
  {
   "cell_type": "markdown",
   "id": "b59472bd",
   "metadata": {},
   "source": [
    "# 학습"
   ]
  },
  {
   "cell_type": "code",
   "execution_count": 32,
   "id": "128f2858",
   "metadata": {
    "scrolled": false
   },
   "outputs": [
    {
     "name": "stdout",
     "output_type": "stream",
     "text": [
      "Epoch 1/100\n",
      "56/56 [==============================] - 4s 43ms/step - loss: 1.7043 - f1_m: 0.0309 - val_loss: 1.6069 - val_f1_m: 0.0000e+00\n",
      "Epoch 2/100\n",
      "56/56 [==============================] - 2s 36ms/step - loss: 1.6084 - f1_m: 0.0000e+00 - val_loss: 1.5794 - val_f1_m: 0.0000e+00\n",
      "Epoch 3/100\n",
      "56/56 [==============================] - 2s 36ms/step - loss: 1.5924 - f1_m: 0.0000e+00 - val_loss: 1.5713 - val_f1_m: 0.0000e+00\n",
      "Epoch 4/100\n",
      "56/56 [==============================] - 2s 36ms/step - loss: 1.5751 - f1_m: 6.4935e-04 - val_loss: 1.5540 - val_f1_m: 0.0000e+00\n",
      "Epoch 5/100\n",
      "56/56 [==============================] - 2s 36ms/step - loss: 1.5487 - f1_m: 6.8681e-04 - val_loss: 1.5209 - val_f1_m: 0.0000e+00\n",
      "Epoch 6/100\n",
      "56/56 [==============================] - 2s 36ms/step - loss: 1.5007 - f1_m: 0.1078 - val_loss: 1.4844 - val_f1_m: 0.3501\n",
      "Epoch 7/100\n",
      "56/56 [==============================] - 2s 36ms/step - loss: 1.4842 - f1_m: 0.2614 - val_loss: 1.4652 - val_f1_m: 0.3734\n",
      "Epoch 8/100\n",
      "56/56 [==============================] - 2s 36ms/step - loss: 1.4674 - f1_m: 0.2497 - val_loss: 1.4607 - val_f1_m: 0.4135\n",
      "Epoch 9/100\n",
      "56/56 [==============================] - 2s 36ms/step - loss: 1.4537 - f1_m: 0.2585 - val_loss: 1.4411 - val_f1_m: 0.1864\n",
      "Epoch 10/100\n",
      "56/56 [==============================] - 2s 36ms/step - loss: 1.4486 - f1_m: 0.2883 - val_loss: 1.4333 - val_f1_m: 0.3875\n",
      "Epoch 11/100\n",
      "56/56 [==============================] - 2s 36ms/step - loss: 1.4479 - f1_m: 0.2744 - val_loss: 1.4277 - val_f1_m: 0.4145\n",
      "Epoch 12/100\n",
      "56/56 [==============================] - 2s 36ms/step - loss: 1.4484 - f1_m: 0.2815 - val_loss: 1.4366 - val_f1_m: 0.3097\n",
      "Epoch 13/100\n",
      "56/56 [==============================] - 2s 36ms/step - loss: 1.4351 - f1_m: 0.2587 - val_loss: 1.4414 - val_f1_m: 0.1098\n",
      "Epoch 14/100\n",
      "56/56 [==============================] - 2s 36ms/step - loss: 1.4387 - f1_m: 0.2711 - val_loss: 1.4448 - val_f1_m: 0.4231\n",
      "Epoch 15/100\n",
      "56/56 [==============================] - 2s 36ms/step - loss: 1.4317 - f1_m: 0.2982 - val_loss: 1.4406 - val_f1_m: 0.1754\n",
      "Epoch 16/100\n",
      "56/56 [==============================] - 2s 36ms/step - loss: 1.4202 - f1_m: 0.2770 - val_loss: 1.4079 - val_f1_m: 0.2427\n",
      "Epoch 17/100\n",
      "56/56 [==============================] - 2s 36ms/step - loss: 1.4070 - f1_m: 0.3158 - val_loss: 1.4481 - val_f1_m: 0.3062\n",
      "Epoch 18/100\n",
      "56/56 [==============================] - 2s 36ms/step - loss: 1.4209 - f1_m: 0.2857 - val_loss: 1.4180 - val_f1_m: 0.2339\n",
      "Epoch 19/100\n",
      "56/56 [==============================] - 2s 36ms/step - loss: 1.4086 - f1_m: 0.3175 - val_loss: 1.4501 - val_f1_m: 0.2467\n",
      "Epoch 20/100\n",
      "56/56 [==============================] - 2s 36ms/step - loss: 1.4039 - f1_m: 0.3397 - val_loss: 1.4038 - val_f1_m: 0.2452\n",
      "Epoch 21/100\n",
      "56/56 [==============================] - 2s 36ms/step - loss: 1.3936 - f1_m: 0.3400 - val_loss: 1.4075 - val_f1_m: 0.2344\n",
      "Epoch 22/100\n",
      "56/56 [==============================] - 2s 36ms/step - loss: 1.3891 - f1_m: 0.3242 - val_loss: 1.4300 - val_f1_m: 0.4998\n",
      "Epoch 23/100\n",
      "56/56 [==============================] - 2s 36ms/step - loss: 1.3865 - f1_m: 0.3698 - val_loss: 1.4284 - val_f1_m: 0.3285\n",
      "Epoch 24/100\n",
      "56/56 [==============================] - 2s 36ms/step - loss: 1.3760 - f1_m: 0.3653 - val_loss: 1.4233 - val_f1_m: 0.1880\n",
      "Epoch 25/100\n",
      "56/56 [==============================] - 2s 36ms/step - loss: 1.3717 - f1_m: 0.3448 - val_loss: 1.4470 - val_f1_m: 0.3420\n",
      "Epoch 26/100\n",
      "56/56 [==============================] - 2s 36ms/step - loss: 1.3623 - f1_m: 0.3559 - val_loss: 1.4500 - val_f1_m: 0.3649\n",
      "Epoch 27/100\n",
      "56/56 [==============================] - 2s 36ms/step - loss: 1.3467 - f1_m: 0.3914 - val_loss: 1.4995 - val_f1_m: 0.4141\n",
      "Epoch 28/100\n",
      "56/56 [==============================] - 2s 36ms/step - loss: 1.3557 - f1_m: 0.3719 - val_loss: 1.4438 - val_f1_m: 0.3176\n",
      "Epoch 29/100\n",
      "56/56 [==============================] - 2s 36ms/step - loss: 1.3401 - f1_m: 0.3861 - val_loss: 1.4912 - val_f1_m: 0.4414\n",
      "Epoch 30/100\n",
      "56/56 [==============================] - 2s 36ms/step - loss: 1.3384 - f1_m: 0.4027 - val_loss: 1.4365 - val_f1_m: 0.4024\n",
      "Epoch 31/100\n",
      "56/56 [==============================] - 2s 36ms/step - loss: 1.3138 - f1_m: 0.4106 - val_loss: 1.4853 - val_f1_m: 0.5603\n",
      "Epoch 32/100\n",
      "56/56 [==============================] - 2s 36ms/step - loss: 1.3053 - f1_m: 0.4264 - val_loss: 1.4952 - val_f1_m: 0.5207\n",
      "Epoch 33/100\n",
      "56/56 [==============================] - 2s 36ms/step - loss: 1.2967 - f1_m: 0.4498 - val_loss: 1.4890 - val_f1_m: 0.5902\n",
      "Epoch 34/100\n",
      "56/56 [==============================] - 2s 36ms/step - loss: 1.2867 - f1_m: 0.4170 - val_loss: 1.4808 - val_f1_m: 0.5214\n",
      "Epoch 35/100\n",
      "56/56 [==============================] - 2s 37ms/step - loss: 1.2727 - f1_m: 0.4585 - val_loss: 1.5055 - val_f1_m: 0.4704\n",
      "Epoch 36/100\n",
      "56/56 [==============================] - 2s 37ms/step - loss: 1.2635 - f1_m: 0.4590 - val_loss: 1.4988 - val_f1_m: 0.5265\n",
      "Epoch 37/100\n",
      "56/56 [==============================] - 2s 37ms/step - loss: 1.2478 - f1_m: 0.4527 - val_loss: 1.5113 - val_f1_m: 0.4569\n",
      "Epoch 38/100\n",
      "56/56 [==============================] - 2s 37ms/step - loss: 1.2277 - f1_m: 0.4841 - val_loss: 1.5630 - val_f1_m: 0.5055\n",
      "Epoch 39/100\n",
      "56/56 [==============================] - 2s 37ms/step - loss: 1.2224 - f1_m: 0.5025 - val_loss: 1.5850 - val_f1_m: 0.4852\n",
      "Epoch 40/100\n",
      "56/56 [==============================] - 2s 37ms/step - loss: 1.1999 - f1_m: 0.5155 - val_loss: 1.6255 - val_f1_m: 0.5282\n",
      "Epoch 41/100\n",
      "56/56 [==============================] - 2s 37ms/step - loss: 1.1884 - f1_m: 0.5342 - val_loss: 1.6047 - val_f1_m: 0.6593\n",
      "Epoch 42/100\n",
      "56/56 [==============================] - 2s 37ms/step - loss: 1.1874 - f1_m: 0.5217 - val_loss: 1.5588 - val_f1_m: 0.5997\n",
      "Epoch 43/100\n",
      "56/56 [==============================] - 2s 37ms/step - loss: 1.1648 - f1_m: 0.5430 - val_loss: 1.5875 - val_f1_m: 0.6165\n",
      "Epoch 44/100\n",
      "56/56 [==============================] - 2s 37ms/step - loss: 1.1576 - f1_m: 0.5610 - val_loss: 1.7842 - val_f1_m: 0.6013\n",
      "Epoch 45/100\n",
      "56/56 [==============================] - 2s 37ms/step - loss: 1.1343 - f1_m: 0.5737 - val_loss: 1.6824 - val_f1_m: 0.5980\n",
      "Epoch 46/100\n",
      "56/56 [==============================] - 2s 37ms/step - loss: 1.1044 - f1_m: 0.5752 - val_loss: 1.6165 - val_f1_m: 0.5755\n",
      "Epoch 47/100\n",
      "56/56 [==============================] - 2s 37ms/step - loss: 1.0964 - f1_m: 0.6063 - val_loss: 1.6628 - val_f1_m: 0.6429\n",
      "Epoch 48/100\n",
      "56/56 [==============================] - 2s 37ms/step - loss: 1.0717 - f1_m: 0.6074 - val_loss: 1.7653 - val_f1_m: 0.6002\n",
      "Epoch 49/100\n",
      "56/56 [==============================] - 2s 37ms/step - loss: 1.0599 - f1_m: 0.6122 - val_loss: 1.7505 - val_f1_m: 0.5544\n",
      "Epoch 50/100\n",
      "56/56 [==============================] - 2s 37ms/step - loss: 1.0493 - f1_m: 0.6200 - val_loss: 1.8380 - val_f1_m: 0.6305\n",
      "Epoch 51/100\n",
      "56/56 [==============================] - 2s 37ms/step - loss: 1.0359 - f1_m: 0.6392 - val_loss: 1.8433 - val_f1_m: 0.6551\n",
      "Epoch 52/100\n",
      "56/56 [==============================] - 2s 37ms/step - loss: 0.9998 - f1_m: 0.6292 - val_loss: 1.8818 - val_f1_m: 0.6390\n",
      "Epoch 53/100\n",
      "56/56 [==============================] - 2s 37ms/step - loss: 0.9858 - f1_m: 0.6519 - val_loss: 1.9837 - val_f1_m: 0.6565\n",
      "Epoch 54/100\n",
      "56/56 [==============================] - 2s 37ms/step - loss: 0.9913 - f1_m: 0.6547 - val_loss: 1.9895 - val_f1_m: 0.7097\n",
      "Epoch 55/100\n",
      "56/56 [==============================] - 2s 37ms/step - loss: 0.9642 - f1_m: 0.6725 - val_loss: 1.9310 - val_f1_m: 0.6187\n",
      "Epoch 56/100\n",
      "56/56 [==============================] - 2s 37ms/step - loss: 0.9464 - f1_m: 0.6702 - val_loss: 1.9065 - val_f1_m: 0.6525\n",
      "Epoch 57/100\n",
      "56/56 [==============================] - 2s 36ms/step - loss: 0.9429 - f1_m: 0.6733 - val_loss: 1.9700 - val_f1_m: 0.6124\n",
      "Epoch 58/100\n",
      "56/56 [==============================] - 2s 37ms/step - loss: 0.9315 - f1_m: 0.6808 - val_loss: 2.1181 - val_f1_m: 0.7172\n",
      "Epoch 59/100\n",
      "56/56 [==============================] - 2s 36ms/step - loss: 0.9041 - f1_m: 0.6837 - val_loss: 2.1698 - val_f1_m: 0.6766\n",
      "Epoch 60/100\n",
      "56/56 [==============================] - 2s 36ms/step - loss: 0.8911 - f1_m: 0.6882 - val_loss: 2.2197 - val_f1_m: 0.7358\n",
      "Epoch 61/100\n"
     ]
    },
    {
     "name": "stdout",
     "output_type": "stream",
     "text": [
      "56/56 [==============================] - 2s 36ms/step - loss: 0.8905 - f1_m: 0.6899 - val_loss: 2.2305 - val_f1_m: 0.6874\n",
      "Epoch 62/100\n",
      "56/56 [==============================] - 2s 36ms/step - loss: 0.8606 - f1_m: 0.6952 - val_loss: 2.3363 - val_f1_m: 0.7103\n",
      "Epoch 63/100\n",
      "56/56 [==============================] - 2s 36ms/step - loss: 0.8463 - f1_m: 0.7158 - val_loss: 2.1532 - val_f1_m: 0.7106\n",
      "Epoch 64/100\n",
      "56/56 [==============================] - 2s 36ms/step - loss: 0.8594 - f1_m: 0.7035 - val_loss: 2.3388 - val_f1_m: 0.6941\n",
      "Epoch 65/100\n",
      "56/56 [==============================] - 2s 36ms/step - loss: 0.8369 - f1_m: 0.7170 - val_loss: 2.2838 - val_f1_m: 0.6686\n",
      "Epoch 66/100\n",
      "56/56 [==============================] - 2s 36ms/step - loss: 0.8437 - f1_m: 0.7239 - val_loss: 2.4626 - val_f1_m: 0.6902\n",
      "Epoch 67/100\n",
      "56/56 [==============================] - 2s 36ms/step - loss: 0.8345 - f1_m: 0.7061 - val_loss: 2.4557 - val_f1_m: 0.7095\n",
      "Epoch 68/100\n",
      "56/56 [==============================] - 2s 37ms/step - loss: 0.8162 - f1_m: 0.7207 - val_loss: 2.3376 - val_f1_m: 0.7326\n",
      "Epoch 69/100\n",
      "56/56 [==============================] - 2s 36ms/step - loss: 0.8029 - f1_m: 0.7309 - val_loss: 2.6396 - val_f1_m: 0.7803\n",
      "Epoch 70/100\n",
      "56/56 [==============================] - 2s 36ms/step - loss: 0.8098 - f1_m: 0.7357 - val_loss: 2.4009 - val_f1_m: 0.7867\n",
      "Epoch 71/100\n",
      "56/56 [==============================] - 2s 36ms/step - loss: 0.7855 - f1_m: 0.7237 - val_loss: 2.7199 - val_f1_m: 0.7912\n",
      "Epoch 72/100\n",
      "56/56 [==============================] - 2s 37ms/step - loss: 0.7829 - f1_m: 0.7354 - val_loss: 2.5295 - val_f1_m: 0.7027\n",
      "Epoch 73/100\n",
      "56/56 [==============================] - 2s 36ms/step - loss: 0.7601 - f1_m: 0.7374 - val_loss: 2.6835 - val_f1_m: 0.7000\n",
      "Epoch 74/100\n",
      "56/56 [==============================] - 2s 36ms/step - loss: 0.7464 - f1_m: 0.7377 - val_loss: 2.5926 - val_f1_m: 0.6848\n",
      "Epoch 75/100\n",
      "56/56 [==============================] - 2s 36ms/step - loss: 0.7683 - f1_m: 0.7430 - val_loss: 2.8010 - val_f1_m: 0.7633\n",
      "Epoch 76/100\n",
      "56/56 [==============================] - 2s 36ms/step - loss: 0.7356 - f1_m: 0.7416 - val_loss: 2.7980 - val_f1_m: 0.7398\n",
      "Epoch 77/100\n",
      "56/56 [==============================] - 2s 37ms/step - loss: 0.7466 - f1_m: 0.7478 - val_loss: 2.9084 - val_f1_m: 0.7359\n",
      "Epoch 78/100\n",
      "56/56 [==============================] - 2s 37ms/step - loss: 0.7324 - f1_m: 0.7564 - val_loss: 2.7833 - val_f1_m: 0.7432\n",
      "Epoch 79/100\n",
      "56/56 [==============================] - 2s 37ms/step - loss: 0.7182 - f1_m: 0.7463 - val_loss: 2.9271 - val_f1_m: 0.7471\n",
      "Epoch 80/100\n",
      "56/56 [==============================] - 2s 36ms/step - loss: 0.7100 - f1_m: 0.7657 - val_loss: 3.0841 - val_f1_m: 0.7320\n",
      "Epoch 81/100\n",
      "56/56 [==============================] - 2s 36ms/step - loss: 0.7160 - f1_m: 0.7544 - val_loss: 3.0760 - val_f1_m: 0.7130\n",
      "Epoch 82/100\n",
      "56/56 [==============================] - 2s 37ms/step - loss: 0.6929 - f1_m: 0.7491 - val_loss: 3.1832 - val_f1_m: 0.7467\n",
      "Epoch 83/100\n",
      "56/56 [==============================] - 2s 37ms/step - loss: 0.6724 - f1_m: 0.7572 - val_loss: 3.3881 - val_f1_m: 0.7331\n",
      "Epoch 84/100\n",
      "56/56 [==============================] - 2s 36ms/step - loss: 0.6663 - f1_m: 0.7692 - val_loss: 3.2207 - val_f1_m: 0.7457\n",
      "Epoch 85/100\n",
      "56/56 [==============================] - 2s 37ms/step - loss: 0.6846 - f1_m: 0.7611 - val_loss: 2.9483 - val_f1_m: 0.7767\n",
      "Epoch 86/100\n",
      "56/56 [==============================] - 2s 37ms/step - loss: 0.6731 - f1_m: 0.7636 - val_loss: 3.4001 - val_f1_m: 0.7461\n",
      "Epoch 87/100\n",
      "56/56 [==============================] - 2s 37ms/step - loss: 0.6719 - f1_m: 0.7619 - val_loss: 3.2025 - val_f1_m: 0.7614\n",
      "Epoch 88/100\n",
      "56/56 [==============================] - 2s 37ms/step - loss: 0.6516 - f1_m: 0.7671 - val_loss: 3.3547 - val_f1_m: 0.7664\n",
      "Epoch 89/100\n",
      "56/56 [==============================] - 2s 37ms/step - loss: 0.6619 - f1_m: 0.7615 - val_loss: 3.4240 - val_f1_m: 0.8142\n",
      "Epoch 90/100\n",
      "56/56 [==============================] - 2s 37ms/step - loss: 0.6437 - f1_m: 0.7692 - val_loss: 3.3929 - val_f1_m: 0.7264\n",
      "Epoch 91/100\n",
      "56/56 [==============================] - 2s 37ms/step - loss: 0.6436 - f1_m: 0.7657 - val_loss: 3.3460 - val_f1_m: 0.7621\n",
      "Epoch 92/100\n",
      "56/56 [==============================] - 2s 37ms/step - loss: 0.6306 - f1_m: 0.7694 - val_loss: 3.2987 - val_f1_m: 0.7431\n",
      "Epoch 93/100\n",
      "56/56 [==============================] - 2s 37ms/step - loss: 0.6208 - f1_m: 0.7616 - val_loss: 3.5190 - val_f1_m: 0.8298\n",
      "Epoch 94/100\n",
      "56/56 [==============================] - 2s 37ms/step - loss: 0.6219 - f1_m: 0.7796 - val_loss: 3.3967 - val_f1_m: 0.7412\n",
      "Epoch 95/100\n",
      "56/56 [==============================] - 2s 37ms/step - loss: 0.6266 - f1_m: 0.7726 - val_loss: 3.5565 - val_f1_m: 0.7351\n",
      "Epoch 96/100\n",
      "56/56 [==============================] - 2s 37ms/step - loss: 0.6149 - f1_m: 0.7766 - val_loss: 3.5267 - val_f1_m: 0.7235\n",
      "Epoch 97/100\n",
      "56/56 [==============================] - 2s 36ms/step - loss: 0.6168 - f1_m: 0.7625 - val_loss: 3.7721 - val_f1_m: 0.7610\n",
      "Epoch 98/100\n",
      "56/56 [==============================] - 2s 37ms/step - loss: 0.5972 - f1_m: 0.7786 - val_loss: 3.6939 - val_f1_m: 0.7423\n",
      "Epoch 99/100\n",
      "56/56 [==============================] - 2s 37ms/step - loss: 0.5982 - f1_m: 0.7718 - val_loss: 3.8166 - val_f1_m: 0.7524\n",
      "Epoch 100/100\n",
      "56/56 [==============================] - 2s 37ms/step - loss: 0.6092 - f1_m: 0.7810 - val_loss: 3.8748 - val_f1_m: 0.7640\n"
     ]
    }
   ],
   "source": [
    "EPOCHS = 100\n",
    "history = model.fit(\n",
    "    train_dataset,\n",
    "    validation_data=val_dataset,  # 검증 데이터셋 추가\n",
    "    epochs=EPOCHS,\n",
    "    verbose=1\n",
    ")"
   ]
  },
  {
   "cell_type": "code",
   "execution_count": 33,
   "id": "db44b356",
   "metadata": {
    "scrolled": false
   },
   "outputs": [
    {
     "ename": "KeyError",
     "evalue": "'accuracy'",
     "output_type": "error",
     "traceback": [
      "\u001b[0;31m---------------------------------------------------------------------------\u001b[0m",
      "\u001b[0;31mKeyError\u001b[0m                                  Traceback (most recent call last)",
      "\u001b[0;32m/tmp/ipykernel_2952/3987888436.py\u001b[0m in \u001b[0;36m<module>\u001b[0;34m\u001b[0m\n\u001b[1;32m     13\u001b[0m \u001b[0;34m\u001b[0m\u001b[0m\n\u001b[1;32m     14\u001b[0m \u001b[0;31m# Train/Val Accuracy Plot\u001b[0m\u001b[0;34m\u001b[0m\u001b[0;34m\u001b[0m\u001b[0m\n\u001b[0;32m---> 15\u001b[0;31m \u001b[0maxs\u001b[0m\u001b[0;34m[\u001b[0m\u001b[0;36m1\u001b[0m\u001b[0;34m]\u001b[0m\u001b[0;34m.\u001b[0m\u001b[0mplot\u001b[0m\u001b[0;34m(\u001b[0m\u001b[0mhistory\u001b[0m\u001b[0;34m.\u001b[0m\u001b[0mhistory\u001b[0m\u001b[0;34m[\u001b[0m\u001b[0;34m'accuracy'\u001b[0m\u001b[0;34m]\u001b[0m\u001b[0;34m,\u001b[0m \u001b[0mlabel\u001b[0m\u001b[0;34m=\u001b[0m\u001b[0;34m'Train Accuracy'\u001b[0m\u001b[0;34m)\u001b[0m\u001b[0;34m\u001b[0m\u001b[0;34m\u001b[0m\u001b[0m\n\u001b[0m\u001b[1;32m     16\u001b[0m \u001b[0maxs\u001b[0m\u001b[0;34m[\u001b[0m\u001b[0;36m1\u001b[0m\u001b[0;34m]\u001b[0m\u001b[0;34m.\u001b[0m\u001b[0mplot\u001b[0m\u001b[0;34m(\u001b[0m\u001b[0mhistory\u001b[0m\u001b[0;34m.\u001b[0m\u001b[0mhistory\u001b[0m\u001b[0;34m[\u001b[0m\u001b[0;34m'val_accuracy'\u001b[0m\u001b[0;34m]\u001b[0m\u001b[0;34m,\u001b[0m \u001b[0mlabel\u001b[0m\u001b[0;34m=\u001b[0m\u001b[0;34m'Validation Accuracy'\u001b[0m\u001b[0;34m)\u001b[0m\u001b[0;34m\u001b[0m\u001b[0;34m\u001b[0m\u001b[0m\n\u001b[1;32m     17\u001b[0m \u001b[0maxs\u001b[0m\u001b[0;34m[\u001b[0m\u001b[0;36m1\u001b[0m\u001b[0;34m]\u001b[0m\u001b[0;34m.\u001b[0m\u001b[0mset_title\u001b[0m\u001b[0;34m(\u001b[0m\u001b[0;34m'Accuracy'\u001b[0m\u001b[0;34m)\u001b[0m\u001b[0;34m\u001b[0m\u001b[0;34m\u001b[0m\u001b[0m\n",
      "\u001b[0;31mKeyError\u001b[0m: 'accuracy'"
     ]
    },
    {
     "data": {
      "image/png": "[encoded data removed]",
      "text/plain": [
       "<Figure size 864x864 with 2 Axes>"
      ]
     },
     "metadata": {
      "needs_background": "light"
     },
     "output_type": "display_data"
    }
   ],
   "source": [
    "import matplotlib.pyplot as plt\n",
    "\n",
    "# 정확한 val_loss 및 val_accuracy 플롯\n",
    "fig, axs = plt.subplots(2, 1, figsize=(12, 12))\n",
    "\n",
    "# Train/Val Loss Plot\n",
    "axs[0].plot(history.history['loss'], label='Train Loss')\n",
    "axs[0].plot(history.history['val_loss'], label='Validation Loss')\n",
    "axs[0].set_title('Loss')\n",
    "axs[0].set_xlabel('Epochs')\n",
    "axs[0].set_ylabel('Loss')\n",
    "axs[0].legend()\n",
    "\n",
    "# Train/Val Accuracy Plot\n",
    "axs[1].plot(history.history['accuracy'], label='Train Accuracy')\n",
    "axs[1].plot(history.history['val_accuracy'], label='Validation Accuracy')\n",
    "axs[1].set_title('Accuracy')\n",
    "axs[1].set_xlabel('Epochs')\n",
    "axs[1].set_ylabel('Accuracy')\n",
    "axs[1].legend()\n",
    "\n",
    "plt.show()"
   ]
  },
  {
   "cell_type": "code",
   "execution_count": null,
   "id": "8fc56e42",
   "metadata": {},
   "outputs": [],
   "source": [
    "model.evaluate(test_dataset)"
   ]
  },
  {
   "cell_type": "markdown",
   "id": "664c8691",
   "metadata": {},
   "source": [
    "# submission"
   ]
  },
  {
   "cell_type": "code",
   "execution_count": 17,
   "id": "e1720cb6",
   "metadata": {},
   "outputs": [
    {
     "data": {
      "text/plain": [
       "<tf.Tensor: shape=(500, 191, 5), dtype=float32, numpy=\n",
       "array([[[0.07462311, 0.27142942, 0.1644023 , 0.19443707, 0.29510805],\n",
       "        [0.06907566, 0.26791865, 0.14656192, 0.190807  , 0.32563674],\n",
       "        [0.06747376, 0.25854054, 0.14847824, 0.16164742, 0.36386   ],\n",
       "        ...,\n",
       "        [0.06300951, 0.23871227, 0.1727236 , 0.27418628, 0.25136834],\n",
       "        [0.06870203, 0.25722283, 0.16875002, 0.29451165, 0.21081343],\n",
       "        [0.07852988, 0.25822982, 0.15542494, 0.34263477, 0.16518068]],\n",
       "\n",
       "       [[0.07405151, 0.27174923, 0.16547611, 0.19197367, 0.29674947],\n",
       "        [0.06877737, 0.26818573, 0.14824331, 0.18791781, 0.32687578],\n",
       "        [0.06752957, 0.2592174 , 0.14944693, 0.15920675, 0.36459935],\n",
       "        ...,\n",
       "        [0.06373075, 0.23828508, 0.17290445, 0.27175993, 0.25331974],\n",
       "        [0.06928586, 0.25674498, 0.16935652, 0.2932962 , 0.21131645],\n",
       "        [0.07901414, 0.26161507, 0.15457311, 0.33796442, 0.16683318]],\n",
       "\n",
       "       [[0.09234335, 0.30044898, 0.21089227, 0.14569591, 0.25061947],\n",
       "        [0.09181117, 0.28710964, 0.19276233, 0.15527126, 0.2730456 ],\n",
       "        [0.10141189, 0.24429661, 0.19196045, 0.15434913, 0.30798188],\n",
       "        ...,\n",
       "        [0.08474199, 0.23877437, 0.18824568, 0.23433872, 0.25389925],\n",
       "        [0.08639526, 0.24526206, 0.18583447, 0.2642965 , 0.21821177],\n",
       "        [0.0873735 , 0.2558235 , 0.18720363, 0.2958914 , 0.17370798]],\n",
       "\n",
       "       ...,\n",
       "\n",
       "       [[0.10250514, 0.27718642, 0.21407643, 0.14621794, 0.26001406],\n",
       "        [0.0996173 , 0.26624936, 0.18931219, 0.15636061, 0.28846055],\n",
       "        [0.10458656, 0.23602   , 0.1892488 , 0.15058772, 0.3195569 ],\n",
       "        ...,\n",
       "        [0.08203226, 0.22564675, 0.19885379, 0.21807536, 0.27539182],\n",
       "        [0.08633111, 0.22966437, 0.19552651, 0.2550649 , 0.23341309],\n",
       "        [0.0851885 , 0.25102448, 0.1921893 , 0.2962285 , 0.17536926]],\n",
       "\n",
       "       [[0.10840114, 0.23568903, 0.15965591, 0.21836248, 0.27789146],\n",
       "        [0.10180352, 0.23595947, 0.14743851, 0.24441148, 0.27038705],\n",
       "        [0.08523919, 0.23503868, 0.1520209 , 0.24605514, 0.2816461 ],\n",
       "        ...,\n",
       "        [0.05510052, 0.22537781, 0.18345162, 0.30223817, 0.23383196],\n",
       "        [0.06199838, 0.24290937, 0.18217951, 0.3199774 , 0.19293536],\n",
       "        [0.07098501, 0.25095662, 0.16627942, 0.36113024, 0.15064865]],\n",
       "\n",
       "       [[0.07602163, 0.2697549 , 0.16841626, 0.18676254, 0.29904464],\n",
       "        [0.0712004 , 0.26663542, 0.1508973 , 0.18222697, 0.32903996],\n",
       "        [0.07086235, 0.25668046, 0.15189834, 0.15591788, 0.36464092],\n",
       "        ...,\n",
       "        [0.06532218, 0.23609978, 0.17541939, 0.26835868, 0.25479996],\n",
       "        [0.07051885, 0.25214255, 0.16984563, 0.2930523 , 0.2144407 ],\n",
       "        [0.08176191, 0.25849771, 0.15643479, 0.33482045, 0.16848512]]],\n",
       "      dtype=float32)>"
      ]
     },
     "execution_count": 17,
     "metadata": {},
     "output_type": "execute_result"
    }
   ],
   "source": [
    "result_vec = model(token_id_test)\n",
    "y_pred = np.argmax(result_vec, axis=1)\n",
    "result_vec"
   ]
  },
  {
   "cell_type": "code",
   "execution_count": 19,
   "id": "2e1cb805",
   "metadata": {},
   "outputs": [
    {
     "data": {
      "text/plain": [
       "array([[[0.0746231 , 0.27142945, 0.16440229, 0.19443707, 0.29510808],\n",
       "        [0.06907567, 0.2679185 , 0.14656198, 0.19080707, 0.32563677],\n",
       "        [0.06747375, 0.25854054, 0.14847831, 0.16164745, 0.36385992],\n",
       "        ...,\n",
       "        [0.06300946, 0.23871218, 0.17272362, 0.27418637, 0.25136837],\n",
       "        [0.06870206, 0.25722283, 0.16874997, 0.29451174, 0.2108134 ],\n",
       "        [0.07852983, 0.25822976, 0.15542486, 0.34263486, 0.16518071]],\n",
       "\n",
       "       [[0.07405146, 0.27174923, 0.16547608, 0.19197372, 0.29674944],\n",
       "        [0.06877735, 0.26818568, 0.14824334, 0.18791787, 0.32687578],\n",
       "        [0.06752957, 0.25921738, 0.14944685, 0.15920672, 0.36459947],\n",
       "        ...,\n",
       "        [0.06373075, 0.23828506, 0.17290448, 0.27176002, 0.25331968],\n",
       "        [0.06928586, 0.25674498, 0.16935657, 0.2932962 , 0.21131647],\n",
       "        [0.07901417, 0.2616151 , 0.15457314, 0.33796436, 0.16683318]],\n",
       "\n",
       "       [[0.09234336, 0.30044898, 0.2108922 , 0.1456959 , 0.25061956],\n",
       "        [0.09181117, 0.28710964, 0.19276223, 0.1552712 , 0.2730457 ],\n",
       "        [0.10141194, 0.2442966 , 0.1919605 , 0.1543492 , 0.3079818 ],\n",
       "        ...,\n",
       "        [0.08474199, 0.2387744 , 0.18824574, 0.23433869, 0.2538992 ],\n",
       "        [0.08639526, 0.24526206, 0.18583442, 0.2642965 , 0.21821177],\n",
       "        [0.0873735 , 0.25582352, 0.18720366, 0.29589137, 0.17370796]],\n",
       "\n",
       "       ...,\n",
       "\n",
       "       [[0.10250518, 0.27718636, 0.21407637, 0.14621803, 0.26001403],\n",
       "        [0.09961735, 0.26624936, 0.18931222, 0.15636058, 0.2884605 ],\n",
       "        [0.1045865 , 0.23601995, 0.18924887, 0.15058763, 0.319557  ],\n",
       "        ...,\n",
       "        [0.08203229, 0.22564678, 0.19885378, 0.21807536, 0.2753918 ],\n",
       "        [0.08633108, 0.22966436, 0.1955265 , 0.25506496, 0.23341304],\n",
       "        [0.08518853, 0.25102445, 0.19218925, 0.29622847, 0.1753693 ]],\n",
       "\n",
       "       [[0.10840109, 0.23568906, 0.159656  , 0.21836255, 0.27789134],\n",
       "        [0.1018035 , 0.23595953, 0.14743845, 0.24441154, 0.270387  ],\n",
       "        [0.08523916, 0.23503867, 0.15202087, 0.24605504, 0.28164622],\n",
       "        ...,\n",
       "        [0.05510052, 0.22537754, 0.18345165, 0.30223826, 0.23383202],\n",
       "        [0.06199834, 0.24290934, 0.18217945, 0.3199775 , 0.19293538],\n",
       "        [0.07098503, 0.2509567 , 0.1662795 , 0.36113012, 0.1506486 ]],\n",
       "\n",
       "       [[0.07602167, 0.26975483, 0.1684162 , 0.18676254, 0.2990447 ],\n",
       "        [0.0712004 , 0.26663554, 0.1508973 , 0.18222687, 0.3290399 ],\n",
       "        [0.07086239, 0.25668055, 0.15189835, 0.15591785, 0.3646409 ],\n",
       "        ...,\n",
       "        [0.06532215, 0.23609976, 0.17541936, 0.2683587 , 0.25480008],\n",
       "        [0.07051886, 0.2521426 , 0.16984563, 0.2930522 , 0.21444072],\n",
       "        [0.08176193, 0.25849766, 0.15643476, 0.33482048, 0.1684851 ]]],\n",
       "      dtype=float32)"
      ]
     },
     "execution_count": 19,
     "metadata": {},
     "output_type": "execute_result"
    }
   ],
   "source": [
    "result_vec = model.predict(token_id_test)\n",
    "result_vec"
   ]
  },
  {
   "cell_type": "code",
   "execution_count": 15,
   "id": "720e679f",
   "metadata": {},
   "outputs": [
    {
     "data": {
      "text/plain": [
       "(500, 5)"
      ]
     },
     "execution_count": 15,
     "metadata": {},
     "output_type": "execute_result"
    }
   ],
   "source": [
    "y_pred.shape"
   ]
  },
  {
   "cell_type": "code",
   "execution_count": 16,
   "id": "eb2e6a75",
   "metadata": {},
   "outputs": [],
   "source": [
    "def save_submission(y_pred, user_name, f1_score=None):\n",
    "    data_path =\"/aiffel/aiffel/dlthon_team5/data\"\n",
    "    save_path =\"/aiffel/aiffel/dlthon_team5/submission\"\n",
    "    submission_path = join(data_path, 'new_submission.csv')\n",
    "    submission = pd.read_csv(submission_path)\n",
    "    submission.columns = ['idx', 'target']\n",
    "    submission['target'] = y_pred\n",
    "    submission_csv_path = '{}/submission_{}_f1score_{}.csv'.format(save_path, user_name, f1_score)\n",
    "    submission.to_csv(submission_csv_path, index=False)\n",
    "    print('{} saved!'.format(submission_csv_path))"
   ]
  },
  {
   "cell_type": "code",
   "execution_count": null,
   "id": "ceb73eb3",
   "metadata": {},
   "outputs": [],
   "source": [
    "save_submission(y_pred,'phc_v1','75')"
   ]
  },
  {
   "cell_type": "code",
   "execution_count": null,
   "id": "48b752d6",
   "metadata": {},
   "outputs": [],
   "source": []
  },
  {
   "cell_type": "code",
   "execution_count": null,
   "id": "3bd6f059",
   "metadata": {},
   "outputs": [],
   "source": []
  }
 ],
 "metadata": {
  "kernelspec": {
   "display_name": "Python 3 (ipykernel)",
   "language": "python",
   "name": "python3"
  },
  "language_info": {
   "codemirror_mode": {
    "name": "ipython",
    "version": 3
   },
   "file_extension": ".py",
   "mimetype": "text/x-python",
   "name": "python",
   "nbconvert_exporter": "python",
   "pygments_lexer": "ipython3",
   "version": "3.9.7"
  }
 },
 "nbformat": 4,
 "nbformat_minor": 5
}
