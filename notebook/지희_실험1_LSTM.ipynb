{
 "cells": [
  {
   "cell_type": "code",
   "execution_count": 7,
   "id": "813837e5",
   "metadata": {},
   "outputs": [],
   "source": [
    "import numpy as np\n",
    "import pandas as pd\n",
    "import tensorflow as tf\n",
    "import os\n",
    "from os.path import join\n",
    "import sys\n",
    "import re\n",
    "import sentencepiece as spm\n",
    "sys.path.append(\"../\")\n",
    "sys.path.append(\"../model\")\n",
    "\n",
    "## 경고 무시\n",
    "import warnings\n",
    "warnings.filterwarnings('ignore')\n",
    "\n",
    "## 시각화 툴\n",
    "import matplotlib.pyplot as plt\n",
    "import seaborn as sns\n",
    "\n",
    "## encoding \n",
    "from sklearn.preprocessing import LabelEncoder\n",
    "from sklearn.model_selection import train_test_split\n",
    "from sklearn.utils import class_weight\n",
    "from tensorflow.keras import regularizers\n",
    "\n",
    "## vocabulary\n",
    "import tensorflow_datasets as tfds\n",
    "\n",
    "## preprocessor\n",
    "from custom_preprocessor import Preprocessor"
   ]
  },
  {
   "cell_type": "code",
   "execution_count": 9,
   "id": "00e6964a",
   "metadata": {},
   "outputs": [],
   "source": [
    "preprocessor = Preprocessor()\n",
    "preprocessed_train, preprocessed_test = preprocessor.preprocess()"
   ]
  },
  {
   "cell_type": "code",
   "execution_count": 11,
   "id": "8bdec902",
   "metadata": {},
   "outputs": [
    {
     "name": "stdout",
     "output_type": "stream",
     "text": [
      "최대 문장 길이: 239\n"
     ]
    }
   ],
   "source": [
    "max_len = preprocessed_train[\"conversation\"].apply(lambda x: len(x.split())).max()\n",
    "print(f\"최대 문장 길이: {max_len}\")"
   ]
  },
  {
   "cell_type": "code",
   "execution_count": 10,
   "id": "5c8cf592",
   "metadata": {},
   "outputs": [],
   "source": [
    "## CLASS_NAMES에 '일반 대화'를 포함시킴\n",
    "CLASS_NAMES = ['협박 대화', '갈취 대화', '직장 내 괴롭힘 대화', '기타 괴롭힘 대화', '일반 대화']\n",
    "\n",
    "# 수동 매핑 설정\n",
    "class_mapping = {\n",
    "    '협박 대화': 0,\n",
    "    '갈취 대화': 1,\n",
    "    '직장 내 괴롭힘 대화': 2,\n",
    "    '기타 괴롭힘 대화': 3,\n",
    "    '일반 대화': 4\n",
    "}\n",
    "\n",
    "\n",
    "# 'class' 열을 수동 매핑 적용하기 전에 문자열로 변환\n",
    "preprocessed_train['class'] = preprocessed_train['class'].astype(str).map(class_mapping)\n",
    "labels = preprocessed_train['class']"
   ]
  },
  {
   "cell_type": "markdown",
   "id": "ecd1c254",
   "metadata": {},
   "source": [
    "# sentencepiece를 이용한 tokenizer 생성"
   ]
  },
  {
   "cell_type": "code",
   "execution_count": 12,
   "id": "9caf4c9d",
   "metadata": {},
   "outputs": [],
   "source": [
    "# 토크나이저 생성 함수\n",
    "def generate_tokenizer(corpus,\n",
    "                       vocab_size,\n",
    "                       lang=\"ko\",\n",
    "                       pad_id=0,\n",
    "                       bos_id=1,\n",
    "                       eos_id=2,\n",
    "                       unk_id=3):\n",
    "    # 문장 데이터를 파일로 저장\n",
    "    with open(f\"{lang}_corpus.txt\", \"w\") as f:\n",
    "        for sentence in corpus:\n",
    "            f.write(sentence + \"\\n\")\n",
    "    \n",
    "    model_prefix = f\"{lang}_tokenizer\"\n",
    "    \n",
    "    # Train SentencePiece tokenizer\n",
    "    spm.SentencePieceTrainer.train(\n",
    "        f\"--input={lang}_corpus.txt --model_prefix={model_prefix} --vocab_size={vocab_size}\" + \n",
    "        f\" --pad_id={pad_id} --pad_piece=[PAD]\" +\n",
    "        f\" --unk_id={unk_id} --unk_piece=[UNK]\" +\n",
    "        f\" --bos_id={bos_id} --bos_piece=[BOS]\" +\n",
    "        f\" --eos_id={eos_id} --eos_piece=[EOS]\" +\n",
    "        \" --model_type=unigram --max_sentence_length=999999\")\n",
    "\n",
    "    # Load tokenizer\n",
    "    tokenizer = spm.SentencePieceProcessor()\n",
    "    tokenizer.load(f\"{model_prefix}.model\")\n",
    "    \n",
    "    return tokenizer"
   ]
  },
  {
   "cell_type": "code",
   "execution_count": 14,
   "id": "e4a70865",
   "metadata": {
    "scrolled": true
   },
   "outputs": [
    {
     "name": "stderr",
     "output_type": "stream",
     "text": [
      "sentencepiece_trainer.cc(177) LOG(INFO) Running command: --input=ko_corpus.txt --model_prefix=ko_tokenizer --vocab_size=12639 --pad_id=0 --pad_piece=[PAD] --unk_id=3 --unk_piece=[UNK] --bos_id=1 --bos_piece=[BOS] --eos_id=2 --eos_piece=[EOS] --model_type=unigram --max_sentence_length=999999\n",
      "sentencepiece_trainer.cc(77) LOG(INFO) Starts training with : \n",
      "trainer_spec {\n",
      "  input: ko_corpus.txt\n",
      "  input_format: \n",
      "  model_prefix: ko_tokenizer\n",
      "  model_type: UNIGRAM\n",
      "  vocab_size: 12639\n",
      "  self_test_sample_size: 0\n",
      "  character_coverage: 0.9995\n",
      "  input_sentence_size: 0\n",
      "  shuffle_input_sentence: 1\n",
      "  seed_sentencepiece_size: 1000000\n",
      "  shrinking_factor: 0.75\n",
      "  max_sentence_length: 999999\n",
      "  num_threads: 16\n",
      "  num_sub_iterations: 2\n",
      "  max_sentencepiece_length: 16\n",
      "  split_by_unicode_script: 1\n",
      "  split_by_number: 1\n",
      "  split_by_whitespace: 1\n",
      "  split_digits: 0\n",
      "  treat_whitespace_as_suffix: 0\n",
      "  allow_whitespace_only_pieces: 0\n",
      "  required_chars: \n",
      "  byte_fallback: 0\n",
      "  vocabulary_output_piece_score: 1\n",
      "  train_extremely_large_corpus: 0\n",
      "  hard_vocab_limit: 1\n",
      "  use_all_vocab: 0\n",
      "  unk_id: 3\n",
      "  bos_id: 1\n",
      "  eos_id: 2\n",
      "  pad_id: 0\n",
      "  unk_piece: [UNK]\n",
      "  bos_piece: [BOS]\n",
      "  eos_piece: [EOS]\n",
      "  pad_piece: [PAD]\n",
      "  unk_surface:  ⁇ \n",
      "}\n",
      "normalizer_spec {\n",
      "  name: nmt_nfkc\n",
      "  add_dummy_prefix: 1\n",
      "  remove_extra_whitespaces: 1\n",
      "  escape_whitespaces: 1\n",
      "  normalization_rule_tsv: \n",
      "}\n",
      "denormalizer_spec {}\n",
      "trainer_interface.cc(329) LOG(INFO) SentenceIterator is not specified. Using MultiFileSentenceIterator.\n",
      "trainer_interface.cc(178) LOG(INFO) Loading corpus: ko_corpus.txt\n",
      "trainer_interface.cc(385) LOG(INFO) Loaded all 4976 sentences\n",
      "trainer_interface.cc(400) LOG(INFO) Adding meta_piece: [PAD]\n",
      "trainer_interface.cc(400) LOG(INFO) Adding meta_piece: [BOS]\n",
      "trainer_interface.cc(400) LOG(INFO) Adding meta_piece: [EOS]\n",
      "trainer_interface.cc(400) LOG(INFO) Adding meta_piece: [UNK]\n",
      "trainer_interface.cc(405) LOG(INFO) Normalizing sentences...\n",
      "trainer_interface.cc(466) LOG(INFO) all chars count=931935\n",
      "trainer_interface.cc(477) LOG(INFO) Done: 99.9501% characters are covered.\n",
      "trainer_interface.cc(487) LOG(INFO) Alphabet size=1297\n",
      "trainer_interface.cc(488) LOG(INFO) Final character coverage=0.999501\n",
      "trainer_interface.cc(520) LOG(INFO) Done! preprocessed 4976 sentences.\n",
      "unigram_model_trainer.cc(139) LOG(INFO) Making suffix array...\n",
      "unigram_model_trainer.cc(143) LOG(INFO) Extracting frequent sub strings...\n",
      "unigram_model_trainer.cc(194) LOG(INFO) Initialized 23016 seed sentencepieces\n",
      "trainer_interface.cc(526) LOG(INFO) Tokenizing input sentences with whitespace: 4976\n",
      "trainer_interface.cc(537) LOG(INFO) Done! 32424\n",
      "unigram_model_trainer.cc(489) LOG(INFO) Using 32424 sentences for EM training\n",
      "unigram_model_trainer.cc(505) LOG(INFO) EM sub_iter=0 size=15116 obj=10.8711 num_tokens=62419 num_tokens/piece=4.12933\n",
      "unigram_model_trainer.cc(505) LOG(INFO) EM sub_iter=1 size=12366 obj=10.2033 num_tokens=62637 num_tokens/piece=5.06526\n",
      "trainer_interface.cc(615) LOG(INFO) Saving model: ko_tokenizer.model\n",
      "trainer_interface.cc(626) LOG(INFO) Saving vocabs: ko_tokenizer.vocab\n"
     ]
    }
   ],
   "source": [
    "## Tokenizer 설정\n",
    "SRC_VOCAB_SIZE = 12639  # 어휘 크기 설정(20000으로 했더니 오류 뜸)\n",
    "tokenizer = generate_tokenizer(preprocessed_train['conversation'], SRC_VOCAB_SIZE, 'ko')"
   ]
  },
  {
   "cell_type": "code",
   "execution_count": 19,
   "id": "dc6cebe6",
   "metadata": {},
   "outputs": [],
   "source": [
    "MAX_NB_WORDS = 50000\n",
    "MAX_SEQUENCE_LENGTH = 400\n",
    "EMBEDDING_DIM = 256"
   ]
  },
  {
   "cell_type": "code",
   "execution_count": 20,
   "id": "2175fa78",
   "metadata": {},
   "outputs": [
    {
     "name": "stdout",
     "output_type": "stream",
     "text": [
      "원본 데이터 크기: 4976\n",
      "전처리 후 데이터 크기: 4838\n"
     ]
    }
   ],
   "source": [
    "## 문장 길이를 제한하여 필터링\n",
    "MAX_SEQUENCE_LENGTH = 400  # 문장 길이를 400자로 제한\n",
    "\n",
    "filtered_train = preprocessed_train[preprocessed_train['conversation'].apply(len) <= MAX_SEQUENCE_LENGTH]\n",
    "print(\"원본 데이터 크기:\", len(preprocessed_train))\n",
    "print(\"전처리 후 데이터 크기:\", len(filtered_train))"
   ]
  },
  {
   "cell_type": "code",
   "execution_count": 21,
   "id": "4c29215b",
   "metadata": {},
   "outputs": [
    {
     "data": {
      "text/html": [
       "<div>\n",
       "<style scoped>\n",
       "    .dataframe tbody tr th:only-of-type {\n",
       "        vertical-align: middle;\n",
       "    }\n",
       "\n",
       "    .dataframe tbody tr th {\n",
       "        vertical-align: top;\n",
       "    }\n",
       "\n",
       "    .dataframe thead th {\n",
       "        text-align: right;\n",
       "    }\n",
       "</style>\n",
       "<table border=\"1\" class=\"dataframe\">\n",
       "  <thead>\n",
       "    <tr style=\"text-align: right;\">\n",
       "      <th></th>\n",
       "      <th>text</th>\n",
       "    </tr>\n",
       "  </thead>\n",
       "  <tbody>\n",
       "    <tr>\n",
       "      <th>t_000</th>\n",
       "      <td>아가씨 담배한갑주소 네 4500원입니다 어 네 지갑어디갔지 에이 버스에서 잃어버렸나...</td>\n",
       "    </tr>\n",
       "    <tr>\n",
       "      <th>t_001</th>\n",
       "      <td>우리팀에서 다른팀으로 갈 사람 없나? 그럼 영지씨가 가는건 어때?  네? 제가요? ...</td>\n",
       "    </tr>\n",
       "    <tr>\n",
       "      <th>t_002</th>\n",
       "      <td>너 오늘 그게 뭐야 네 제가 뭘 잘못했나요.? 제대로 좀 하지 네 똑바로 좀 하지 ...</td>\n",
       "    </tr>\n",
       "    <tr>\n",
       "      <th>t_003</th>\n",
       "      <td>이거 들어바 와 이 노래 진짜 좋다 그치 요즘 이 것만 들어 진짜 너무 좋다 내가 ...</td>\n",
       "    </tr>\n",
       "    <tr>\n",
       "      <th>t_004</th>\n",
       "      <td>아무튼 앞으로 니가 내 와이파이야. .응 와이파이 온. 켰어. 반말? 주인님이라고도...</td>\n",
       "    </tr>\n",
       "  </tbody>\n",
       "</table>\n",
       "</div>"
      ],
      "text/plain": [
       "                                                    text\n",
       "t_000  아가씨 담배한갑주소 네 4500원입니다 어 네 지갑어디갔지 에이 버스에서 잃어버렸나...\n",
       "t_001  우리팀에서 다른팀으로 갈 사람 없나? 그럼 영지씨가 가는건 어때?  네? 제가요? ...\n",
       "t_002  너 오늘 그게 뭐야 네 제가 뭘 잘못했나요.? 제대로 좀 하지 네 똑바로 좀 하지 ...\n",
       "t_003  이거 들어바 와 이 노래 진짜 좋다 그치 요즘 이 것만 들어 진짜 너무 좋다 내가 ...\n",
       "t_004  아무튼 앞으로 니가 내 와이파이야. .응 와이파이 온. 켰어. 반말? 주인님이라고도..."
      ]
     },
     "execution_count": 21,
     "metadata": {},
     "output_type": "execute_result"
    }
   ],
   "source": [
    "## 테스트 데이터 로드 및 전처리\n",
    "test_data_path = \"~/data/test.json\"\n",
    "test_data = pd.read_json(test_data_path)\n",
    "test_data = test_data.T\n",
    "test_data.head()"
   ]
  },
  {
   "cell_type": "code",
   "execution_count": 22,
   "id": "4ce001d1",
   "metadata": {},
   "outputs": [],
   "source": [
    "# 패딩 처리\n",
    "pad_train = tf.keras.preprocessing.sequence.pad_sequences(\n",
    "    [tokenizer.encode_as_ids(sentence) for sentence in filtered_train['conversation']],\n",
    "    maxlen=MAX_SEQUENCE_LENGTH,  # 최대 시퀀스 길이 지정\n",
    "    padding='post',              # 문장의 뒤쪽에 패딩 추가\n",
    "    value=0                      # 패딩에 사용할 값 (SentencePiece에서 pad_id로 설정된 값이 0이라면 그대로 둡니다)\n",
    ")\n"
   ]
  },
  {
   "cell_type": "code",
   "execution_count": 23,
   "id": "a2434193",
   "metadata": {},
   "outputs": [
    {
     "name": "stdout",
     "output_type": "stream",
     "text": [
      "[[   35   831   154 ...     0     0     0]\n",
      " [  593   353    21 ...     0     0     0]\n",
      " [ 1251 10601    48 ...     0     0     0]\n",
      " ...\n",
      " [  104  2838   937 ...     0     0     0]\n",
      " [  306   331   311 ...     0     0     0]\n",
      " [ 3014  1828   486 ...     0     0     0]]\n"
     ]
    }
   ],
   "source": [
    "print(pad_train)"
   ]
  },
  {
   "cell_type": "code",
   "execution_count": 24,
   "id": "9ed374f7",
   "metadata": {},
   "outputs": [
    {
     "data": {
      "text/plain": [
       "(4838, 400)"
      ]
     },
     "execution_count": 24,
     "metadata": {},
     "output_type": "execute_result"
    }
   ],
   "source": [
    "pad_train.shape"
   ]
  },
  {
   "cell_type": "code",
   "execution_count": 29,
   "id": "76699107",
   "metadata": {},
   "outputs": [
    {
     "name": "stdout",
     "output_type": "stream",
     "text": [
      "Shape of label tensor: (4838, 5)\n"
     ]
    }
   ],
   "source": [
    "# 원-핫 인코딩으로 변환\n",
    "Y = pd.get_dummies(filtered_train['class']).values\n",
    "print('Shape of label tensor:', Y.shape)"
   ]
  },
  {
   "cell_type": "code",
   "execution_count": 27,
   "id": "6a741920",
   "metadata": {},
   "outputs": [
    {
     "name": "stdout",
     "output_type": "stream",
     "text": [
      "(4354, 400) (4354, 5)\n",
      "(484, 400) (484, 5)\n"
     ]
    }
   ],
   "source": [
    "#훈련 데이터와 검증 데이터를 나눔\n",
    "X_train, X_val, Y_train, Y_val = train_test_split(pad_train, Y, test_size=0.10, random_state=42)\n",
    "print(X_train.shape,Y_train.shape)\n",
    "print(X_val.shape,Y_val.shape)"
   ]
  },
  {
   "cell_type": "markdown",
   "id": "a197dba4",
   "metadata": {},
   "source": [
    "# LSTM"
   ]
  },
  {
   "cell_type": "code",
   "execution_count": 30,
   "id": "c5257ca6",
   "metadata": {},
   "outputs": [
    {
     "name": "stdout",
     "output_type": "stream",
     "text": [
      "WARNING:tensorflow:Layer lstm will not use cuDNN kernels since it doesn't meet the criteria. It will use a generic GPU kernel as fallback when running on GPU.\n",
      "Epoch 1/100\n",
      "69/69 [==============================] - 109s 1s/step - loss: 1.6097 - accuracy: 0.2044 - val_loss: 1.6089 - val_accuracy: 0.2438\n",
      "Epoch 2/100\n",
      "69/69 [==============================] - 94s 1s/step - loss: 1.6093 - accuracy: 0.2097 - val_loss: 1.6076 - val_accuracy: 0.2438\n",
      "Epoch 3/100\n",
      "69/69 [==============================] - 94s 1s/step - loss: 1.6083 - accuracy: 0.2157 - val_loss: 1.6136 - val_accuracy: 0.1880\n",
      "Epoch 4/100\n",
      "69/69 [==============================] - 94s 1s/step - loss: 1.6094 - accuracy: 0.2049 - val_loss: 1.6092 - val_accuracy: 0.1839\n",
      "Epoch 5/100\n",
      "69/69 [==============================] - 94s 1s/step - loss: 1.6087 - accuracy: 0.2056 - val_loss: 1.6086 - val_accuracy: 0.2438\n"
     ]
    }
   ],
   "source": [
    "from tensorflow.keras.models import Sequential\n",
    "from tensorflow.keras.layers import Embedding, SpatialDropout1D, LSTM, Dense\n",
    "from tensorflow.keras.callbacks import EarlyStopping\n",
    "\n",
    "# 모델 생성\n",
    "model = Sequential()\n",
    "model.add(Embedding(SRC_VOCAB_SIZE, EMBEDDING_DIM, input_length=X_train.shape[1]))  # SRC_VOCAB_SIZE로 수정\n",
    "model.add(SpatialDropout1D(0.2))\n",
    "model.add(LSTM(100, dropout=0.2, recurrent_dropout=0.2))\n",
    "model.add(Dense(5, activation='softmax'))  # 클래스 수 5로 수정\n",
    "\n",
    "# 모델 컴파일\n",
    "model.compile(loss='categorical_crossentropy', optimizer='adam', metrics=['accuracy'])\n",
    "\n",
    "# 학습 파라미터 설정\n",
    "epochs = 100\n",
    "batch_size = 64\n",
    "\n",
    "# 모델 학습\n",
    "history = model.fit(\n",
    "    X_train, Y_train,\n",
    "    epochs=epochs,\n",
    "    batch_size=batch_size,\n",
    "    validation_data=(X_val, Y_val),  \n",
    "    callbacks=[EarlyStopping(monitor='val_loss', patience=3, min_delta=0.0001)]\n",
    ")"
   ]
  },
  {
   "cell_type": "code",
   "execution_count": 31,
   "id": "fcd4177d",
   "metadata": {},
   "outputs": [
    {
     "data": {
      "image/png": "[encoded data removed]",
      "text/plain": [
       "<Figure size 432x288 with 1 Axes>"
      ]
     },
     "metadata": {
      "needs_background": "light"
     },
     "output_type": "display_data"
    }
   ],
   "source": [
    "plt.title('Loss')\n",
    "plt.plot(history.history['loss'], label='train')\n",
    "plt.plot(history.history['val_loss'], label='test')\n",
    "plt.legend()\n",
    "plt.show();"
   ]
  },
  {
   "cell_type": "code",
   "execution_count": 32,
   "id": "db49430b",
   "metadata": {},
   "outputs": [
    {
     "data": {
      "image/png": "[encoded data removed]",
      "text/plain": [
       "<Figure size 432x288 with 1 Axes>"
      ]
     },
     "metadata": {
      "needs_background": "light"
     },
     "output_type": "display_data"
    }
   ],
   "source": [
    "plt.title('Accuracy')\n",
    "plt.plot(history.history['accuracy'], label='train')\n",
    "plt.plot(history.history['val_accuracy'], label='test')\n",
    "plt.legend()\n",
    "plt.show()"
   ]
  },
  {
   "cell_type": "markdown",
   "id": "e8508d89",
   "metadata": {},
   "source": [
    "# F1 스코어 확인하기"
   ]
  },
  {
   "cell_type": "code",
   "execution_count": 34,
   "id": "0b4ff5c0",
   "metadata": {},
   "outputs": [
    {
     "name": "stdout",
     "output_type": "stream",
     "text": [
      "F1 Score: 0.09557672771203428\n"
     ]
    }
   ],
   "source": [
    "from sklearn.metrics import f1_score\n",
    "import numpy as np\n",
    "\n",
    "# 모델 예측 (검증 데이터를 사용하여 예측)\n",
    "y_pred = model.predict(X_val)\n",
    "\n",
    "# 예측 결과를 클래스 레이블로 변환 (가장 높은 확률을 가지는 인덱스를 선택)\n",
    "y_pred_classes = np.argmax(y_pred, axis=1)\n",
    "\n",
    "# 실제 값도 원-핫 인코딩을 클래스 레이블로 변환\n",
    "y_true = np.argmax(Y_val, axis=1)\n",
    "\n",
    "# F1 스코어 계산 (다중 클래스 분류에서는 average='weighted' 또는 'macro'를 사용할 수 있음)\n",
    "f1 = f1_score(y_true, y_pred_classes, average='weighted')\n",
    "\n",
    "print(f'F1 Score: {f1}')"
   ]
  }
 ],
 "metadata": {
  "kernelspec": {
   "display_name": "Python 3 (ipykernel)",
   "language": "python",
   "name": "python3"
  },
  "language_info": {
   "codemirror_mode": {
    "name": "ipython",
    "version": 3
   },
   "file_extension": ".py",
   "mimetype": "text/x-python",
   "name": "python",
   "nbconvert_exporter": "python",
   "pygments_lexer": "ipython3",
   "version": "3.9.7"
  }
 },
 "nbformat": 4,
 "nbformat_minor": 5
}
