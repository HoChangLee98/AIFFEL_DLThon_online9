{
 "cells": [
  {
   "cell_type": "markdown",
   "id": "75e3cb7b",
   "metadata": {},
   "source": [
    "# 데이터 불러오기\n",
    "- 데이터 형태는 \n",
    "- X = (3950, 20)과 같이 (전체 데이터 개수, voca_size)\n",
    "- y = (3950,1) 과같이 (전체 데이터 개수, 정수)"
   ]
  },
  {
   "cell_type": "code",
   "execution_count": 1,
   "id": "db782d45",
   "metadata": {},
   "outputs": [],
   "source": [
    "import numpy as np\n",
    "import pandas as pd\n",
    "import os\n",
    "import tensorflow as tf\n",
    "from tensorflow import keras\n",
    "from sklearn.model_selection import train_test_split\n",
    "import wandb\n",
    "# from wandb.keras import WandbCallback\n",
    "from sklearn.preprocessing import LabelEncoder"
   ]
  },
  {
   "cell_type": "code",
   "execution_count": 2,
   "id": "dfc550e0",
   "metadata": {},
   "outputs": [],
   "source": [
    "train_data_path =\"/aiffel/aiffel/dlthon_team5/data/train.csv\"\n",
    "train_data = pd.read_csv(train_data_path)\n",
    "\n",
    "# 클래스 한글이름을 숫자로 변경 - (사빈님 수정예정)\n",
    "CLASS_NAMES = ['협박 대화', '갈취 대화', '직장 내 괴롭힘 대화', '기타 괴롭힘 대화']\n",
    "encoder = LabelEncoder()\n",
    "encoder.fit(CLASS_NAMES)\n",
    "train_data['class'] = encoder.transform(train_data['class'])\n",
    "\n",
    "corpus = train_data[\"conversation\"]"
   ]
  },
  {
   "cell_type": "code",
   "execution_count": 3,
   "id": "6993e8d2",
   "metadata": {},
   "outputs": [
    {
     "name": "stdout",
     "output_type": "stream",
     "text": [
      "[[  1 210   1 ...   1  41   1]\n",
      " [  1   1   1 ...   1   1 396]\n",
      " [  1  96   1 ...   1 125   1]\n",
      " ...\n",
      " [485   3 113 ...  27   1   1]\n",
      " [  1   1 152 ... 350   1   1]\n",
      " [  1   1   1 ... 156 114   1]] <keras_preprocessing.text.Tokenizer object at 0x79e94866d910>\n"
     ]
    }
   ],
   "source": [
    "# 토큰화 + encoding 진행 \n",
    "# 변수 = voca_size, 토큰화 방법\n",
    "\n",
    "def tokenize(corpus):\n",
    "    tokenizer = tf.keras.preprocessing.text.Tokenizer(\n",
    "        num_words=1000, \n",
    "        filters=' ',\n",
    "        oov_token=\"<unk>\")\n",
    "    tokenizer.fit_on_texts(corpus)\n",
    "    tensor = tokenizer.texts_to_sequences(corpus)   \n",
    "    tensor = tf.keras.preprocessing.sequence.pad_sequences(tensor, padding='post',maxlen=20)  \n",
    "    \n",
    "    print(tensor,tokenizer)\n",
    "    return tensor, tokenizer\n",
    "\n",
    "tensor, tokenizer = tokenize(corpus)"
   ]
  },
  {
   "cell_type": "code",
   "execution_count": 4,
   "id": "452ec920",
   "metadata": {},
   "outputs": [
    {
     "data": {
      "text/plain": [
       "(3950, 20)"
      ]
     },
     "execution_count": 4,
     "metadata": {},
     "output_type": "execute_result"
    }
   ],
   "source": [
    "# (데이터 개수, max_length)\n",
    "tensor.shape"
   ]
  },
  {
   "cell_type": "code",
   "execution_count": 5,
   "id": "e0e711b6",
   "metadata": {},
   "outputs": [],
   "source": [
    "# 학습 데이터셋과 val 그리고 필요하다면 test 데이터셋 준비\n",
    "X_train = tensor[:3500]\n",
    "y_train = train_data['class'][:3500]\n",
    "X_val = tensor[3500:3850]\n",
    "y_val = train_data['class'][3500:3850]\n",
    "X_test = tensor[3850:]\n",
    "y_test = train_data['class'][3850:]"
   ]
  },
  {
   "cell_type": "code",
   "execution_count": 6,
   "id": "c4b2f868",
   "metadata": {},
   "outputs": [],
   "source": [
    "# 배치 및 버퍼 크기\n",
    "BATCH_SIZE = 64\n",
    "BUFFER_SIZE = 10000\n",
    "\n",
    "# 학습용 데이터셋을 tf.data.Dataset으로 변환\n",
    "train_dataset = tf.data.Dataset.from_tensor_slices((\n",
    "    {\n",
    "        'inputs': X_train,   # 대화 데이터\n",
    "    },\n",
    "    {\n",
    "        'outputs': y_train,  # 분류 레이블\n",
    "    }\n",
    "))\n",
    "\n",
    "# 검증용 데이터셋을 tf.data.Dataset으로 변환\n",
    "val_dataset = tf.data.Dataset.from_tensor_slices((\n",
    "    {\n",
    "        'inputs': X_val,\n",
    "    },\n",
    "    {\n",
    "        'outputs': y_val,\n",
    "    }\n",
    "))\n",
    "\n",
    "# 테스트용 데이터셋을 tf.data.Dataset으로 변환\n",
    "test_dataset = tf.data.Dataset.from_tensor_slices((\n",
    "    {\n",
    "        'inputs': X_test,\n",
    "    },\n",
    "    {\n",
    "        'outputs': y_test,\n",
    "    }\n",
    "))\n",
    "\n",
    "# 데이터셋을 섞고, 배치 처리\n",
    "train_dataset = train_dataset.cache()\n",
    "train_dataset = train_dataset.shuffle(BUFFER_SIZE).batch(BATCH_SIZE)\n",
    "train_dataset = train_dataset.prefetch(tf.data.experimental.AUTOTUNE)\n",
    "\n",
    "val_dataset = val_dataset.batch(BATCH_SIZE)\n",
    "test_dataset = test_dataset.batch(BATCH_SIZE)"
   ]
  },
  {
   "cell_type": "markdown",
   "id": "8515372d",
   "metadata": {},
   "source": [
    "# 모델"
   ]
  },
  {
   "cell_type": "code",
   "execution_count": 7,
   "id": "f4458281",
   "metadata": {},
   "outputs": [],
   "source": [
    "class PositionalEncoding(tf.keras.layers.Layer):\n",
    "\n",
    "    def __init__(self, position, d_model):\n",
    "        super(PositionalEncoding, self).__init__()\n",
    "        self.pos_encoding = self.positional_encoding(position, d_model)\n",
    "\n",
    "    def get_angles(self, position, i, d_model):\n",
    "        angles = 1 / tf.pow(10000, (2 * (i // 2)) / tf.cast(d_model, tf.float32))\n",
    "        return position * angles\n",
    "\n",
    "    def positional_encoding(self, position, d_model):\n",
    "        # 각도 배열 생성\n",
    "        angle_rads = self.get_angles(\n",
    "            position=tf.range(position, dtype=tf.float32)[:, tf.newaxis],\n",
    "            i=tf.range(d_model, dtype=tf.float32)[tf.newaxis, :],\n",
    "            d_model=d_model)\n",
    "\n",
    "        # 배열의 짝수 인덱스에는 sin 함수 적용\n",
    "        sines = tf.math.sin(angle_rads[:, 0::2])\n",
    "        # 배열의 홀수 인덱스에는 cosine 함수 적용\n",
    "        cosines = tf.math.cos(angle_rads[:, 1::2])\n",
    "\n",
    "        # sin과 cosine이 교차되도록 재배열\n",
    "        pos_encoding = tf.stack([sines, cosines], axis=0)\n",
    "        pos_encoding = tf.transpose(pos_encoding,[1, 2, 0]) \n",
    "        pos_encoding = tf.reshape(pos_encoding, [position, d_model])\n",
    "\n",
    "        pos_encoding = pos_encoding[tf.newaxis, ...]\n",
    "        return tf.cast(pos_encoding, tf.float32)\n",
    "\n",
    "    def call(self, inputs):\n",
    "        return inputs + self.pos_encoding[:, :tf.shape(inputs)[1], :]"
   ]
  },
  {
   "cell_type": "code",
   "execution_count": 8,
   "id": "5233d99f",
   "metadata": {},
   "outputs": [],
   "source": [
    "def scaled_dot_product_attention(query, key, value, mask):\n",
    "    # 어텐션 가중치는 Q와 K의 닷 프로덕트\n",
    "    matmul_qk = tf.matmul(query, key, transpose_b=True)\n",
    "\n",
    "    # 가중치를 정규화\n",
    "    depth = tf.cast(tf.shape(key)[-1], tf.float32)\n",
    "    logits = matmul_qk / tf.math.sqrt(depth)\n",
    "\n",
    "    # 패딩에 마스크 추가\n",
    "    if mask is not None:\n",
    "        logits += (mask * -1e9)\n",
    "\n",
    "    # softmax적용\n",
    "    attention_weights = tf.nn.softmax(logits, axis=-1)\n",
    "\n",
    "    # 최종 어텐션은 가중치와 V의 닷 프로덕트\n",
    "    output = tf.matmul(attention_weights, value)\n",
    "    return output\n"
   ]
  },
  {
   "cell_type": "code",
   "execution_count": 9,
   "id": "aa3dc25e",
   "metadata": {},
   "outputs": [],
   "source": [
    "class MultiHeadAttention(tf.keras.layers.Layer):\n",
    "\n",
    "    def __init__(self, d_model, num_heads, name=\"multi_head_attention\"):\n",
    "        super(MultiHeadAttention, self).__init__(name=name)\n",
    "        self.num_heads = num_heads\n",
    "        self.d_model = d_model\n",
    "\n",
    "        assert d_model % self.num_heads == 0\n",
    "\n",
    "        self.depth = d_model // self.num_heads\n",
    "\n",
    "        self.query_dense = tf.keras.layers.Dense(units=d_model)\n",
    "        self.key_dense = tf.keras.layers.Dense(units=d_model)\n",
    "        self.value_dense = tf.keras.layers.Dense(units=d_model)\n",
    "\n",
    "        self.dense = tf.keras.layers.Dense(units=d_model)\n",
    "\n",
    "    def split_heads(self, inputs, batch_size):\n",
    "        inputs = tf.reshape(\n",
    "            inputs, shape=(batch_size, -1, self.num_heads, self.depth))\n",
    "        return tf.transpose(inputs, perm=[0, 2, 1, 3])\n",
    "\n",
    "    def call(self, inputs):\n",
    "        query, key, value, mask = inputs['query'], inputs['key'], inputs[\n",
    "            'value'], inputs['mask']\n",
    "        batch_size = tf.shape(query)[0]\n",
    "\n",
    "        # Q, K, V에 각각 Dense를 적용합니다\n",
    "        query = self.query_dense(query)\n",
    "        key = self.key_dense(key)\n",
    "        value = self.value_dense(value)\n",
    "\n",
    "        # 병렬 연산을 위한 머리를 여러 개 만듭니다\n",
    "        query = self.split_heads(query, batch_size)\n",
    "        key = self.split_heads(key, batch_size)\n",
    "        value = self.split_heads(value, batch_size)\n",
    "\n",
    "        # 스케일드 닷 프로덕트 어텐션 함수\n",
    "        scaled_attention = scaled_dot_product_attention(query, key, value, mask)\n",
    "\n",
    "        scaled_attention = tf.transpose(scaled_attention, perm=[0, 2, 1, 3])\n",
    "\n",
    "        # 어텐션 연산 후에 각 결과를 다시 연결(concatenate)합니다\n",
    "        concat_attention = tf.reshape(scaled_attention,\n",
    "                                      (batch_size, -1, self.d_model))\n",
    "\n",
    "        # 최종 결과에도 Dense를 한 번 더 적용합니다\n",
    "        outputs = self.dense(concat_attention)\n",
    "\n",
    "        return outputs"
   ]
  },
  {
   "cell_type": "code",
   "execution_count": 10,
   "id": "060533f3",
   "metadata": {},
   "outputs": [],
   "source": [
    "def create_padding_mask(x):\n",
    "    mask = tf.cast(tf.math.equal(x, 0), tf.float32)\n",
    "    # (batch_size, 1, 1, sequence length)\n",
    "    return mask[:, tf.newaxis, tf.newaxis, :]"
   ]
  },
  {
   "cell_type": "code",
   "execution_count": 11,
   "id": "03459566",
   "metadata": {},
   "outputs": [],
   "source": [
    "def encoder_layer(units, d_model, num_heads, dropout, name=\"encoder_layer\"):\n",
    "    inputs = tf.keras.Input(shape=(None, d_model), name=\"inputs\")\n",
    "\n",
    "    # 패딩 마스크 사용\n",
    "    padding_mask = tf.keras.Input(shape=(1, 1, None), name=\"padding_mask\")\n",
    "\n",
    "    # 첫 번째 서브 레이어 : 멀티 헤드 어텐션 수행 (셀프 어텐션)\n",
    "    attention = MultiHeadAttention(\n",
    "      d_model, num_heads, name=\"attention\")({\n",
    "          'query': inputs,\n",
    "          'key': inputs,\n",
    "          'value': inputs,\n",
    "          'mask': padding_mask\n",
    "      })\n",
    "\n",
    "    # 어텐션의 결과는 Dropout과 Layer Normalization이라는 훈련을 돕는 테크닉을 수행\n",
    "    attention = tf.keras.layers.Dropout(rate=dropout)(attention)\n",
    "    attention = tf.keras.layers.LayerNormalization(\n",
    "      epsilon=1e-6)(inputs + attention)\n",
    "\n",
    "    # 두 번째 서브 레이어 : 2개의 완전연결층\n",
    "    outputs = tf.keras.layers.Dense(units=units, activation='relu')(attention)\n",
    "    outputs = tf.keras.layers.Dense(units=d_model)(outputs)\n",
    "\n",
    "    # 완전연결층의 결과는 Dropout과 LayerNormalization이라는 훈련을 돕는 테크닉을 수행\n",
    "    outputs = tf.keras.layers.Dropout(rate=dropout)(outputs)\n",
    "    outputs = tf.keras.layers.LayerNormalization(\n",
    "      epsilon=1e-6)(attention + outputs)\n",
    "\n",
    "    return tf.keras.Model(\n",
    "      inputs=[inputs, padding_mask], outputs=outputs, name=name)"
   ]
  },
  {
   "cell_type": "code",
   "execution_count": 12,
   "id": "e4dd3423",
   "metadata": {},
   "outputs": [],
   "source": [
    "def encoder(vocab_size,\n",
    "            num_layers,\n",
    "            units,\n",
    "            d_model,\n",
    "            num_heads,\n",
    "            dropout,\n",
    "            name=\"encoder\"):\n",
    "    inputs = tf.keras.Input(shape=(None,), name=\"inputs\")\n",
    "\n",
    "    # 패딩 마스크 사용\n",
    "    padding_mask = tf.keras.Input(shape=(1, 1, None), name=\"padding_mask\")\n",
    "\n",
    "    # 임베딩 레이어\n",
    "    embeddings = tf.keras.layers.Embedding(vocab_size, d_model)(inputs)\n",
    "    embeddings *= tf.math.sqrt(tf.cast(d_model, tf.float32))\n",
    "\n",
    "    # 포지셔널 인코딩\n",
    "    embeddings = PositionalEncoding(vocab_size, d_model)(embeddings)\n",
    "\n",
    "    outputs = tf.keras.layers.Dropout(rate=dropout)(embeddings)\n",
    "\n",
    "    # num_layers만큼 쌓아올린 인코더의 층.\n",
    "    for i in range(num_layers):\n",
    "        outputs = encoder_layer(\n",
    "            units=units,\n",
    "            d_model=d_model,\n",
    "            num_heads=num_heads,\n",
    "            dropout=dropout,\n",
    "            name=\"encoder_layer_{}\".format(i),\n",
    "        )([outputs, padding_mask])\n",
    "\n",
    "    return tf.keras.Model(\n",
    "        inputs=[inputs, padding_mask], outputs=outputs, name=name)"
   ]
  },
  {
   "cell_type": "code",
   "execution_count": 13,
   "id": "d82bc957",
   "metadata": {},
   "outputs": [],
   "source": [
    "def transformer(vocab_size,\n",
    "                num_layers,\n",
    "                units,\n",
    "                d_model,\n",
    "                num_heads,\n",
    "                dropout,\n",
    "                name=\"transformer\"):\n",
    "    inputs = tf.keras.Input(shape=(None,), name=\"inputs\")\n",
    "\n",
    "    # 인코더에서 패딩을 위한 마스크\n",
    "    enc_padding_mask = tf.keras.layers.Lambda(\n",
    "      create_padding_mask, output_shape=(1, 1, None),\n",
    "      name='enc_padding_mask')(inputs)\n",
    "\n",
    "    # 인코더\n",
    "    enc_outputs = encoder(\n",
    "      vocab_size=vocab_size,\n",
    "      num_layers=num_layers,\n",
    "      units=units,\n",
    "      d_model=d_model,\n",
    "      num_heads=num_heads,\n",
    "      dropout=dropout,\n",
    "    )(inputs=[inputs, enc_padding_mask])\n",
    "    \n",
    "    pooled_outputs = tf.keras.layers.GlobalAveragePooling1D()(enc_outputs)\n",
    "    pooled_outputs = tf.keras.layers.Dropout(rate=dropout)(pooled_outputs)\n",
    "    \n",
    "    # encoder output size = (batch_size, sentence_length, embedding_dim)\n",
    "    # 분류 문제를 위한 완전 연결층\n",
    "    # 완전연결층\n",
    "    outputs = tf.keras.layers.Dense(units=1028, activation='relu', name=\"linear_hidden_layer\")(pooled_outputs)\n",
    "    outputs = tf.keras.layers.Dense(units=5, activation='softmax', name=\"outputs\")(outputs)\n",
    "\n",
    "    return tf.keras.Model(inputs=inputs, outputs=outputs, name=name)"
   ]
  },
  {
   "cell_type": "code",
   "execution_count": 14,
   "id": "c5063054",
   "metadata": {},
   "outputs": [
    {
     "name": "stdout",
     "output_type": "stream",
     "text": [
      "Model: \"transformer\"\n",
      "__________________________________________________________________________________________________\n",
      "Layer (type)                    Output Shape         Param #     Connected to                     \n",
      "==================================================================================================\n",
      "inputs (InputLayer)             [(None, None)]       0                                            \n",
      "__________________________________________________________________________________________________\n",
      "enc_padding_mask (Lambda)       (None, 1, 1, None)   0           inputs[0][0]                     \n",
      "__________________________________________________________________________________________________\n",
      "encoder (Functional)            (None, None, 256)    1310208     inputs[0][0]                     \n",
      "                                                                 enc_padding_mask[0][0]           \n",
      "__________________________________________________________________________________________________\n",
      "global_average_pooling1d (Globa (None, 256)          0           encoder[0][0]                    \n",
      "__________________________________________________________________________________________________\n",
      "dropout_5 (Dropout)             (None, 256)          0           global_average_pooling1d[0][0]   \n",
      "__________________________________________________________________________________________________\n",
      "linear_hidden_layer (Dense)     (None, 1028)         264196      dropout_5[0][0]                  \n",
      "__________________________________________________________________________________________________\n",
      "outputs (Dense)                 (None, 5)            5145        linear_hidden_layer[0][0]        \n",
      "==================================================================================================\n",
      "Total params: 1,579,549\n",
      "Trainable params: 1,579,549\n",
      "Non-trainable params: 0\n",
      "__________________________________________________________________________________________________\n"
     ]
    }
   ],
   "source": [
    "tf.keras.backend.clear_session()\n",
    "\n",
    "# 하이퍼파라미터\n",
    "\n",
    "VOCAB_SIZE = 1000\n",
    "\n",
    "NUM_LAYERS = 2 # 인코더와 디코더의 층의 개수\n",
    "D_MODEL = 256 # 인코더와 디코더 내부의 입, 출력의 고정 차원\n",
    "NUM_HEADS = 8 # 멀티 헤드 어텐션에서의 헤드 수 \n",
    "UNITS = 512 # 피드 포워드 신경망의 은닉층의 크기\n",
    "DROPOUT = 0.1 # 드롭아웃의 비율\n",
    "\n",
    "model = transformer(\n",
    "    vocab_size=VOCAB_SIZE,\n",
    "    num_layers=NUM_LAYERS,\n",
    "    units=UNITS,\n",
    "    d_model=D_MODEL,\n",
    "    num_heads=NUM_HEADS,\n",
    "    dropout=DROPOUT)\n",
    "\n",
    "model.summary()"
   ]
  },
  {
   "cell_type": "code",
   "execution_count": 15,
   "id": "1e8d6b9f",
   "metadata": {},
   "outputs": [],
   "source": [
    "def loss_function(y_true, y_pred):\n",
    "#     num_classes = 5\n",
    "#     y_true = tf.one_hot(y_true, depth=num_classes)\n",
    "    y_true = tf.squeeze(y_true, axis=-1)\n",
    "    # softmax 함수를 통과한 값이 나오기때문에 False를 사용\n",
    "    loss = tf.keras.losses.SparseCategoricalCrossentropy(\n",
    "        from_logits=False)(y_true, y_pred)\n",
    "\n",
    "#     mask = tf.cast(tf.not_equal(y_true, 0), tf.float32)\n",
    "#     loss = tf.multiply(loss, mask)\n",
    "\n",
    "    return tf.reduce_mean(loss)"
   ]
  },
  {
   "cell_type": "code",
   "execution_count": 16,
   "id": "9d5c5728",
   "metadata": {},
   "outputs": [],
   "source": [
    "class CustomSchedule(tf.keras.optimizers.schedules.LearningRateSchedule):\n",
    "\n",
    "    def __init__(self, d_model, warmup_steps=4000):\n",
    "        super(CustomSchedule, self).__init__()\n",
    "\n",
    "        self.d_model = d_model\n",
    "        self.d_model = tf.cast(self.d_model, tf.float32)\n",
    "\n",
    "        self.warmup_steps = warmup_steps\n",
    "\n",
    "    def __call__(self, step):\n",
    "        arg1 = tf.math.rsqrt(step)\n",
    "        arg2 = step * (self.warmup_steps**-1.5)\n",
    "\n",
    "        return tf.math.rsqrt(self.d_model) * tf.math.minimum(arg1, arg2)"
   ]
  },
  {
   "cell_type": "code",
   "execution_count": 17,
   "id": "b2bdb869",
   "metadata": {},
   "outputs": [],
   "source": [
    "learning_rate = CustomSchedule(D_MODEL)\n",
    "\n",
    "optimizer = tf.keras.optimizers.Adam(\n",
    "    learning_rate, beta_1=0.9, beta_2=0.98, epsilon=1e-9)\n",
    "\n",
    "def accuracy(y_true, y_pred):\n",
    "    return tf.keras.metrics.sparse_categorical_accuracy(y_true, y_pred)\n",
    "\n",
    "model.compile(optimizer=optimizer, loss=loss_function, metrics=[accuracy])"
   ]
  },
  {
   "cell_type": "code",
   "execution_count": 18,
   "id": "a3228630",
   "metadata": {},
   "outputs": [
    {
     "name": "stdout",
     "output_type": "stream",
     "text": [
      "Epoch 1/10\n",
      "55/55 [==============================] - 17s 23ms/step - loss: 1.5006 - accuracy: 0.2429 - val_loss: 1.4138 - val_accuracy: 0.2571\n",
      "Epoch 2/10\n",
      "55/55 [==============================] - 1s 11ms/step - loss: 1.4078 - accuracy: 0.2577 - val_loss: 1.4142 - val_accuracy: 0.2714\n",
      "Epoch 3/10\n",
      "55/55 [==============================] - 1s 11ms/step - loss: 1.3845 - accuracy: 0.3017 - val_loss: 1.3620 - val_accuracy: 0.3743\n",
      "Epoch 4/10\n",
      "55/55 [==============================] - 1s 11ms/step - loss: 1.3410 - accuracy: 0.3617 - val_loss: 1.2894 - val_accuracy: 0.3943\n",
      "Epoch 5/10\n",
      "55/55 [==============================] - 1s 11ms/step - loss: 1.2356 - accuracy: 0.4391 - val_loss: 1.1583 - val_accuracy: 0.5143\n",
      "Epoch 6/10\n",
      "55/55 [==============================] - 1s 11ms/step - loss: 1.0995 - accuracy: 0.5237 - val_loss: 1.0758 - val_accuracy: 0.5514\n",
      "Epoch 7/10\n",
      "55/55 [==============================] - 1s 11ms/step - loss: 0.9873 - accuracy: 0.5917 - val_loss: 0.9838 - val_accuracy: 0.6200\n",
      "Epoch 8/10\n",
      "55/55 [==============================] - 1s 11ms/step - loss: 0.8670 - accuracy: 0.6597 - val_loss: 0.9697 - val_accuracy: 0.6114\n",
      "Epoch 9/10\n",
      "55/55 [==============================] - 1s 12ms/step - loss: 0.7672 - accuracy: 0.6954 - val_loss: 1.0056 - val_accuracy: 0.6286\n",
      "Epoch 10/10\n",
      "55/55 [==============================] - 1s 11ms/step - loss: 0.6924 - accuracy: 0.7354 - val_loss: 1.0372 - val_accuracy: 0.6114\n"
     ]
    }
   ],
   "source": [
    "EPOCHS = 10\n",
    "history = model.fit(\n",
    "    train_dataset,\n",
    "    validation_data=val_dataset,  # 검증 데이터셋 추가\n",
    "    epochs=EPOCHS,\n",
    "    verbose=1\n",
    ")"
   ]
  },
  {
   "cell_type": "code",
   "execution_count": 19,
   "id": "550bc71e",
   "metadata": {},
   "outputs": [
    {
     "data": {
      "text/plain": [
       "Text(0.5, 1.0, 'train_acc')"
      ]
     },
     "execution_count": 19,
     "metadata": {},
     "output_type": "execute_result"
    },
    {
     "data": {
      "image/png": "[encoded data removed]",
      "text/plain": [
       "<Figure size 864x864 with 2 Axes>"
      ]
     },
     "metadata": {
      "needs_background": "light"
     },
     "output_type": "display_data"
    }
   ],
   "source": [
    "import matplotlib.pyplot as plt\n",
    "\n",
    "fig, axs = plt.subplots(2,1, figsize=(12,12))\n",
    "\n",
    "axs[0].plot(history.history['loss'], label='train')\n",
    "axs[0].plot(history.history['val_loss'], label='train')\n",
    "axs[0].set_title('train_loss')\n",
    "axs[1].plot(history.history['accuracy'], label='train')\n",
    "axs[1].set_title('train_acc')"
   ]
  },
  {
   "cell_type": "code",
   "execution_count": 20,
   "id": "b1ce3f16",
   "metadata": {},
   "outputs": [
    {
     "name": "stdout",
     "output_type": "stream",
     "text": [
      "2/2 [==============================] - 0s 7ms/step - loss: 1.2193 - accuracy: 0.5800\n"
     ]
    },
    {
     "data": {
      "text/plain": [
       "[1.2192801237106323, 0.5799999833106995]"
      ]
     },
     "execution_count": 20,
     "metadata": {},
     "output_type": "execute_result"
    }
   ],
   "source": [
    "model.evaluate(test_dataset)"
   ]
  },
  {
   "cell_type": "markdown",
   "id": "deb617ba",
   "metadata": {},
   "source": [
    "# Submission\n",
    "\n"
   ]
  },
  {
   "cell_type": "code",
   "execution_count": 21,
   "id": "10d19c5a",
   "metadata": {},
   "outputs": [],
   "source": [
    "import os\n",
    "import sys\n",
    "sys.path.append(\"../\")\n",
    "\n",
    "## 경고 무시\n",
    "import warnings\n",
    "warnings.filterwarnings('ignore')\n",
    "\n",
    "## 시각화 툴\n",
    "import matplotlib.pyplot as plt\n",
    "import seaborn as sns\n",
    "\n",
    "## encoding \n",
    "from sklearn.preprocessing import LabelEncoder\n",
    "\n",
    "## vocabulary\n",
    "import tensorflow_datasets as tfds\n",
    "\n",
    "## preprocessor\n",
    "from custom_preprocessor import Preprocessor"
   ]
  },
  {
   "cell_type": "code",
   "execution_count": 22,
   "id": "dc1582d4",
   "metadata": {},
   "outputs": [],
   "source": [
    "preprocessor = Preprocessor()"
   ]
  },
  {
   "cell_type": "code",
   "execution_count": 23,
   "id": "000a03b0",
   "metadata": {},
   "outputs": [],
   "source": [
    "preprocessed_train, preprocessed_test = preprocessor.preprocess()"
   ]
  },
  {
   "cell_type": "code",
   "execution_count": 25,
   "id": "f8c32beb",
   "metadata": {},
   "outputs": [
    {
     "name": "stdout",
     "output_type": "stream",
     "text": [
      "[[  1 278 191 ...  31 595 987]\n",
      " [988   4 394 ... 302 172  20]\n",
      " [  1 180  71 ...  15   1  14]\n",
      " ...\n",
      " [  1 146   6 ...  14  12  88]\n",
      " [924 627 212 ...  18 823 360]\n",
      " [367   1   3 ... 286   1 374]] <keras_preprocessing.text.Tokenizer object at 0x79e880167c70>\n"
     ]
    }
   ],
   "source": [
    "# test 데이터셋 불러와서 text 부분 tokenize 진행\n",
    "text = preprocessed_test['text']\n",
    "test_tensor, tokenizer = tokenize(text)"
   ]
  },
  {
   "cell_type": "code",
   "execution_count": 26,
   "id": "fde6d228",
   "metadata": {},
   "outputs": [
    {
     "data": {
      "text/plain": [
       "(500, 20)"
      ]
     },
     "execution_count": 26,
     "metadata": {},
     "output_type": "execute_result"
    }
   ],
   "source": [
    "# 크기 확인\n",
    "test_tensor.shape"
   ]
  },
  {
   "cell_type": "code",
   "execution_count": 37,
   "id": "c8d90c39",
   "metadata": {},
   "outputs": [],
   "source": [
    "# 모델의 결과값은 5개의 클래스중 확률값을 가지고있는 상태\n",
    "# 가장큰 값을 가지도록 매칭해줘야함\n",
    "result_vec = model(test_tensor)\n",
    "y_pred = np.argmax(result_vec, axis=1)"
   ]
  },
  {
   "cell_type": "code",
   "execution_count": 59,
   "id": "c357ac24",
   "metadata": {},
   "outputs": [
    {
     "data": {
      "text/html": [
       "<div>\n",
       "<style scoped>\n",
       "    .dataframe tbody tr th:only-of-type {\n",
       "        vertical-align: middle;\n",
       "    }\n",
       "\n",
       "    .dataframe tbody tr th {\n",
       "        vertical-align: top;\n",
       "    }\n",
       "\n",
       "    .dataframe thead th {\n",
       "        text-align: right;\n",
       "    }\n",
       "</style>\n",
       "<table border=\"1\" class=\"dataframe\">\n",
       "  <thead>\n",
       "    <tr style=\"text-align: right;\">\n",
       "      <th></th>\n",
       "      <th>file_name</th>\n",
       "      <th>text</th>\n",
       "    </tr>\n",
       "  </thead>\n",
       "  <tbody>\n",
       "    <tr>\n",
       "      <th>0</th>\n",
       "      <td>t_000</td>\n",
       "      <td>아가씨 담배 한 갑주소 4500원 입니다 지갑 갔지 에이 버스 잃어버렸나 보네 취소...</td>\n",
       "    </tr>\n",
       "    <tr>\n",
       "      <th>1</th>\n",
       "      <td>t_001</td>\n",
       "      <td>팀 팀 갈 사람 없나 지씨 가는건 가요 2 달 만 파견 잘 갔다오면 승진 이야 는 ...</td>\n",
       "    </tr>\n",
       "    <tr>\n",
       "      <th>2</th>\n",
       "      <td>t_002</td>\n",
       "      <td>오늘 그게 뭐 뭘 잘 못 했나요 제대로 하지 똑바로 하지 행실 맘 안 들어 실천 할...</td>\n",
       "    </tr>\n",
       "    <tr>\n",
       "      <th>3</th>\n",
       "      <td>t_003</td>\n",
       "      <td>거 들어 바 노래 진짜 좋다 그치 요즘 만 들어 진짜 너무 좋다 내 요즘 듣는 도 ...</td>\n",
       "    </tr>\n",
       "    <tr>\n",
       "      <th>4</th>\n",
       "      <td>t_004</td>\n",
       "      <td>아무튼 앞 니 내 와이파이 와이파이 온 켰어 반말 주인 님 이라고도 말 해야지 켰습...</td>\n",
       "    </tr>\n",
       "    <tr>\n",
       "      <th>...</th>\n",
       "      <td>...</td>\n",
       "      <td>...</td>\n",
       "    </tr>\n",
       "    <tr>\n",
       "      <th>495</th>\n",
       "      <td>t_495</td>\n",
       "      <td>미나 씨 휴가 결제 올 리기 전 랑 상의 라고 말 한 거 기억 합니다 보고서 보니 ...</td>\n",
       "    </tr>\n",
       "    <tr>\n",
       "      <th>496</th>\n",
       "      <td>t_496</td>\n",
       "      <td>교수 님 논문 이름 없나요 논문 말 이야 지난 번 냈던 논문 요 그거 1 저자 쓴 ...</td>\n",
       "    </tr>\n",
       "    <tr>\n",
       "      <th>497</th>\n",
       "      <td>t_497</td>\n",
       "      <td>요 요 돈좀 줘 돈 없어요 돈 없어 지갑 은 폼 이니 진짜 없어요 줘 내 확인 할거...</td>\n",
       "    </tr>\n",
       "    <tr>\n",
       "      <th>498</th>\n",
       "      <td>t_498</td>\n",
       "      <td>빨리 안 뛰어와 환자 제대로 봤어 안 봤어 저녁 계속 보다가 지금 과장 님 께서 부...</td>\n",
       "    </tr>\n",
       "    <tr>\n",
       "      <th>499</th>\n",
       "      <td>t_499</td>\n",
       "      <td>엄마 돈 안 해주시면 정말 큰일 요 이유 도 말 하지 않고 몇번 째 니 경민 엄마 ...</td>\n",
       "    </tr>\n",
       "  </tbody>\n",
       "</table>\n",
       "<p>500 rows × 2 columns</p>\n",
       "</div>"
      ],
      "text/plain": [
       "    file_name                                               text\n",
       "0       t_000  아가씨 담배 한 갑주소 4500원 입니다 지갑 갔지 에이 버스 잃어버렸나 보네 취소...\n",
       "1       t_001  팀 팀 갈 사람 없나 지씨 가는건 가요 2 달 만 파견 잘 갔다오면 승진 이야 는 ...\n",
       "2       t_002  오늘 그게 뭐 뭘 잘 못 했나요 제대로 하지 똑바로 하지 행실 맘 안 들어 실천 할...\n",
       "3       t_003  거 들어 바 노래 진짜 좋다 그치 요즘 만 들어 진짜 너무 좋다 내 요즘 듣는 도 ...\n",
       "4       t_004  아무튼 앞 니 내 와이파이 와이파이 온 켰어 반말 주인 님 이라고도 말 해야지 켰습...\n",
       "..        ...                                                ...\n",
       "495     t_495  미나 씨 휴가 결제 올 리기 전 랑 상의 라고 말 한 거 기억 합니다 보고서 보니 ...\n",
       "496     t_496  교수 님 논문 이름 없나요 논문 말 이야 지난 번 냈던 논문 요 그거 1 저자 쓴 ...\n",
       "497     t_497  요 요 돈좀 줘 돈 없어요 돈 없어 지갑 은 폼 이니 진짜 없어요 줘 내 확인 할거...\n",
       "498     t_498  빨리 안 뛰어와 환자 제대로 봤어 안 봤어 저녁 계속 보다가 지금 과장 님 께서 부...\n",
       "499     t_499  엄마 돈 안 해주시면 정말 큰일 요 이유 도 말 하지 않고 몇번 째 니 경민 엄마 ...\n",
       "\n",
       "[500 rows x 2 columns]"
      ]
     },
     "execution_count": 59,
     "metadata": {},
     "output_type": "execute_result"
    }
   ],
   "source": [
    "preprocessed_test"
   ]
  },
  {
   "cell_type": "code",
   "execution_count": 58,
   "id": "6b5471f7",
   "metadata": {},
   "outputs": [
    {
     "data": {
      "text/plain": [
       "array([1, 1, 2, 3, 0, 1, 3, 1, 2, 2, 2, 2, 1, 2, 1, 3, 1, 3, 3, 0, 2, 2,\n",
       "       3, 2, 1, 2, 1, 1, 1, 1, 2, 0, 1, 3, 1, 1, 2, 2, 3, 0, 2, 1, 2, 1,\n",
       "       0, 2, 2, 2, 1, 3, 0, 1, 2, 1, 2, 3, 1, 1, 1, 0, 2, 1, 2, 1, 1, 3,\n",
       "       1, 1, 2, 1, 0, 1, 0, 2, 1, 1, 0, 3, 1, 1, 1, 2, 1, 1, 0, 1, 1, 1,\n",
       "       1, 2, 1, 2, 1, 1, 1, 3, 3, 2, 0, 1, 1, 3, 2, 1, 1, 3, 1, 2, 3, 1,\n",
       "       3, 1, 2, 0, 2, 1, 0, 3, 3, 1, 3, 0, 2, 3, 2, 2, 3, 1, 2, 3, 2, 1,\n",
       "       0, 1, 0, 1, 1, 1, 3, 1, 1, 0, 0, 1, 3, 1, 2, 2, 0, 3, 0, 2, 2, 3,\n",
       "       1, 2, 2, 0, 1, 1, 2, 1, 1, 2, 0, 3, 2, 3, 2, 3, 1, 1, 2, 1, 0, 0,\n",
       "       0, 1, 1, 1, 2, 2, 1, 1, 1, 2, 3, 1, 1, 0, 3, 1, 1, 1, 1, 1, 2, 2,\n",
       "       3, 3, 0, 2, 3, 1, 1, 2, 3, 3, 2, 0, 2, 1, 2, 1, 1, 2, 1, 0, 0, 2,\n",
       "       1, 1, 1, 0, 2, 3, 2, 2, 2, 2, 1, 1, 0, 3, 0, 1, 1, 1, 3, 1, 2, 3,\n",
       "       1, 1, 3, 3, 1, 3, 3, 1, 1, 2, 0, 1, 0, 1, 1, 0, 1, 2, 1, 2, 2, 2,\n",
       "       3, 1, 1, 2, 0, 1, 3, 0, 2, 3, 1, 1, 3, 0, 0, 2, 1, 1, 2, 3, 2, 2,\n",
       "       1, 1, 2, 1, 3, 2, 1, 0, 2, 0, 2, 3, 2, 2, 3, 2, 1, 0, 1, 0, 2, 1,\n",
       "       2, 0, 2, 1, 3, 1, 2, 1, 1, 1, 1, 2, 3, 0, 2, 3, 1, 3, 3, 1, 1, 1,\n",
       "       3, 0, 2, 2, 1, 3, 3, 2, 2, 3, 1, 0, 1, 3, 2, 2, 3, 1, 1, 1, 2, 3,\n",
       "       0, 1, 1, 1, 3, 1, 1, 1, 1, 0, 0, 1, 0, 1, 2, 1, 2, 0, 1, 1, 1, 1,\n",
       "       0, 1, 2, 0, 3, 2, 2, 0, 1, 0, 0, 1, 1, 0, 3, 3, 2, 2, 3, 2, 3, 0,\n",
       "       3, 0, 2, 3, 2, 1, 3, 0, 2, 2, 2, 3, 1, 1, 1, 2, 1, 3, 1, 3, 1, 1,\n",
       "       0, 0, 1, 2, 1, 0, 3, 1, 2, 1, 0, 1, 0, 0, 2, 3, 0, 1, 1, 2, 3, 2,\n",
       "       1, 1, 2, 1, 1, 1, 1, 3, 0, 3, 0, 2, 2, 1, 1, 0, 2, 3, 3, 2, 1, 1,\n",
       "       2, 3, 1, 2, 1, 0, 2, 3, 1, 0, 1, 3, 1, 0, 1, 2, 2, 2, 2, 2, 2, 1,\n",
       "       1, 3, 1, 1, 1, 1, 0, 2, 2, 1, 1, 1, 0, 1, 1, 3])"
      ]
     },
     "execution_count": 58,
     "metadata": {},
     "output_type": "execute_result"
    }
   ],
   "source": [
    "y_pred"
   ]
  },
  {
   "cell_type": "code",
   "execution_count": 54,
   "id": "170c61b3",
   "metadata": {},
   "outputs": [],
   "source": [
    "# 제출 파일 함수\n",
    "import os\n",
    "from os.path import join\n",
    "\n",
    "def save_submission(y_pred, user_name, f1_score=None):\n",
    "    data_path =\"/aiffel/aiffel/dlthon_team5/data\"\n",
    "    save_path =\"/aiffel/aiffel/dlthon_team5/submission\"\n",
    "    submission_path = join(data_path, 'new_submission.csv')\n",
    "    submission = pd.read_csv(submission_path)\n",
    "    submission['class'] = y_pred\n",
    "    submission_csv_path = '{}/submission_{}_f1score_{}.csv'.format(save_path, user_name, f1_score)\n",
    "    submission.to_csv(submission_csv_path, index=False)\n",
    "    print('{} saved!'.format(submission_csv_path))"
   ]
  },
  {
   "cell_type": "code",
   "execution_count": 56,
   "id": "4ab2a8eb",
   "metadata": {},
   "outputs": [
    {
     "name": "stdout",
     "output_type": "stream",
     "text": [
      "/aiffel/aiffel/dlthon_team5/submission/submission_phc_v1_f1score_0.57.csv saved!\n"
     ]
    }
   ],
   "source": [
    "# 뒤쪽 str값은 본인 이니셜과 버전을 작성하면됨\n",
    "save_submission(y_pred,'phc_v1','0.57')"
   ]
  },
  {
   "cell_type": "markdown",
   "id": "6f0ef4e1",
   "metadata": {},
   "source": [
    "# 하이퍼 파라미터 튜닝용 - 진행중"
   ]
  },
  {
   "cell_type": "code",
   "execution_count": null,
   "id": "c50848be",
   "metadata": {},
   "outputs": [],
   "source": [
    "sweep_config = {\n",
    "    \"name\": \"sweep_test_nlp\",\n",
    "    \"metric\": {\"name\": \"val_loss\", \"goal\": \"minimize\"},\n",
    "    \"method\": \"random\",\n",
    "    \"parameters\": {\n",
    "\n",
    "        \"epoch\" : {\n",
    "            \"distribution\" : \"int_uniform\",\n",
    "            \"min\" : 5,\n",
    "            \"max\" : 10\n",
    "            },\n",
    "        \n",
    "        \"DROPOUT\" : {\n",
    "            \"min\": 0.1,\n",
    "            \"max\": 0.4\n",
    "        }\n",
    "                    \n",
    "        }\n",
    "    }"
   ]
  },
  {
   "cell_type": "code",
   "execution_count": null,
   "id": "dc1bbe7a",
   "metadata": {},
   "outputs": [],
   "source": [
    "default_config = {\n",
    "        \"VOCAB_SIZE\" : 1000,\n",
    "        \"NUM_LAYERS\" : 2,\n",
    "        \"D_MODEL\" : 256,\n",
    "        \"NUM_HEADS\" : 8,\n",
    "        \"UNITS\" : 512,\n",
    "        \"DROPOUT\" : 0.1,\n",
    "        \"optimizer\" : \"adam\",\n",
    "        \"loss\" : \"sparse_categorical_crossentropy\",\n",
    "        \"metrics\" : [\"accuracy\"],\n",
    "        \"epoch\" : 5,\n",
    "        \"batch_size\" : 32\n",
    "}\n",
    "\n",
    "def accuracy(y_true, y_pred):\n",
    "    return tf.keras.metrics.sparse_categorical_accuracy(y_true, y_pred)\n",
    "\n",
    "def train(default_config):\n",
    "    \n",
    "    wandb.init(config = default_config)\n",
    "    config = wandb.config\n",
    "    \n",
    "    model = transformer(\n",
    "    vocab_size=config.VOCAB_SIZE,\n",
    "    num_layers=config.NUM_LAYERS,\n",
    "    units=config.UNITS,\n",
    "    d_model=config.D_MODEL,\n",
    "    num_heads=config.NUM_HEADS,\n",
    "    dropout=config.DROPOUT)\n",
    "    \n",
    "    if config.optimizer == 'adam':\n",
    "        learning_rate = CustomSchedule(D_MODEL)\n",
    "        optimizer = tf.keras.optimizers.Adam(\n",
    "            learning_rate, beta_1=0.9, beta_2=0.98, epsilon=1e-9)\n",
    "    \n",
    "    model.compile(optimizer = optimizer,\n",
    "                  loss = config.loss,\n",
    "                  metrics = config.metrics)\n",
    "    \n",
    "    model.fit(train_dataset,\n",
    "              epochs = config.epoch,\n",
    "              batch_size = config.batch_size,\n",
    "              validation_data = val_dataset,\n",
    "              callbacks = [WandbCallback()])\n",
    "    \n",
    "    test_loss, test_accuracy = model.evaluate(test_dataset, verbose=2)\n",
    "    \n",
    "    wandb.log({\"Test Accuracy Rate: \" : round(test_accuracy * 100, 2),\n",
    "               \"Test Error Rate: \" : round((1 - test_accuracy) * 100, 2)})"
   ]
  },
  {
   "cell_type": "code",
   "execution_count": null,
   "id": "ae632d52",
   "metadata": {},
   "outputs": [],
   "source": [
    "sweep_id = wandb.sweep(sweep_config,\n",
    "                       entity = 'asdhk0762',\n",
    "                       project = 'Dlthon1002')\n",
    "\n",
    "# run the sweep\n",
    "wandb.agent(sweep_id,\n",
    "            function=train,\n",
    "            count=10)"
   ]
  },
  {
   "cell_type": "code",
   "execution_count": null,
   "id": "7d65b3f4",
   "metadata": {},
   "outputs": [],
   "source": []
  },
  {
   "cell_type": "code",
   "execution_count": null,
   "id": "ca5730ff",
   "metadata": {},
   "outputs": [],
   "source": []
  }
 ],
 "metadata": {
  "kernelspec": {
   "display_name": "Python 3 (ipykernel)",
   "language": "python",
   "name": "python3"
  },
  "language_info": {
   "codemirror_mode": {
    "name": "ipython",
    "version": 3
   },
   "file_extension": ".py",
   "mimetype": "text/x-python",
   "name": "python",
   "nbconvert_exporter": "python",
   "pygments_lexer": "ipython3",
   "version": "3.9.7"
  }
 },
 "nbformat": 4,
 "nbformat_minor": 5
}
