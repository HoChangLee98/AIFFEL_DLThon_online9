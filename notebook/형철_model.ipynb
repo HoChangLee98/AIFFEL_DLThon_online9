{
 "cells": [
  {
   "cell_type": "markdown",
<<<<<<< HEAD
   "id": "75e3cb7b",
=======
   "id": "d5b97e4a",
>>>>>>> 17e3d08e8d4d470dabda135ae600cdfe9df0ccc1
   "metadata": {},
   "source": [
    "# 데이터 불러오기\n",
    "- 데이터 형태는 \n",
    "- X = (3950, 20)과 같이 (전체 데이터 개수, voca_size)\n",
    "- y = (3950,1) 과같이 (전체 데이터 개수, 정수)"
   ]
  },
  {
   "cell_type": "code",
   "execution_count": 1,
<<<<<<< HEAD
   "id": "db782d45",
=======
   "id": "4ecccdf9",
>>>>>>> 17e3d08e8d4d470dabda135ae600cdfe9df0ccc1
   "metadata": {},
   "outputs": [],
   "source": [
    "import numpy as np\n",
    "import pandas as pd\n",
    "import os\n",
    "import tensorflow as tf\n",
    "from tensorflow import keras\n",
    "from sklearn.model_selection import train_test_split\n",
    "import wandb\n",
    "# from wandb.keras import WandbCallback\n",
    "from sklearn.preprocessing import LabelEncoder"
   ]
  },
  {
   "cell_type": "code",
   "execution_count": 2,
<<<<<<< HEAD
   "id": "dfc550e0",
=======
   "id": "27c1110a",
>>>>>>> 17e3d08e8d4d470dabda135ae600cdfe9df0ccc1
   "metadata": {},
   "outputs": [],
   "source": [
    "train_data_path =\"/aiffel/aiffel/dlthon_team5/data/train.csv\"\n",
    "train_data = pd.read_csv(train_data_path)\n",
    "\n",
    "# 클래스 한글이름을 숫자로 변경 - (사빈님 수정예정)\n",
    "CLASS_NAMES = ['협박 대화', '갈취 대화', '직장 내 괴롭힘 대화', '기타 괴롭힘 대화']\n",
    "encoder = LabelEncoder()\n",
    "encoder.fit(CLASS_NAMES)\n",
    "train_data['class'] = encoder.transform(train_data['class'])\n",
    "\n",
    "corpus = train_data[\"conversation\"]"
   ]
  },
  {
   "cell_type": "code",
   "execution_count": 3,
<<<<<<< HEAD
   "id": "6993e8d2",
=======
   "id": "003e9b5d",
>>>>>>> 17e3d08e8d4d470dabda135ae600cdfe9df0ccc1
   "metadata": {},
   "outputs": [
    {
     "name": "stdout",
     "output_type": "stream",
     "text": [
      "[[  1 210   1 ...   1  41   1]\n",
      " [  1   1   1 ...   1   1 396]\n",
      " [  1  96   1 ...   1 125   1]\n",
      " ...\n",
      " [485   3 113 ...  27   1   1]\n",
      " [  1   1 152 ... 350   1   1]\n",
      " [  1   1   1 ... 156 114   1]] <keras_preprocessing.text.Tokenizer object at 0x7a37f6163a60>\n"
     ]
    }
   ],
   "source": [
    "# 토큰화 + encoding 진행 \n",
    "# 변수 = voca_size, 토큰화 방법\n",
    "\n",
    "def tokenize(corpus):\n",
    "    tokenizer = tf.keras.preprocessing.text.Tokenizer(\n",
    "        num_words=1000, \n",
    "        filters=' ',\n",
    "        oov_token=\"<unk>\")\n",
    "    tokenizer.fit_on_texts(corpus)\n",
    "    tensor = tokenizer.texts_to_sequences(corpus)   \n",
    "    tensor = tf.keras.preprocessing.sequence.pad_sequences(tensor, padding='post',maxlen=20)  \n",
    "    \n",
    "    print(tensor,tokenizer)\n",
    "    return tensor, tokenizer\n",
    "\n",
    "tensor, tokenizer = tokenize(corpus)"
   ]
  },
  {
   "cell_type": "code",
   "execution_count": 4,
<<<<<<< HEAD
   "id": "452ec920",
=======
   "id": "91668472",
>>>>>>> 17e3d08e8d4d470dabda135ae600cdfe9df0ccc1
   "metadata": {},
   "outputs": [
    {
     "data": {
      "text/plain": [
       "(3950, 20)"
      ]
     },
     "execution_count": 4,
     "metadata": {},
     "output_type": "execute_result"
    }
   ],
   "source": [
    "# (데이터 개수, max_length)\n",
    "tensor.shape"
   ]
  },
  {
   "cell_type": "code",
   "execution_count": 5,
<<<<<<< HEAD
   "id": "e0e711b6",
=======
   "id": "1a476895",
>>>>>>> 17e3d08e8d4d470dabda135ae600cdfe9df0ccc1
   "metadata": {},
   "outputs": [],
   "source": [
    "# 학습 데이터셋과 val 그리고 필요하다면 test 데이터셋 준비\n",
    "X_train = tensor[:3500]\n",
    "y_train = train_data['class'][:3500]\n",
    "X_val = tensor[3500:3850]\n",
    "y_val = train_data['class'][3500:3850]\n",
    "X_test = tensor[3850:]\n",
    "y_test = train_data['class'][3850:]"
   ]
  },
  {
   "cell_type": "code",
   "execution_count": 6,
<<<<<<< HEAD
   "id": "c4b2f868",
=======
   "id": "9fc1be98",
>>>>>>> 17e3d08e8d4d470dabda135ae600cdfe9df0ccc1
   "metadata": {},
   "outputs": [],
   "source": [
    "# 배치 및 버퍼 크기\n",
    "BATCH_SIZE = 64\n",
    "BUFFER_SIZE = 10000\n",
    "\n",
    "# 학습용 데이터셋을 tf.data.Dataset으로 변환\n",
    "train_dataset = tf.data.Dataset.from_tensor_slices((\n",
    "    {\n",
    "        'inputs': X_train,   # 대화 데이터\n",
    "    },\n",
    "    {\n",
    "        'outputs': y_train,  # 분류 레이블\n",
    "    }\n",
    "))\n",
    "\n",
    "# 검증용 데이터셋을 tf.data.Dataset으로 변환\n",
    "val_dataset = tf.data.Dataset.from_tensor_slices((\n",
    "    {\n",
    "        'inputs': X_val,\n",
    "    },\n",
    "    {\n",
    "        'outputs': y_val,\n",
    "    }\n",
    "))\n",
    "\n",
    "# 테스트용 데이터셋을 tf.data.Dataset으로 변환\n",
    "test_dataset = tf.data.Dataset.from_tensor_slices((\n",
    "    {\n",
    "        'inputs': X_test,\n",
    "    },\n",
    "    {\n",
    "        'outputs': y_test,\n",
    "    }\n",
    "))\n",
    "\n",
    "# 데이터셋을 섞고, 배치 처리\n",
    "train_dataset = train_dataset.cache()\n",
    "train_dataset = train_dataset.shuffle(BUFFER_SIZE).batch(BATCH_SIZE)\n",
    "train_dataset = train_dataset.prefetch(tf.data.experimental.AUTOTUNE)\n",
    "\n",
    "val_dataset = val_dataset.batch(BATCH_SIZE)\n",
    "test_dataset = test_dataset.batch(BATCH_SIZE)"
   ]
  },
  {
   "cell_type": "markdown",
<<<<<<< HEAD
   "id": "8515372d",
=======
   "id": "ce8a816c",
>>>>>>> 17e3d08e8d4d470dabda135ae600cdfe9df0ccc1
   "metadata": {},
   "source": [
    "# 모델"
   ]
  },
  {
   "cell_type": "code",
   "execution_count": 7,
<<<<<<< HEAD
   "id": "f4458281",
=======
   "id": "7ade1fd6",
>>>>>>> 17e3d08e8d4d470dabda135ae600cdfe9df0ccc1
   "metadata": {},
   "outputs": [],
   "source": [
    "class PositionalEncoding(tf.keras.layers.Layer):\n",
    "\n",
    "    def __init__(self, position, d_model):\n",
    "        super(PositionalEncoding, self).__init__()\n",
    "        self.pos_encoding = self.positional_encoding(position, d_model)\n",
    "\n",
    "    def get_angles(self, position, i, d_model):\n",
    "        angles = 1 / tf.pow(10000, (2 * (i // 2)) / tf.cast(d_model, tf.float32))\n",
    "        return position * angles\n",
    "\n",
    "    def positional_encoding(self, position, d_model):\n",
    "        # 각도 배열 생성\n",
    "        angle_rads = self.get_angles(\n",
    "            position=tf.range(position, dtype=tf.float32)[:, tf.newaxis],\n",
    "            i=tf.range(d_model, dtype=tf.float32)[tf.newaxis, :],\n",
    "            d_model=d_model)\n",
    "\n",
    "        # 배열의 짝수 인덱스에는 sin 함수 적용\n",
    "        sines = tf.math.sin(angle_rads[:, 0::2])\n",
    "        # 배열의 홀수 인덱스에는 cosine 함수 적용\n",
    "        cosines = tf.math.cos(angle_rads[:, 1::2])\n",
    "\n",
    "        # sin과 cosine이 교차되도록 재배열\n",
    "        pos_encoding = tf.stack([sines, cosines], axis=0)\n",
    "        pos_encoding = tf.transpose(pos_encoding,[1, 2, 0]) \n",
    "        pos_encoding = tf.reshape(pos_encoding, [position, d_model])\n",
    "\n",
    "        pos_encoding = pos_encoding[tf.newaxis, ...]\n",
    "        return tf.cast(pos_encoding, tf.float32)\n",
    "\n",
    "    def call(self, inputs):\n",
    "        return inputs + self.pos_encoding[:, :tf.shape(inputs)[1], :]"
   ]
  },
  {
   "cell_type": "code",
   "execution_count": 8,
<<<<<<< HEAD
   "id": "5233d99f",
=======
   "id": "4e23ae3d",
>>>>>>> 17e3d08e8d4d470dabda135ae600cdfe9df0ccc1
   "metadata": {},
   "outputs": [],
   "source": [
    "def scaled_dot_product_attention(query, key, value, mask):\n",
    "    # 어텐션 가중치는 Q와 K의 닷 프로덕트\n",
    "    matmul_qk = tf.matmul(query, key, transpose_b=True)\n",
    "\n",
    "    # 가중치를 정규화\n",
    "    depth = tf.cast(tf.shape(key)[-1], tf.float32)\n",
    "    logits = matmul_qk / tf.math.sqrt(depth)\n",
    "\n",
    "    # 패딩에 마스크 추가\n",
    "    if mask is not None:\n",
    "        logits += (mask * -1e9)\n",
    "\n",
    "    # softmax적용\n",
    "    attention_weights = tf.nn.softmax(logits, axis=-1)\n",
    "\n",
    "    # 최종 어텐션은 가중치와 V의 닷 프로덕트\n",
    "    output = tf.matmul(attention_weights, value)\n",
    "    return output\n"
   ]
  },
  {
   "cell_type": "code",
   "execution_count": 9,
<<<<<<< HEAD
   "id": "aa3dc25e",
=======
   "id": "caeb532e",
>>>>>>> 17e3d08e8d4d470dabda135ae600cdfe9df0ccc1
   "metadata": {},
   "outputs": [],
   "source": [
    "class MultiHeadAttention(tf.keras.layers.Layer):\n",
    "\n",
    "    def __init__(self, d_model, num_heads, name=\"multi_head_attention\"):\n",
    "        super(MultiHeadAttention, self).__init__(name=name)\n",
    "        self.num_heads = num_heads\n",
    "        self.d_model = d_model\n",
    "\n",
    "        assert d_model % self.num_heads == 0\n",
    "\n",
    "        self.depth = d_model // self.num_heads\n",
    "\n",
    "        self.query_dense = tf.keras.layers.Dense(units=d_model)\n",
    "        self.key_dense = tf.keras.layers.Dense(units=d_model)\n",
    "        self.value_dense = tf.keras.layers.Dense(units=d_model)\n",
    "\n",
    "        self.dense = tf.keras.layers.Dense(units=d_model)\n",
    "\n",
    "    def split_heads(self, inputs, batch_size):\n",
    "        inputs = tf.reshape(\n",
    "            inputs, shape=(batch_size, -1, self.num_heads, self.depth))\n",
    "        return tf.transpose(inputs, perm=[0, 2, 1, 3])\n",
    "\n",
    "    def call(self, inputs):\n",
    "        query, key, value, mask = inputs['query'], inputs['key'], inputs[\n",
    "            'value'], inputs['mask']\n",
    "        batch_size = tf.shape(query)[0]\n",
    "\n",
    "        # Q, K, V에 각각 Dense를 적용합니다\n",
    "        query = self.query_dense(query)\n",
    "        key = self.key_dense(key)\n",
    "        value = self.value_dense(value)\n",
    "\n",
    "        # 병렬 연산을 위한 머리를 여러 개 만듭니다\n",
    "        query = self.split_heads(query, batch_size)\n",
    "        key = self.split_heads(key, batch_size)\n",
    "        value = self.split_heads(value, batch_size)\n",
    "\n",
    "        # 스케일드 닷 프로덕트 어텐션 함수\n",
    "        scaled_attention = scaled_dot_product_attention(query, key, value, mask)\n",
    "\n",
    "        scaled_attention = tf.transpose(scaled_attention, perm=[0, 2, 1, 3])\n",
    "\n",
    "        # 어텐션 연산 후에 각 결과를 다시 연결(concatenate)합니다\n",
    "        concat_attention = tf.reshape(scaled_attention,\n",
    "                                      (batch_size, -1, self.d_model))\n",
    "\n",
    "        # 최종 결과에도 Dense를 한 번 더 적용합니다\n",
    "        outputs = self.dense(concat_attention)\n",
    "\n",
    "        return outputs"
   ]
  },
  {
   "cell_type": "code",
   "execution_count": 10,
<<<<<<< HEAD
   "id": "060533f3",
=======
   "id": "3fbdbace",
>>>>>>> 17e3d08e8d4d470dabda135ae600cdfe9df0ccc1
   "metadata": {},
   "outputs": [],
   "source": [
    "def create_padding_mask(x):\n",
    "    mask = tf.cast(tf.math.equal(x, 0), tf.float32)\n",
    "    # (batch_size, 1, 1, sequence length)\n",
    "    return mask[:, tf.newaxis, tf.newaxis, :]"
   ]
  },
  {
   "cell_type": "code",
   "execution_count": 11,
<<<<<<< HEAD
   "id": "03459566",
=======
   "id": "073a429a",
>>>>>>> 17e3d08e8d4d470dabda135ae600cdfe9df0ccc1
   "metadata": {},
   "outputs": [],
   "source": [
    "def encoder_layer(units, d_model, num_heads, dropout, name=\"encoder_layer\"):\n",
    "    inputs = tf.keras.Input(shape=(None, d_model), name=\"inputs\")\n",
    "\n",
    "    # 패딩 마스크 사용\n",
    "    padding_mask = tf.keras.Input(shape=(1, 1, None), name=\"padding_mask\")\n",
    "\n",
    "    # 첫 번째 서브 레이어 : 멀티 헤드 어텐션 수행 (셀프 어텐션)\n",
    "    attention = MultiHeadAttention(\n",
    "      d_model, num_heads, name=\"attention\")({\n",
    "          'query': inputs,\n",
    "          'key': inputs,\n",
    "          'value': inputs,\n",
    "          'mask': padding_mask\n",
    "      })\n",
    "\n",
    "    # 어텐션의 결과는 Dropout과 Layer Normalization이라는 훈련을 돕는 테크닉을 수행\n",
    "    attention = tf.keras.layers.Dropout(rate=dropout)(attention)\n",
    "    attention = tf.keras.layers.LayerNormalization(\n",
    "      epsilon=1e-6)(inputs + attention)\n",
    "\n",
    "    # 두 번째 서브 레이어 : 2개의 완전연결층\n",
    "    outputs = tf.keras.layers.Dense(units=units, activation='relu')(attention)\n",
    "    outputs = tf.keras.layers.Dense(units=d_model)(outputs)\n",
    "\n",
    "    # 완전연결층의 결과는 Dropout과 LayerNormalization이라는 훈련을 돕는 테크닉을 수행\n",
    "    outputs = tf.keras.layers.Dropout(rate=dropout)(outputs)\n",
    "    outputs = tf.keras.layers.LayerNormalization(\n",
    "      epsilon=1e-6)(attention + outputs)\n",
    "\n",
    "    return tf.keras.Model(\n",
    "      inputs=[inputs, padding_mask], outputs=outputs, name=name)"
   ]
  },
  {
   "cell_type": "code",
   "execution_count": 12,
<<<<<<< HEAD
   "id": "e4dd3423",
=======
   "id": "62079297",
>>>>>>> 17e3d08e8d4d470dabda135ae600cdfe9df0ccc1
   "metadata": {},
   "outputs": [],
   "source": [
    "def encoder(vocab_size,\n",
    "            num_layers,\n",
    "            units,\n",
    "            d_model,\n",
    "            num_heads,\n",
    "            dropout,\n",
    "            name=\"encoder\"):\n",
    "    inputs = tf.keras.Input(shape=(None,), name=\"inputs\")\n",
    "\n",
    "    # 패딩 마스크 사용\n",
    "    padding_mask = tf.keras.Input(shape=(1, 1, None), name=\"padding_mask\")\n",
    "\n",
    "    # 임베딩 레이어\n",
    "    embeddings = tf.keras.layers.Embedding(vocab_size, d_model)(inputs)\n",
    "    embeddings *= tf.math.sqrt(tf.cast(d_model, tf.float32))\n",
    "\n",
    "    # 포지셔널 인코딩\n",
    "    embeddings = PositionalEncoding(vocab_size, d_model)(embeddings)\n",
    "\n",
    "    outputs = tf.keras.layers.Dropout(rate=dropout)(embeddings)\n",
    "\n",
    "    # num_layers만큼 쌓아올린 인코더의 층.\n",
    "    for i in range(num_layers):\n",
    "        outputs = encoder_layer(\n",
    "            units=units,\n",
    "            d_model=d_model,\n",
    "            num_heads=num_heads,\n",
    "            dropout=dropout,\n",
    "            name=\"encoder_layer_{}\".format(i),\n",
    "        )([outputs, padding_mask])\n",
    "\n",
    "    return tf.keras.Model(\n",
    "        inputs=[inputs, padding_mask], outputs=outputs, name=name)"
   ]
  },
  {
   "cell_type": "code",
   "execution_count": 13,
<<<<<<< HEAD
   "id": "d82bc957",
=======
   "id": "461a8e06",
>>>>>>> 17e3d08e8d4d470dabda135ae600cdfe9df0ccc1
   "metadata": {},
   "outputs": [],
   "source": [
    "def transformer(vocab_size,\n",
    "                num_layers,\n",
    "                units,\n",
    "                d_model,\n",
    "                num_heads,\n",
    "                dropout,\n",
    "                name=\"transformer\"):\n",
    "    inputs = tf.keras.Input(shape=(None,), name=\"inputs\")\n",
    "\n",
    "    # 인코더에서 패딩을 위한 마스크\n",
    "    enc_padding_mask = tf.keras.layers.Lambda(\n",
    "      create_padding_mask, output_shape=(1, 1, None),\n",
    "      name='enc_padding_mask')(inputs)\n",
    "\n",
    "    # 인코더\n",
    "    enc_outputs = encoder(\n",
    "      vocab_size=vocab_size,\n",
    "      num_layers=num_layers,\n",
    "      units=units,\n",
    "      d_model=d_model,\n",
    "      num_heads=num_heads,\n",
    "      dropout=dropout,\n",
    "    )(inputs=[inputs, enc_padding_mask])\n",
    "    \n",
    "    pooled_outputs = tf.keras.layers.GlobalAveragePooling1D()(enc_outputs)\n",
    "    pooled_outputs = tf.keras.layers.Dropout(rate=dropout)(pooled_outputs)\n",
    "    \n",
    "    # encoder output size = (batch_size, sentence_length, embedding_dim)\n",
    "    # 분류 문제를 위한 완전 연결층\n",
    "    # 완전연결층\n",
    "    outputs = tf.keras.layers.Dense(units=1028, activation='relu', name=\"linear_hidden_layer\")(pooled_outputs)\n",
    "    outputs = tf.keras.layers.Dense(units=5, activation='softmax', name=\"outputs\")(outputs)\n",
    "\n",
    "    return tf.keras.Model(inputs=inputs, outputs=outputs, name=name)"
   ]
  },
  {
   "cell_type": "code",
   "execution_count": 14,
<<<<<<< HEAD
   "id": "c5063054",
=======
   "id": "70f58abf",
>>>>>>> 17e3d08e8d4d470dabda135ae600cdfe9df0ccc1
   "metadata": {},
   "outputs": [
    {
     "name": "stdout",
     "output_type": "stream",
     "text": [
      "Model: \"transformer\"\n",
      "__________________________________________________________________________________________________\n",
      "Layer (type)                    Output Shape         Param #     Connected to                     \n",
      "==================================================================================================\n",
      "inputs (InputLayer)             [(None, None)]       0                                            \n",
      "__________________________________________________________________________________________________\n",
      "enc_padding_mask (Lambda)       (None, 1, 1, None)   0           inputs[0][0]                     \n",
      "__________________________________________________________________________________________________\n",
      "encoder (Functional)            (None, None, 256)    1310208     inputs[0][0]                     \n",
      "                                                                 enc_padding_mask[0][0]           \n",
      "__________________________________________________________________________________________________\n",
      "global_average_pooling1d (Globa (None, 256)          0           encoder[0][0]                    \n",
      "__________________________________________________________________________________________________\n",
      "dropout_5 (Dropout)             (None, 256)          0           global_average_pooling1d[0][0]   \n",
      "__________________________________________________________________________________________________\n",
      "linear_hidden_layer (Dense)     (None, 1028)         264196      dropout_5[0][0]                  \n",
      "__________________________________________________________________________________________________\n",
      "outputs (Dense)                 (None, 5)            5145        linear_hidden_layer[0][0]        \n",
      "==================================================================================================\n",
      "Total params: 1,579,549\n",
      "Trainable params: 1,579,549\n",
      "Non-trainable params: 0\n",
      "__________________________________________________________________________________________________\n"
     ]
    }
   ],
   "source": [
    "tf.keras.backend.clear_session()\n",
    "\n",
    "# 하이퍼파라미터\n",
    "\n",
    "VOCAB_SIZE = 1000\n",
    "\n",
    "NUM_LAYERS = 2 # 인코더와 디코더의 층의 개수\n",
    "D_MODEL = 256 # 인코더와 디코더 내부의 입, 출력의 고정 차원\n",
    "NUM_HEADS = 8 # 멀티 헤드 어텐션에서의 헤드 수 \n",
    "UNITS = 512 # 피드 포워드 신경망의 은닉층의 크기\n",
    "DROPOUT = 0.1 # 드롭아웃의 비율\n",
    "\n",
    "model = transformer(\n",
    "    vocab_size=VOCAB_SIZE,\n",
    "    num_layers=NUM_LAYERS,\n",
    "    units=UNITS,\n",
    "    d_model=D_MODEL,\n",
    "    num_heads=NUM_HEADS,\n",
    "    dropout=DROPOUT)\n",
    "\n",
    "model.summary()"
   ]
  },
  {
   "cell_type": "code",
   "execution_count": 15,
<<<<<<< HEAD
   "id": "1e8d6b9f",
=======
   "id": "99f6506d",
>>>>>>> 17e3d08e8d4d470dabda135ae600cdfe9df0ccc1
   "metadata": {},
   "outputs": [],
   "source": [
    "def loss_function(y_true, y_pred):\n",
    "#     num_classes = 5\n",
    "#     y_true = tf.one_hot(y_true, depth=num_classes)\n",
    "    y_true = tf.squeeze(y_true, axis=-1)\n",
    "    # softmax 함수를 통과한 값이 나오기때문에 False를 사용\n",
    "    loss = tf.keras.losses.SparseCategoricalCrossentropy(\n",
    "        from_logits=False)(y_true, y_pred)\n",
    "\n",
    "#     mask = tf.cast(tf.not_equal(y_true, 0), tf.float32)\n",
    "#     loss = tf.multiply(loss, mask)\n",
    "\n",
    "    return tf.reduce_mean(loss)"
   ]
  },
  {
   "cell_type": "code",
   "execution_count": 16,
<<<<<<< HEAD
   "id": "9d5c5728",
=======
   "id": "9bcb78c6",
>>>>>>> 17e3d08e8d4d470dabda135ae600cdfe9df0ccc1
   "metadata": {},
   "outputs": [],
   "source": [
    "class CustomSchedule(tf.keras.optimizers.schedules.LearningRateSchedule):\n",
    "\n",
    "    def __init__(self, d_model, warmup_steps=4000):\n",
    "        super(CustomSchedule, self).__init__()\n",
    "\n",
    "        self.d_model = d_model\n",
    "        self.d_model = tf.cast(self.d_model, tf.float32)\n",
    "\n",
    "        self.warmup_steps = warmup_steps\n",
    "\n",
    "    def __call__(self, step):\n",
    "        arg1 = tf.math.rsqrt(step)\n",
    "        arg2 = step * (self.warmup_steps**-1.5)\n",
    "\n",
    "        return tf.math.rsqrt(self.d_model) * tf.math.minimum(arg1, arg2)"
   ]
  },
  {
   "cell_type": "code",
   "execution_count": 17,
<<<<<<< HEAD
   "id": "b2bdb869",
=======
   "id": "a816610d",
>>>>>>> 17e3d08e8d4d470dabda135ae600cdfe9df0ccc1
   "metadata": {},
   "outputs": [],
   "source": [
    "learning_rate = CustomSchedule(D_MODEL)\n",
    "\n",
    "optimizer = tf.keras.optimizers.Adam(\n",
    "    learning_rate, beta_1=0.9, beta_2=0.98, epsilon=1e-9)\n",
    "\n",
    "def accuracy(y_true, y_pred):\n",
    "    return tf.keras.metrics.sparse_categorical_accuracy(y_true, y_pred)\n",
    "\n",
    "model.compile(optimizer=optimizer, loss=loss_function, metrics=[accuracy])"
   ]
  },
  {
   "cell_type": "code",
   "execution_count": 18,
<<<<<<< HEAD
   "id": "a3228630",
=======
   "id": "98610938",
>>>>>>> 17e3d08e8d4d470dabda135ae600cdfe9df0ccc1
   "metadata": {},
   "outputs": [
    {
     "name": "stdout",
     "output_type": "stream",
     "text": [
      "Epoch 1/10\n",
      "55/55 [==============================] - 4s 22ms/step - loss: 1.4999 - accuracy: 0.2457 - val_loss: 1.4112 - val_accuracy: 0.2486\n",
      "Epoch 2/10\n",
      "55/55 [==============================] - 1s 11ms/step - loss: 1.4039 - accuracy: 0.2757 - val_loss: 1.3752 - val_accuracy: 0.3514\n",
      "Epoch 3/10\n",
      "55/55 [==============================] - 1s 11ms/step - loss: 1.3882 - accuracy: 0.2811 - val_loss: 1.3592 - val_accuracy: 0.2971\n",
      "Epoch 4/10\n",
      "55/55 [==============================] - 1s 11ms/step - loss: 1.3480 - accuracy: 0.3454 - val_loss: 1.2780 - val_accuracy: 0.4400\n",
      "Epoch 5/10\n",
      "55/55 [==============================] - 1s 11ms/step - loss: 1.2180 - accuracy: 0.4640 - val_loss: 1.2053 - val_accuracy: 0.4600\n",
      "Epoch 6/10\n",
      "55/55 [==============================] - 1s 11ms/step - loss: 1.0888 - accuracy: 0.5349 - val_loss: 1.0467 - val_accuracy: 0.5571\n",
      "Epoch 7/10\n",
      "55/55 [==============================] - 1s 11ms/step - loss: 0.9457 - accuracy: 0.6254 - val_loss: 1.0264 - val_accuracy: 0.5886\n",
      "Epoch 8/10\n",
      "55/55 [==============================] - 1s 11ms/step - loss: 0.8309 - accuracy: 0.6660 - val_loss: 0.9525 - val_accuracy: 0.6486\n",
      "Epoch 9/10\n",
      "55/55 [==============================] - 1s 11ms/step - loss: 0.7606 - accuracy: 0.7094 - val_loss: 1.0130 - val_accuracy: 0.6114\n",
      "Epoch 10/10\n",
      "55/55 [==============================] - 1s 11ms/step - loss: 0.6754 - accuracy: 0.7351 - val_loss: 1.0179 - val_accuracy: 0.6229\n"
     ]
    }
   ],
   "source": [
    "EPOCHS = 10\n",
    "history = model.fit(\n",
    "    train_dataset,\n",
    "    validation_data=val_dataset,  # 검증 데이터셋 추가\n",
    "    epochs=EPOCHS,\n",
    "    verbose=1\n",
    ")"
   ]
  },
  {
   "cell_type": "code",
   "execution_count": 19,
<<<<<<< HEAD
   "id": "550bc71e",
=======
   "id": "1e1c4fbd",
>>>>>>> 17e3d08e8d4d470dabda135ae600cdfe9df0ccc1
   "metadata": {},
   "outputs": [
    {
     "data": {
      "text/plain": [
       "Text(0.5, 1.0, 'train_acc')"
      ]
     },
     "execution_count": 19,
     "metadata": {},
     "output_type": "execute_result"
    },
    {
     "data": {
      "image/png": "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\n",
      "text/plain": [
       "<Figure size 864x864 with 2 Axes>"
      ]
     },
     "metadata": {
      "needs_background": "light"
     },
     "output_type": "display_data"
    }
   ],
   "source": [
    "import matplotlib.pyplot as plt\n",
    "\n",
    "fig, axs = plt.subplots(2,1, figsize=(12,12))\n",
    "\n",
    "axs[0].plot(history.history['loss'], label='train')\n",
    "axs[0].plot(history.history['val_loss'], label='train')\n",
    "axs[0].set_title('train_loss')\n",
    "axs[1].plot(history.history['accuracy'], label='train')\n",
    "axs[1].set_title('train_acc')"
   ]
  },
  {
   "cell_type": "code",
   "execution_count": 20,
<<<<<<< HEAD
   "id": "b1ce3f16",
=======
   "id": "5ce85d77",
>>>>>>> 17e3d08e8d4d470dabda135ae600cdfe9df0ccc1
   "metadata": {},
   "outputs": [
    {
     "name": "stdout",
     "output_type": "stream",
     "text": [
      "Train class distribution:\n",
      " 1    982\n",
      "0    868\n",
      "2    867\n",
      "3    783\n",
      "Name: class, dtype: int64\n",
      "Validation class distribution:\n",
      " 3    97\n",
      "2    91\n",
      "1    83\n",
      "0    79\n",
      "Name: class, dtype: int64\n",
      "Test class distribution:\n",
      " 0    34\n",
      "1    29\n",
      "2    21\n",
      "3    16\n",
      "Name: class, dtype: int64\n"
     ]
    }
   ],
   "source": [
    "# 각 데이터셋의 클래스 분포를 확인\n",
    "print(\"Train class distribution:\\n\", train_data['class'][:3500].value_counts())\n",
    "print(\"Validation class distribution:\\n\", train_data['class'][3500:3850].value_counts())\n",
    "print(\"Test class distribution:\\n\", train_data['class'][3850:].value_counts())"
   ]
  },
  {
   "cell_type": "code",
   "execution_count": 21,
   "id": "4285c445",
   "metadata": {},
   "outputs": [
    {
     "name": "stdout",
     "output_type": "stream",
     "text": [
      "2/2 [==============================] - 0s 6ms/step - loss: 1.2694 - accuracy: 0.5600\n"
     ]
    },
    {
     "data": {
      "text/plain": [
       "[1.2694330215454102, 0.5600000023841858]"
      ]
     },
     "execution_count": 21,
     "metadata": {},
     "output_type": "execute_result"
    }
   ],
   "source": [
    "model.evaluate(test_dataset)"
   ]
  },
  {
   "cell_type": "markdown",
<<<<<<< HEAD
   "id": "deb617ba",
=======
   "id": "27bd8c18",
>>>>>>> 17e3d08e8d4d470dabda135ae600cdfe9df0ccc1
   "metadata": {},
   "source": [
    "# Submission\n",
    "\n"
   ]
  },
  {
   "cell_type": "code",
<<<<<<< HEAD
   "execution_count": 21,
   "id": "10d19c5a",
=======
   "execution_count": 22,
   "id": "190bea5d",
>>>>>>> 17e3d08e8d4d470dabda135ae600cdfe9df0ccc1
   "metadata": {},
   "outputs": [],
   "source": [
    "import os\n",
    "import sys\n",
    "sys.path.append(\"../\")\n",
    "\n",
    "## 경고 무시\n",
    "import warnings\n",
    "warnings.filterwarnings('ignore')\n",
    "\n",
    "## 시각화 툴\n",
    "import matplotlib.pyplot as plt\n",
    "import seaborn as sns\n",
    "\n",
    "## encoding \n",
    "from sklearn.preprocessing import LabelEncoder\n",
    "\n",
    "## vocabulary\n",
    "import tensorflow_datasets as tfds\n",
    "\n",
    "## preprocessor\n",
    "from custom_preprocessor import Preprocessor"
   ]
  },
  {
   "cell_type": "code",
<<<<<<< HEAD
   "execution_count": 22,
   "id": "dc1582d4",
=======
   "execution_count": 23,
   "id": "4627ed09",
>>>>>>> 17e3d08e8d4d470dabda135ae600cdfe9df0ccc1
   "metadata": {},
   "outputs": [],
   "source": [
    "preprocessor = Preprocessor()"
   ]
  },
  {
   "cell_type": "code",
<<<<<<< HEAD
   "execution_count": 23,
   "id": "000a03b0",
=======
   "execution_count": 24,
   "id": "f3ec80f4",
>>>>>>> 17e3d08e8d4d470dabda135ae600cdfe9df0ccc1
   "metadata": {},
   "outputs": [],
   "source": [
    "preprocessed_train, preprocessed_test = preprocessor.preprocess()"
   ]
  },
  {
   "cell_type": "code",
   "execution_count": 25,
<<<<<<< HEAD
   "id": "f8c32beb",
=======
   "id": "86891b55",
>>>>>>> 17e3d08e8d4d470dabda135ae600cdfe9df0ccc1
   "metadata": {},
   "outputs": [
    {
     "name": "stdout",
     "output_type": "stream",
     "text": [
      "[[  1 278 191 ...  31 595 987]\n",
      " [988   4 394 ... 302 172  20]\n",
      " [  1 180  71 ...  15   1  14]\n",
      " ...\n",
      " [  1 146   6 ...  14  12  88]\n",
      " [924 627 212 ...  18 823 360]\n",
      " [367   1   3 ... 286   1 374]] <keras_preprocessing.text.Tokenizer object at 0x7a371e6b4d90>\n"
     ]
    }
   ],
   "source": [
    "# test 데이터셋 불러와서 text 부분 tokenize 진행\n",
    "text = preprocessed_test['text']\n",
    "test_tensor, tokenizer = tokenize(text)"
   ]
  },
  {
   "cell_type": "code",
   "execution_count": 26,
<<<<<<< HEAD
   "id": "fde6d228",
=======
   "id": "3b1cbec2",
>>>>>>> 17e3d08e8d4d470dabda135ae600cdfe9df0ccc1
   "metadata": {},
   "outputs": [
    {
     "data": {
      "text/plain": [
       "(500, 20)"
      ]
     },
     "execution_count": 26,
     "metadata": {},
     "output_type": "execute_result"
    }
   ],
   "source": [
    "# 크기 확인\n",
    "test_tensor.shape"
   ]
  },
  {
   "cell_type": "code",
<<<<<<< HEAD
   "execution_count": 37,
   "id": "c8d90c39",
=======
   "execution_count": 27,
   "id": "66ef9e6a",
>>>>>>> 17e3d08e8d4d470dabda135ae600cdfe9df0ccc1
   "metadata": {},
   "outputs": [],
   "source": [
    "# 모델의 결과값은 5개의 클래스중 확률값을 가지고있는 상태\n",
    "# 가장큰 값을 가지도록 매칭해줘야함\n",
    "result_vec = model(test_tensor)\n",
    "y_pred = np.argmax(result_vec, axis=1)"
   ]
  },
  {
   "cell_type": "code",
<<<<<<< HEAD
   "execution_count": 59,
   "id": "c357ac24",
   "metadata": {},
   "outputs": [
    {
     "data": {
      "text/html": [
       "<div>\n",
       "<style scoped>\n",
       "    .dataframe tbody tr th:only-of-type {\n",
       "        vertical-align: middle;\n",
       "    }\n",
       "\n",
       "    .dataframe tbody tr th {\n",
       "        vertical-align: top;\n",
       "    }\n",
       "\n",
       "    .dataframe thead th {\n",
       "        text-align: right;\n",
       "    }\n",
       "</style>\n",
       "<table border=\"1\" class=\"dataframe\">\n",
       "  <thead>\n",
       "    <tr style=\"text-align: right;\">\n",
       "      <th></th>\n",
       "      <th>file_name</th>\n",
       "      <th>text</th>\n",
       "    </tr>\n",
       "  </thead>\n",
       "  <tbody>\n",
       "    <tr>\n",
       "      <th>0</th>\n",
       "      <td>t_000</td>\n",
       "      <td>아가씨 담배 한 갑주소 4500원 입니다 지갑 갔지 에이 버스 잃어버렸나 보네 취소...</td>\n",
       "    </tr>\n",
       "    <tr>\n",
       "      <th>1</th>\n",
       "      <td>t_001</td>\n",
       "      <td>팀 팀 갈 사람 없나 지씨 가는건 가요 2 달 만 파견 잘 갔다오면 승진 이야 는 ...</td>\n",
       "    </tr>\n",
       "    <tr>\n",
       "      <th>2</th>\n",
       "      <td>t_002</td>\n",
       "      <td>오늘 그게 뭐 뭘 잘 못 했나요 제대로 하지 똑바로 하지 행실 맘 안 들어 실천 할...</td>\n",
       "    </tr>\n",
       "    <tr>\n",
       "      <th>3</th>\n",
       "      <td>t_003</td>\n",
       "      <td>거 들어 바 노래 진짜 좋다 그치 요즘 만 들어 진짜 너무 좋다 내 요즘 듣는 도 ...</td>\n",
       "    </tr>\n",
       "    <tr>\n",
       "      <th>4</th>\n",
       "      <td>t_004</td>\n",
       "      <td>아무튼 앞 니 내 와이파이 와이파이 온 켰어 반말 주인 님 이라고도 말 해야지 켰습...</td>\n",
       "    </tr>\n",
       "    <tr>\n",
       "      <th>...</th>\n",
       "      <td>...</td>\n",
       "      <td>...</td>\n",
       "    </tr>\n",
       "    <tr>\n",
       "      <th>495</th>\n",
       "      <td>t_495</td>\n",
       "      <td>미나 씨 휴가 결제 올 리기 전 랑 상의 라고 말 한 거 기억 합니다 보고서 보니 ...</td>\n",
       "    </tr>\n",
       "    <tr>\n",
       "      <th>496</th>\n",
       "      <td>t_496</td>\n",
       "      <td>교수 님 논문 이름 없나요 논문 말 이야 지난 번 냈던 논문 요 그거 1 저자 쓴 ...</td>\n",
       "    </tr>\n",
       "    <tr>\n",
       "      <th>497</th>\n",
       "      <td>t_497</td>\n",
       "      <td>요 요 돈좀 줘 돈 없어요 돈 없어 지갑 은 폼 이니 진짜 없어요 줘 내 확인 할거...</td>\n",
       "    </tr>\n",
       "    <tr>\n",
       "      <th>498</th>\n",
       "      <td>t_498</td>\n",
       "      <td>빨리 안 뛰어와 환자 제대로 봤어 안 봤어 저녁 계속 보다가 지금 과장 님 께서 부...</td>\n",
       "    </tr>\n",
       "    <tr>\n",
       "      <th>499</th>\n",
       "      <td>t_499</td>\n",
       "      <td>엄마 돈 안 해주시면 정말 큰일 요 이유 도 말 하지 않고 몇번 째 니 경민 엄마 ...</td>\n",
       "    </tr>\n",
       "  </tbody>\n",
       "</table>\n",
       "<p>500 rows × 2 columns</p>\n",
       "</div>"
      ],
      "text/plain": [
       "    file_name                                               text\n",
       "0       t_000  아가씨 담배 한 갑주소 4500원 입니다 지갑 갔지 에이 버스 잃어버렸나 보네 취소...\n",
       "1       t_001  팀 팀 갈 사람 없나 지씨 가는건 가요 2 달 만 파견 잘 갔다오면 승진 이야 는 ...\n",
       "2       t_002  오늘 그게 뭐 뭘 잘 못 했나요 제대로 하지 똑바로 하지 행실 맘 안 들어 실천 할...\n",
       "3       t_003  거 들어 바 노래 진짜 좋다 그치 요즘 만 들어 진짜 너무 좋다 내 요즘 듣는 도 ...\n",
       "4       t_004  아무튼 앞 니 내 와이파이 와이파이 온 켰어 반말 주인 님 이라고도 말 해야지 켰습...\n",
       "..        ...                                                ...\n",
       "495     t_495  미나 씨 휴가 결제 올 리기 전 랑 상의 라고 말 한 거 기억 합니다 보고서 보니 ...\n",
       "496     t_496  교수 님 논문 이름 없나요 논문 말 이야 지난 번 냈던 논문 요 그거 1 저자 쓴 ...\n",
       "497     t_497  요 요 돈좀 줘 돈 없어요 돈 없어 지갑 은 폼 이니 진짜 없어요 줘 내 확인 할거...\n",
       "498     t_498  빨리 안 뛰어와 환자 제대로 봤어 안 봤어 저녁 계속 보다가 지금 과장 님 께서 부...\n",
       "499     t_499  엄마 돈 안 해주시면 정말 큰일 요 이유 도 말 하지 않고 몇번 째 니 경민 엄마 ...\n",
       "\n",
       "[500 rows x 2 columns]"
      ]
     },
     "execution_count": 59,
     "metadata": {},
     "output_type": "execute_result"
    }
   ],
   "source": [
    "preprocessed_test"
   ]
  },
  {
   "cell_type": "code",
   "execution_count": 58,
   "id": "6b5471f7",
   "metadata": {},
   "outputs": [
    {
     "data": {
      "text/plain": [
       "array([1, 1, 2, 3, 0, 1, 3, 1, 2, 2, 2, 2, 1, 2, 1, 3, 1, 3, 3, 0, 2, 2,\n",
       "       3, 2, 1, 2, 1, 1, 1, 1, 2, 0, 1, 3, 1, 1, 2, 2, 3, 0, 2, 1, 2, 1,\n",
       "       0, 2, 2, 2, 1, 3, 0, 1, 2, 1, 2, 3, 1, 1, 1, 0, 2, 1, 2, 1, 1, 3,\n",
       "       1, 1, 2, 1, 0, 1, 0, 2, 1, 1, 0, 3, 1, 1, 1, 2, 1, 1, 0, 1, 1, 1,\n",
       "       1, 2, 1, 2, 1, 1, 1, 3, 3, 2, 0, 1, 1, 3, 2, 1, 1, 3, 1, 2, 3, 1,\n",
       "       3, 1, 2, 0, 2, 1, 0, 3, 3, 1, 3, 0, 2, 3, 2, 2, 3, 1, 2, 3, 2, 1,\n",
       "       0, 1, 0, 1, 1, 1, 3, 1, 1, 0, 0, 1, 3, 1, 2, 2, 0, 3, 0, 2, 2, 3,\n",
       "       1, 2, 2, 0, 1, 1, 2, 1, 1, 2, 0, 3, 2, 3, 2, 3, 1, 1, 2, 1, 0, 0,\n",
       "       0, 1, 1, 1, 2, 2, 1, 1, 1, 2, 3, 1, 1, 0, 3, 1, 1, 1, 1, 1, 2, 2,\n",
       "       3, 3, 0, 2, 3, 1, 1, 2, 3, 3, 2, 0, 2, 1, 2, 1, 1, 2, 1, 0, 0, 2,\n",
       "       1, 1, 1, 0, 2, 3, 2, 2, 2, 2, 1, 1, 0, 3, 0, 1, 1, 1, 3, 1, 2, 3,\n",
       "       1, 1, 3, 3, 1, 3, 3, 1, 1, 2, 0, 1, 0, 1, 1, 0, 1, 2, 1, 2, 2, 2,\n",
       "       3, 1, 1, 2, 0, 1, 3, 0, 2, 3, 1, 1, 3, 0, 0, 2, 1, 1, 2, 3, 2, 2,\n",
       "       1, 1, 2, 1, 3, 2, 1, 0, 2, 0, 2, 3, 2, 2, 3, 2, 1, 0, 1, 0, 2, 1,\n",
       "       2, 0, 2, 1, 3, 1, 2, 1, 1, 1, 1, 2, 3, 0, 2, 3, 1, 3, 3, 1, 1, 1,\n",
       "       3, 0, 2, 2, 1, 3, 3, 2, 2, 3, 1, 0, 1, 3, 2, 2, 3, 1, 1, 1, 2, 3,\n",
       "       0, 1, 1, 1, 3, 1, 1, 1, 1, 0, 0, 1, 0, 1, 2, 1, 2, 0, 1, 1, 1, 1,\n",
       "       0, 1, 2, 0, 3, 2, 2, 0, 1, 0, 0, 1, 1, 0, 3, 3, 2, 2, 3, 2, 3, 0,\n",
       "       3, 0, 2, 3, 2, 1, 3, 0, 2, 2, 2, 3, 1, 1, 1, 2, 1, 3, 1, 3, 1, 1,\n",
       "       0, 0, 1, 2, 1, 0, 3, 1, 2, 1, 0, 1, 0, 0, 2, 3, 0, 1, 1, 2, 3, 2,\n",
       "       1, 1, 2, 1, 1, 1, 1, 3, 0, 3, 0, 2, 2, 1, 1, 0, 2, 3, 3, 2, 1, 1,\n",
       "       2, 3, 1, 2, 1, 0, 2, 3, 1, 0, 1, 3, 1, 0, 1, 2, 2, 2, 2, 2, 2, 1,\n",
       "       1, 3, 1, 1, 1, 1, 0, 2, 2, 1, 1, 1, 0, 1, 1, 3])"
      ]
     },
     "execution_count": 58,
     "metadata": {},
     "output_type": "execute_result"
    }
   ],
   "source": [
    "y_pred"
   ]
  },
  {
   "cell_type": "code",
   "execution_count": 54,
   "id": "170c61b3",
=======
   "execution_count": 28,
   "id": "cd40d386",
>>>>>>> 17e3d08e8d4d470dabda135ae600cdfe9df0ccc1
   "metadata": {},
   "outputs": [],
   "source": [
    "# 제출 파일 함수\n",
    "import os\n",
    "from os.path import join\n",
    "\n",
    "def save_submission(y_pred, user_name, f1_score=None):\n",
    "    data_path =\"/aiffel/aiffel/dlthon_team5/data\"\n",
    "    save_path =\"/aiffel/aiffel/dlthon_team5/submission\"\n",
    "    submission_path = join(data_path, 'new_submission.csv')\n",
    "    submission = pd.read_csv(submission_path)\n",
    "    submission['class'] = y_pred\n",
    "    submission_csv_path = '{}/submission_{}_f1score_{}.csv'.format(save_path, user_name, f1_score)\n",
    "    submission.to_csv(submission_csv_path, index=False)\n",
    "    print('{} saved!'.format(submission_csv_path))"
   ]
  },
  {
   "cell_type": "code",
<<<<<<< HEAD
   "execution_count": 56,
   "id": "4ab2a8eb",
   "metadata": {},
   "outputs": [
    {
     "name": "stdout",
     "output_type": "stream",
     "text": [
      "/aiffel/aiffel/dlthon_team5/submission/submission_phc_v1_f1score_0.57.csv saved!\n"
=======
   "execution_count": 29,
   "id": "7660203d",
   "metadata": {},
   "outputs": [
    {
     "ename": "FileNotFoundError",
     "evalue": "[Errno 2] No such file or directory: '/aiffel/aiffel/dlthon_team5/submission/submission_phc_v1_f1score_None.csv'",
     "output_type": "error",
     "traceback": [
      "\u001b[0;31m---------------------------------------------------------------------------\u001b[0m",
      "\u001b[0;31mFileNotFoundError\u001b[0m                         Traceback (most recent call last)",
      "\u001b[0;32m/tmp/ipykernel_927/3670872377.py\u001b[0m in \u001b[0;36m<module>\u001b[0;34m\u001b[0m\n\u001b[1;32m      1\u001b[0m \u001b[0;31m# 뒤쪽 str값은 본인 이니셜과 버전을 작성하면됨\u001b[0m\u001b[0;34m\u001b[0m\u001b[0;34m\u001b[0m\u001b[0m\n\u001b[0;32m----> 2\u001b[0;31m \u001b[0msave_submission\u001b[0m\u001b[0;34m(\u001b[0m\u001b[0my_pred\u001b[0m\u001b[0;34m,\u001b[0m\u001b[0;34m'phc_v1'\u001b[0m\u001b[0;34m)\u001b[0m\u001b[0;34m\u001b[0m\u001b[0;34m\u001b[0m\u001b[0m\n\u001b[0m",
      "\u001b[0;32m/tmp/ipykernel_927/780139389.py\u001b[0m in \u001b[0;36msave_submission\u001b[0;34m(y_pred, user_name, f1_score)\u001b[0m\n\u001b[1;32m     10\u001b[0m     \u001b[0msubmission\u001b[0m\u001b[0;34m[\u001b[0m\u001b[0;34m'class'\u001b[0m\u001b[0;34m]\u001b[0m \u001b[0;34m=\u001b[0m \u001b[0my_pred\u001b[0m\u001b[0;34m\u001b[0m\u001b[0;34m\u001b[0m\u001b[0m\n\u001b[1;32m     11\u001b[0m     \u001b[0msubmission_csv_path\u001b[0m \u001b[0;34m=\u001b[0m \u001b[0;34m'{}/submission_{}_f1score_{}.csv'\u001b[0m\u001b[0;34m.\u001b[0m\u001b[0mformat\u001b[0m\u001b[0;34m(\u001b[0m\u001b[0msave_path\u001b[0m\u001b[0;34m,\u001b[0m \u001b[0muser_name\u001b[0m\u001b[0;34m,\u001b[0m \u001b[0mf1_score\u001b[0m\u001b[0;34m)\u001b[0m\u001b[0;34m\u001b[0m\u001b[0;34m\u001b[0m\u001b[0m\n\u001b[0;32m---> 12\u001b[0;31m     \u001b[0msubmission\u001b[0m\u001b[0;34m.\u001b[0m\u001b[0mto_csv\u001b[0m\u001b[0;34m(\u001b[0m\u001b[0msubmission_csv_path\u001b[0m\u001b[0;34m,\u001b[0m \u001b[0mindex\u001b[0m\u001b[0;34m=\u001b[0m\u001b[0;32mFalse\u001b[0m\u001b[0;34m)\u001b[0m\u001b[0;34m\u001b[0m\u001b[0;34m\u001b[0m\u001b[0m\n\u001b[0m\u001b[1;32m     13\u001b[0m     \u001b[0mprint\u001b[0m\u001b[0;34m(\u001b[0m\u001b[0;34m'{} saved!'\u001b[0m\u001b[0;34m.\u001b[0m\u001b[0mformat\u001b[0m\u001b[0;34m(\u001b[0m\u001b[0msubmission_csv_path\u001b[0m\u001b[0;34m)\u001b[0m\u001b[0;34m)\u001b[0m\u001b[0;34m\u001b[0m\u001b[0;34m\u001b[0m\u001b[0m\n",
      "\u001b[0;32m/opt/conda/lib/python3.9/site-packages/pandas/core/generic.py\u001b[0m in \u001b[0;36mto_csv\u001b[0;34m(self, path_or_buf, sep, na_rep, float_format, columns, header, index, index_label, mode, encoding, compression, quoting, quotechar, line_terminator, chunksize, date_format, doublequote, escapechar, decimal, errors, storage_options)\u001b[0m\n\u001b[1;32m   3464\u001b[0m         )\n\u001b[1;32m   3465\u001b[0m \u001b[0;34m\u001b[0m\u001b[0m\n\u001b[0;32m-> 3466\u001b[0;31m         return DataFrameRenderer(formatter).to_csv(\n\u001b[0m\u001b[1;32m   3467\u001b[0m             \u001b[0mpath_or_buf\u001b[0m\u001b[0;34m,\u001b[0m\u001b[0;34m\u001b[0m\u001b[0;34m\u001b[0m\u001b[0m\n\u001b[1;32m   3468\u001b[0m             \u001b[0mline_terminator\u001b[0m\u001b[0;34m=\u001b[0m\u001b[0mline_terminator\u001b[0m\u001b[0;34m,\u001b[0m\u001b[0;34m\u001b[0m\u001b[0;34m\u001b[0m\u001b[0m\n",
      "\u001b[0;32m/opt/conda/lib/python3.9/site-packages/pandas/io/formats/format.py\u001b[0m in \u001b[0;36mto_csv\u001b[0;34m(self, path_or_buf, encoding, sep, columns, index_label, mode, compression, quoting, quotechar, line_terminator, chunksize, date_format, doublequote, escapechar, errors, storage_options)\u001b[0m\n\u001b[1;32m   1103\u001b[0m             \u001b[0mformatter\u001b[0m\u001b[0;34m=\u001b[0m\u001b[0mself\u001b[0m\u001b[0;34m.\u001b[0m\u001b[0mfmt\u001b[0m\u001b[0;34m,\u001b[0m\u001b[0;34m\u001b[0m\u001b[0;34m\u001b[0m\u001b[0m\n\u001b[1;32m   1104\u001b[0m         )\n\u001b[0;32m-> 1105\u001b[0;31m         \u001b[0mcsv_formatter\u001b[0m\u001b[0;34m.\u001b[0m\u001b[0msave\u001b[0m\u001b[0;34m(\u001b[0m\u001b[0;34m)\u001b[0m\u001b[0;34m\u001b[0m\u001b[0;34m\u001b[0m\u001b[0m\n\u001b[0m\u001b[1;32m   1106\u001b[0m \u001b[0;34m\u001b[0m\u001b[0m\n\u001b[1;32m   1107\u001b[0m         \u001b[0;32mif\u001b[0m \u001b[0mcreated_buffer\u001b[0m\u001b[0;34m:\u001b[0m\u001b[0;34m\u001b[0m\u001b[0;34m\u001b[0m\u001b[0m\n",
      "\u001b[0;32m/opt/conda/lib/python3.9/site-packages/pandas/io/formats/csvs.py\u001b[0m in \u001b[0;36msave\u001b[0;34m(self)\u001b[0m\n\u001b[1;32m    235\u001b[0m         \"\"\"\n\u001b[1;32m    236\u001b[0m         \u001b[0;31m# apply compression and byte/text conversion\u001b[0m\u001b[0;34m\u001b[0m\u001b[0;34m\u001b[0m\u001b[0m\n\u001b[0;32m--> 237\u001b[0;31m         with get_handle(\n\u001b[0m\u001b[1;32m    238\u001b[0m             \u001b[0mself\u001b[0m\u001b[0;34m.\u001b[0m\u001b[0mfilepath_or_buffer\u001b[0m\u001b[0;34m,\u001b[0m\u001b[0;34m\u001b[0m\u001b[0;34m\u001b[0m\u001b[0m\n\u001b[1;32m    239\u001b[0m             \u001b[0mself\u001b[0m\u001b[0;34m.\u001b[0m\u001b[0mmode\u001b[0m\u001b[0;34m,\u001b[0m\u001b[0;34m\u001b[0m\u001b[0;34m\u001b[0m\u001b[0m\n",
      "\u001b[0;32m/opt/conda/lib/python3.9/site-packages/pandas/io/common.py\u001b[0m in \u001b[0;36mget_handle\u001b[0;34m(path_or_buf, mode, encoding, compression, memory_map, is_text, errors, storage_options)\u001b[0m\n\u001b[1;32m    700\u001b[0m         \u001b[0;32mif\u001b[0m \u001b[0mioargs\u001b[0m\u001b[0;34m.\u001b[0m\u001b[0mencoding\u001b[0m \u001b[0;32mand\u001b[0m \u001b[0;34m\"b\"\u001b[0m \u001b[0;32mnot\u001b[0m \u001b[0;32min\u001b[0m \u001b[0mioargs\u001b[0m\u001b[0;34m.\u001b[0m\u001b[0mmode\u001b[0m\u001b[0;34m:\u001b[0m\u001b[0;34m\u001b[0m\u001b[0;34m\u001b[0m\u001b[0m\n\u001b[1;32m    701\u001b[0m             \u001b[0;31m# Encoding\u001b[0m\u001b[0;34m\u001b[0m\u001b[0;34m\u001b[0m\u001b[0m\n\u001b[0;32m--> 702\u001b[0;31m             handle = open(\n\u001b[0m\u001b[1;32m    703\u001b[0m                 \u001b[0mhandle\u001b[0m\u001b[0;34m,\u001b[0m\u001b[0;34m\u001b[0m\u001b[0;34m\u001b[0m\u001b[0m\n\u001b[1;32m    704\u001b[0m                 \u001b[0mioargs\u001b[0m\u001b[0;34m.\u001b[0m\u001b[0mmode\u001b[0m\u001b[0;34m,\u001b[0m\u001b[0;34m\u001b[0m\u001b[0;34m\u001b[0m\u001b[0m\n",
      "\u001b[0;31mFileNotFoundError\u001b[0m: [Errno 2] No such file or directory: '/aiffel/aiffel/dlthon_team5/submission/submission_phc_v1_f1score_None.csv'"
>>>>>>> 17e3d08e8d4d470dabda135ae600cdfe9df0ccc1
     ]
    }
   ],
   "source": [
    "# 뒤쪽 str값은 본인 이니셜과 버전을 작성하면됨\n",
    "save_submission(y_pred,'phc_v1','0.57')"
   ]
  },
  {
   "cell_type": "markdown",
<<<<<<< HEAD
   "id": "6f0ef4e1",
=======
   "id": "df076af8",
>>>>>>> 17e3d08e8d4d470dabda135ae600cdfe9df0ccc1
   "metadata": {},
   "source": [
    "# 하이퍼 파라미터 튜닝용 - 진행중"
   ]
  },
  {
   "cell_type": "code",
   "execution_count": null,
<<<<<<< HEAD
   "id": "c50848be",
=======
   "id": "3188dc27",
>>>>>>> 17e3d08e8d4d470dabda135ae600cdfe9df0ccc1
   "metadata": {},
   "outputs": [],
   "source": [
    "sweep_config = {\n",
    "    \"name\": \"sweep_test_nlp\",\n",
    "    \"metric\": {\"name\": \"val_loss\", \"goal\": \"minimize\"},\n",
    "    \"method\": \"random\",\n",
    "    \"parameters\": {\n",
    "\n",
    "        \"epoch\" : {\n",
    "            \"distribution\" : \"int_uniform\",\n",
    "            \"min\" : 5,\n",
    "            \"max\" : 10\n",
    "            },\n",
    "        \n",
    "        \"DROPOUT\" : {\n",
    "            \"min\": 0.1,\n",
    "            \"max\": 0.4\n",
    "        }\n",
    "                    \n",
    "        }\n",
    "    }"
   ]
  },
  {
   "cell_type": "code",
   "execution_count": null,
<<<<<<< HEAD
   "id": "dc1bbe7a",
=======
   "id": "51982700",
>>>>>>> 17e3d08e8d4d470dabda135ae600cdfe9df0ccc1
   "metadata": {},
   "outputs": [],
   "source": [
    "default_config = {\n",
    "        \"VOCAB_SIZE\" : 1000,\n",
    "        \"NUM_LAYERS\" : 2,\n",
    "        \"D_MODEL\" : 256,\n",
    "        \"NUM_HEADS\" : 8,\n",
    "        \"UNITS\" : 512,\n",
    "        \"DROPOUT\" : 0.1,\n",
    "        \"optimizer\" : \"adam\",\n",
    "        \"loss\" : \"sparse_categorical_crossentropy\",\n",
    "        \"metrics\" : [\"accuracy\"],\n",
    "        \"epoch\" : 5,\n",
    "        \"batch_size\" : 32\n",
    "}\n",
    "\n",
    "def accuracy(y_true, y_pred):\n",
    "    return tf.keras.metrics.sparse_categorical_accuracy(y_true, y_pred)\n",
    "\n",
    "def train(default_config):\n",
    "    \n",
    "    wandb.init(config = default_config)\n",
    "    config = wandb.config\n",
    "    \n",
    "    model = transformer(\n",
    "    vocab_size=config.VOCAB_SIZE,\n",
    "    num_layers=config.NUM_LAYERS,\n",
    "    units=config.UNITS,\n",
    "    d_model=config.D_MODEL,\n",
    "    num_heads=config.NUM_HEADS,\n",
    "    dropout=config.DROPOUT)\n",
    "    \n",
    "    if config.optimizer == 'adam':\n",
    "        learning_rate = CustomSchedule(D_MODEL)\n",
    "        optimizer = tf.keras.optimizers.Adam(\n",
    "            learning_rate, beta_1=0.9, beta_2=0.98, epsilon=1e-9)\n",
    "    \n",
    "    model.compile(optimizer = optimizer,\n",
    "                  loss = config.loss,\n",
    "                  metrics = config.metrics)\n",
    "    \n",
    "    model.fit(train_dataset,\n",
    "              epochs = config.epoch,\n",
    "              batch_size = config.batch_size,\n",
    "              validation_data = val_dataset,\n",
    "              callbacks = [WandbCallback()])\n",
    "    \n",
    "    test_loss, test_accuracy = model.evaluate(test_dataset, verbose=2)\n",
    "    \n",
    "    wandb.log({\"Test Accuracy Rate: \" : round(test_accuracy * 100, 2),\n",
    "               \"Test Error Rate: \" : round((1 - test_accuracy) * 100, 2)})"
   ]
  },
  {
   "cell_type": "code",
   "execution_count": null,
<<<<<<< HEAD
   "id": "ae632d52",
=======
   "id": "992f9c6b",
>>>>>>> 17e3d08e8d4d470dabda135ae600cdfe9df0ccc1
   "metadata": {},
   "outputs": [],
   "source": [
    "sweep_id = wandb.sweep(sweep_config,\n",
    "                       entity = 'asdhk0762',\n",
    "                       project = 'Dlthon1002')\n",
    "\n",
    "# run the sweep\n",
    "wandb.agent(sweep_id,\n",
    "            function=train,\n",
    "            count=10)"
   ]
  },
  {
   "cell_type": "code",
   "execution_count": null,
<<<<<<< HEAD
   "id": "7d65b3f4",
=======
   "id": "97c0aace",
>>>>>>> 17e3d08e8d4d470dabda135ae600cdfe9df0ccc1
   "metadata": {},
   "outputs": [],
   "source": []
  },
  {
   "cell_type": "code",
   "execution_count": null,
<<<<<<< HEAD
   "id": "ca5730ff",
=======
   "id": "bdb1e1ea",
>>>>>>> 17e3d08e8d4d470dabda135ae600cdfe9df0ccc1
   "metadata": {},
   "outputs": [],
   "source": []
  }
 ],
 "metadata": {
  "kernelspec": {
   "display_name": "Python 3 (ipykernel)",
   "language": "python",
   "name": "python3"
  },
  "language_info": {
   "codemirror_mode": {
    "name": "ipython",
    "version": 3
   },
   "file_extension": ".py",
   "mimetype": "text/x-python",
   "name": "python",
   "nbconvert_exporter": "python",
   "pygments_lexer": "ipython3",
   "version": "3.9.7"
  }
 },
 "nbformat": 4,
 "nbformat_minor": 5
}
