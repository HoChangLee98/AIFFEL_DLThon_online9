{
 "cells": [
  {
   "cell_type": "code",
   "execution_count": 26,
   "id": "e803d8bc",
   "metadata": {},
   "outputs": [],
   "source": [
    "import numpy as np\n",
    "import pandas as pd\n",
    "import tensorflow as tf\n",
    "import os\n",
    "from os.path import join\n",
    "import sys\n",
    "sys.path.append(\"../\")\n",
    "sys.path.append(\"../model\")\n",
    "\n",
    "## 경고 무시\n",
    "import warnings\n",
    "warnings.filterwarnings('ignore')\n",
    "\n",
    "## 시각화 툴\n",
    "import matplotlib.pyplot as plt\n",
    "import seaborn as sns\n",
    "\n",
    "## encoding \n",
    "from sklearn.preprocessing import LabelEncoder\n",
    "from sklearn.model_selection import train_test_split\n",
    "from sklearn.utils import class_weight\n",
    "from tensorflow.keras import regularizers\n",
    "\n",
    "## vocabulary\n",
    "import tensorflow_datasets as tfds\n",
    "\n",
    "## tokenizer \n",
    "from transformers import BertTokenizer\n",
    "from keras.preprocessing.sequence import pad_sequences\n",
    "\n",
    "## preprocessor\n",
    "from custom_preprocessor import Preprocessor\n",
    "\n",
    "## model\n",
    "from transformer_v1 import transformer\n",
    "from transformers import TFBertForSequenceClassification, BertConfig\n",
    "from tensorflow.keras import backend as K"
   ]
  },
  {
   "cell_type": "markdown",
   "id": "97e26a96",
   "metadata": {},
   "source": [
    "# Data 준비"
   ]
  },
  {
   "cell_type": "code",
   "execution_count": 2,
   "id": "9ea2cc88",
   "metadata": {},
   "outputs": [],
   "source": [
    "preprocessor = Preprocessor()\n",
    "preprocessed_train, preprocessed_test = preprocessor.preprocess()"
   ]
  },
  {
   "cell_type": "code",
   "execution_count": 3,
   "id": "f6d38322",
   "metadata": {},
   "outputs": [],
   "source": [
    "preprocessed_train[\"conversation\"].apply(lambda x: len(x.split())).max()\n",
    "\n",
    "## CLASS_NAMES에 '일반 대화'를 포함시킴\n",
    "CLASS_NAMES = ['협박 대화', '갈취 대화', '직장 내 괴롭힘 대화', '기타 괴롭힘 대화', '일반 대화']\n",
    "\n",
    "# 수동 매핑 설정\n",
    "class_mapping = {\n",
    "    '협박 대화': 0,\n",
    "    '갈취 대화': 1,\n",
    "    '직장 내 괴롭힘 대화': 2,\n",
    "    '기타 괴롭힘 대화': 3,\n",
    "    '일반 대화': 4\n",
    "}\n",
    "\n",
    "\n",
    "# 'class' 열을 수동 매핑 적용하기 전에 문자열로 변환\n",
    "preprocessed_train['class'] = preprocessed_train['class'].astype(str).map(class_mapping)\n",
    "labels = preprocessed_train['class']"
   ]
  },
  {
   "cell_type": "code",
   "execution_count": 4,
   "id": "b4f7e049",
   "metadata": {},
   "outputs": [],
   "source": [
    "conversations_list = []\n",
    "for conv in preprocessed_train['conversation']:\n",
    "    conversations_list.append(conv)    "
   ]
  },
  {
   "cell_type": "code",
   "execution_count": 5,
   "id": "2b21f337",
   "metadata": {},
   "outputs": [],
   "source": [
    "test_size_rate = 0.2\n",
    "val_size_rate = 0.1\n",
    "\n",
    "# 시드값 설정\n",
    "seed = 1004\n",
    "X_train, X_test, y_train, y_test = train_test_split(\n",
    "    conversations_list, \n",
    "    labels, \n",
    "    test_size=test_size_rate, \n",
    "    stratify=labels, \n",
    "    random_state=seed\n",
    ")\n",
    "\n",
    "\n",
    "X_train, X_valid, y_train, y_valid = train_test_split(\n",
    "    X_train, \n",
    "    y_train, \n",
    "    test_size=val_size_rate, \n",
    "    stratify=y_train, \n",
    "    random_state=seed\n",
    ")"
   ]
  },
  {
   "cell_type": "code",
   "execution_count": 6,
   "id": "e0b2e667",
   "metadata": {},
   "outputs": [
    {
     "name": "stdout",
     "output_type": "stream",
     "text": [
      "3582 (3582,)\n",
      "398 (398,)\n",
      "996 (996,)\n"
     ]
    }
   ],
   "source": [
    "print(len(X_train), y_train.shape)\n",
    "print(len(X_valid), y_valid.shape)\n",
    "print(len(X_test), y_test.shape)"
   ]
  },
  {
   "cell_type": "markdown",
   "id": "dcc658c5",
   "metadata": {},
   "source": [
    "## 토큰화 및 모델 정의"
   ]
  },
  {
   "cell_type": "code",
   "execution_count": 7,
   "id": "ff6b065a",
   "metadata": {},
   "outputs": [
    {
     "data": {
      "application/vnd.jupyter.widget-view+json": {
       "model_id": "7b5d87e64c6c4b28bd2996344702e27c",
       "version_major": 2,
       "version_minor": 0
      },
      "text/plain": [
       "Downloading:   0%|          | 0.00/972k [00:00<?, ?B/s]"
      ]
     },
     "metadata": {},
     "output_type": "display_data"
    },
    {
     "data": {
      "application/vnd.jupyter.widget-view+json": {
       "model_id": "3b764fad4fac4288a9486f1ed0395fc9",
       "version_major": 2,
       "version_minor": 0
      },
      "text/plain": [
       "Downloading:   0%|          | 0.00/49.0 [00:00<?, ?B/s]"
      ]
     },
     "metadata": {},
     "output_type": "display_data"
    },
    {
     "data": {
      "application/vnd.jupyter.widget-view+json": {
       "model_id": "69d57ccfc02640c095b3e0e0c959427a",
       "version_major": 2,
       "version_minor": 0
      },
      "text/plain": [
       "Downloading:   0%|          | 0.00/1.87M [00:00<?, ?B/s]"
      ]
     },
     "metadata": {},
     "output_type": "display_data"
    },
    {
     "data": {
      "application/vnd.jupyter.widget-view+json": {
       "model_id": "6e73a3f62d314fd39e74f9cec67fe840",
       "version_major": 2,
       "version_minor": 0
      },
      "text/plain": [
       "Downloading:   0%|          | 0.00/625 [00:00<?, ?B/s]"
      ]
     },
     "metadata": {},
     "output_type": "display_data"
    }
   ],
   "source": [
    "tokenizer = BertTokenizer.from_pretrained(\"bert-base-multilingual-cased\")\n",
    "\n",
    "token_X_train = tokenizer(\n",
    "    X_train, \n",
    "    truncation=True, \n",
    "    padding=True, \n",
    "    max_length=191, \n",
    ") \n",
    "\n",
    "token_X_valid = tokenizer(\n",
    "    X_valid, \n",
    "    truncation=True, \n",
    "    padding=True, \n",
    "    max_length=191, \n",
    ") \n",
    "\n",
    "token_X_test = tokenizer(\n",
    "    X_test, \n",
    "    truncation=True, \n",
    "    padding=True, \n",
    "    max_length=191, \n",
    ")"
   ]
  },
  {
   "cell_type": "code",
   "execution_count": 8,
   "id": "4f81e375",
   "metadata": {},
   "outputs": [],
   "source": [
    "BATCH_SIZE = 16\n",
    "BUFFER_SIZE = 10000\n",
    "\n",
    "# 클래스 가중치 계산 (클래스 4 포함)\n",
    "class_weights = class_weight.compute_class_weight(\n",
    "    'balanced',\n",
    "    classes=np.unique(y_train),\n",
    "    y=y_train\n",
    ")\n",
    "class_weights = dict(enumerate(class_weights))\n",
    "\n",
    "# 각 샘플에 가중치 할당\n",
    "sample_weights = np.array([class_weights[y] for y in y_train])\n",
    "\n",
    "# from_tensor_slices에서 입력을 딕셔너리로 전달\n",
    "train_dataset = tf.data.Dataset.from_tensor_slices((\n",
    "    dict(token_X_train),\n",
    "    y_train\n",
    "))\n",
    "\n",
    "valid_dataset = tf.data.Dataset.from_tensor_slices((\n",
    "    dict(token_X_valid),\n",
    "    y_valid\n",
    "))\n",
    "\n",
    "test_dataset = tf.data.Dataset.from_tensor_slices((\n",
    "    dict(token_X_test),\n",
    "    y_test\n",
    "))\n",
    "\n",
    "# 데이터셋을 섞고, 배치 처리\n",
    "train_dataset = train_dataset.cache().shuffle(BUFFER_SIZE).batch(BATCH_SIZE).prefetch(tf.data.experimental.AUTOTUNE)\n",
    "valid_dataset = valid_dataset.batch(BATCH_SIZE)\n",
    "test_dataset = test_dataset.batch(BATCH_SIZE)"
   ]
  },
  {
   "cell_type": "code",
   "execution_count": 33,
   "id": "b146e4c9",
   "metadata": {
    "scrolled": true
   },
   "outputs": [
    {
     "name": "stderr",
     "output_type": "stream",
     "text": [
      "All model checkpoint layers were used when initializing TFBertForSequenceClassification.\n",
      "\n",
      "Some layers of TFBertForSequenceClassification were not initialized from the model checkpoint at bert-base-multilingual-cased and are newly initialized: ['classifier']\n",
      "You should probably TRAIN this model on a down-stream task to be able to use it for predictions and inference.\n"
     ]
    },
    {
     "name": "stdout",
     "output_type": "stream",
     "text": [
      "Model: \"tf_bert_for_sequence_classification_2\"\n",
      "_________________________________________________________________\n",
      "Layer (type)                 Output Shape              Param #   \n",
      "=================================================================\n",
      "bert (TFBertMainLayer)       multiple                  177853440 \n",
      "_________________________________________________________________\n",
      "dropout_113 (Dropout)        multiple                  0         \n",
      "_________________________________________________________________\n",
      "classifier (Dense)           multiple                  3845      \n",
      "=================================================================\n",
      "Total params: 177,857,285\n",
      "Trainable params: 177,857,285\n",
      "Non-trainable params: 0\n",
      "_________________________________________________________________\n"
     ]
    }
   ],
   "source": [
    "model = TFBertForSequenceClassification.from_pretrained(\n",
    "    \"bert-base-multilingual-cased\", \n",
    "    num_labels=5\n",
    ")\n",
    "\n",
    "model.summary()"
   ]
  },
  {
   "cell_type": "code",
   "execution_count": 43,
   "id": "b39b1c50",
   "metadata": {},
   "outputs": [
    {
     "name": "stdout",
     "output_type": "stream",
     "text": [
      "bert True\n",
      "dropout_113 True\n",
      "classifier True\n"
     ]
    }
   ],
   "source": [
    "for layer in model.layers:\n",
    "    print(layer.name, layer.trainable)"
   ]
  },
  {
   "cell_type": "code",
   "execution_count": 34,
   "id": "4aa8ed23",
   "metadata": {},
   "outputs": [],
   "source": [
    "# def loss_function(y_true, y_pred):\n",
    "#     y_true = tf.squeeze(y_true, axis=-1)\n",
    "#     loss = tf.keras.losses.SparseCategoricalCrossentropy(\n",
    "#         from_logits=False)(y_true, y_pred)\n",
    "#     return tf.reduce_mean(loss)\n",
    "\n",
    "def recall_m(y_true, y_pred):\n",
    "\n",
    "    y_pred = K.cast(K.greater(K.clip(y_pred, 0, 1), 0.5),K.floatx())\n",
    "    true_positives = K.round(K.sum(K.clip(y_true * y_pred, 0, 1)))\n",
    "    possible_positives = K.sum(K.clip(y_true, 0, 1))\n",
    "    recall_ratio = true_positives / (possible_positives + K.epsilon())\n",
    "    return recall_ratio\n",
    "\n",
    "def precision_m(y_true, y_pred):\n",
    "\n",
    "    y_pred = K.cast(K.greater(K.clip(y_pred, 0, 1), 0.5), K.floatx())\n",
    "    true_positives = K.round(K.sum(K.clip(y_true * y_pred, 0, 1)))\n",
    "    predicted_positives = K.sum(y_pred)\n",
    "    precision_ratio = true_positives / (predicted_positives + K.epsilon())\n",
    "    return precision_ratio\n",
    "\n",
    "def f1_m(y_true, y_pred):\n",
    "    y_pred_classes = tf.argmax(y_pred, axis=-1)\n",
    "    precision = precision_m(y_true, y_pred)\n",
    "    recall = recall_m(y_true, y_pred)\n",
    "    return 2*((precision*recall)/(precision+recall+K.epsilon()))"
   ]
  },
  {
   "cell_type": "code",
   "execution_count": 35,
   "id": "672ead77",
   "metadata": {},
   "outputs": [],
   "source": [
    "# class CustomSchedule(tf.keras.optimizers.schedules.LearningRateSchedule):\n",
    "\n",
    "#     def __init__(self, d_model, warmup_steps=4000):\n",
    "#         super(CustomSchedule, self).__init__()\n",
    "\n",
    "#         self.d_model = d_model\n",
    "#         self.d_model = tf.cast(self.d_model, tf.float32)\n",
    "\n",
    "#         self.warmup_steps = warmup_steps\n",
    "\n",
    "#     def __call__(self, step):\n",
    "#         arg1 = tf.math.rsqrt(step)\n",
    "#         arg2 = step * (self.warmup_steps**-1.5)\n",
    "\n",
    "#         return tf.math.rsqrt(self.d_model) * tf.math.minimum(arg1, arg2)"
   ]
  },
  {
   "cell_type": "code",
   "execution_count": 36,
   "id": "85aa1ed9",
   "metadata": {},
   "outputs": [],
   "source": [
    "EPOCHS = 20\n",
    "BATCH_SIZE = 16\n",
    "lr = 1e-5"
   ]
  },
  {
   "cell_type": "code",
   "execution_count": 37,
   "id": "c3748aa2",
   "metadata": {},
   "outputs": [],
   "source": [
    "optimizer = tf.keras.optimizers.Adam(\n",
    "    learning_rate=lr, \n",
    "#     beta_1=0.9, \n",
    "#     beta_2=0.98, \n",
    "#     epsilon=1e-9\n",
    ")\n",
    "\n",
    "model.compile(\n",
    "    optimizer=optimizer, \n",
    "    loss=tf.keras.losses.SparseCategoricalCrossentropy(from_logits=True), \n",
    "    metrics=[f1_m]\n",
    ")"
   ]
  },
  {
   "cell_type": "markdown",
   "id": "bdd92360",
   "metadata": {},
   "source": [
    "# 학습"
   ]
  },
  {
   "cell_type": "code",
   "execution_count": 38,
   "id": "01717947",
   "metadata": {},
   "outputs": [],
   "source": [
    "from keras.callbacks import EarlyStopping\n",
    "early_stopping = EarlyStopping(\n",
    "    monitor = \"val_loss\", \n",
    "    patience = 2, \n",
    "    mode = \"min\"\n",
    ")"
   ]
  },
  {
   "cell_type": "code",
   "execution_count": 39,
   "id": "6cdee493",
   "metadata": {
    "scrolled": true
   },
   "outputs": [
    {
     "name": "stdout",
     "output_type": "stream",
     "text": [
      "Epoch 1/20\n",
      "224/224 [==============================] - 170s 695ms/step - loss: 0.9498 - f1_m: 0.8312 - val_loss: 0.6031 - val_f1_m: 0.9506\n",
      "Epoch 2/20\n",
      "224/224 [==============================] - 154s 689ms/step - loss: 0.4720 - f1_m: 0.9854 - val_loss: 0.4402 - val_f1_m: 0.9838\n",
      "Epoch 3/20\n",
      "224/224 [==============================] - 152s 681ms/step - loss: 0.3226 - f1_m: 0.9882 - val_loss: 0.5512 - val_f1_m: 1.0330\n",
      "Epoch 4/20\n",
      "224/224 [==============================] - 155s 690ms/step - loss: 0.2230 - f1_m: 0.9702 - val_loss: 0.5057 - val_f1_m: 0.9890\n"
     ]
    }
   ],
   "source": [
    "history = model.fit(\n",
    "    train_dataset,\n",
    "    validation_data=valid_dataset,  # 검증 데이터셋 추가\n",
    "    epochs=EPOCHS,\n",
    "    verbose=1, \n",
    "#     batch_size = BATCH_SIZE,\n",
    "#     class_weight=class_weights,  # class_weight 사용\n",
    "    callbacks = [early_stopping]\n",
    ")"
   ]
  },
  {
   "cell_type": "code",
   "execution_count": 40,
   "id": "decf13f5",
   "metadata": {
    "scrolled": true
   },
   "outputs": [
    {
     "name": "stderr",
     "output_type": "stream",
     "text": [
      "No handles with labels found to put in legend.\n"
     ]
    },
    {
     "data": {
      "image/png": "[encoded data removed]",
      "text/plain": [
       "<Figure size 432x288 with 1 Axes>"
      ]
     },
     "metadata": {
      "needs_background": "light"
     },
     "output_type": "display_data"
    }
   ],
   "source": [
    "fig, loss_ax = plt.subplots()\n",
    "\n",
    "loss_ax.plot(history.history['loss'], 'y', label = 'train loss')\n",
    "loss_ax.plot(history.history['val_loss'], 'r', label = 'val loss')\n",
    "\n",
    "# acc_ax.plot(history.history['accuracy'], 'b', label = 'train accuracy')\n",
    "# acc_ax.plot(history.history['val_accuracy'], 'g', label = 'val accuracy')\n",
    "\n",
    "loss_ax.set_xlabel('epoch')\n",
    "loss_ax.set_ylabel('loss')\n",
    "\n",
    "loss_ax.legend(loc = 'upper left')\n",
    "acc_ax.legend(loc = 'lower left')\n",
    "\n",
    "plt.show()"
   ]
  },
  {
   "cell_type": "code",
   "execution_count": 44,
   "id": "59bc9e41",
   "metadata": {},
   "outputs": [
    {
     "name": "stdout",
     "output_type": "stream",
     "text": [
      "63/63 [==============================] - 13s 200ms/step - loss: 0.4767 - f1_m: 0.9860\n"
     ]
    }
   ],
   "source": [
    "## 모델 평가\n",
    "evaluation = model.evaluate(test_dataset)"
   ]
  },
  {
   "cell_type": "code",
   "execution_count": 24,
   "id": "527f9a25",
   "metadata": {},
   "outputs": [],
   "source": [
    "# sweep_id = wandb.sweep(sweep_config,\n",
    "#                        entity = <<YOUR CODE>>,\n",
    "#                        project = <<YOUR CODE>>)\n",
    "\n",
    "# # run the sweep\n",
    "# wandb.agent(sweep_id,\n",
    "#             function=train,\n",
    "#             count=10)"
   ]
  },
  {
   "cell_type": "markdown",
   "id": "9a3ced83",
   "metadata": {},
   "source": [
    "# submission"
   ]
  },
  {
   "cell_type": "code",
   "execution_count": 45,
   "id": "873e5bc9",
   "metadata": {},
   "outputs": [],
   "source": [
    "conversations_test_list = []\n",
    "for conv in preprocessed_test['text']:\n",
    "    conversations_test_list.append(conv)\n",
    "\n",
    "token_test = tokenizer(\n",
    "    conversations_test_list, \n",
    "    truncation=True, \n",
    "    padding=True, \n",
    "    max_length=191, \n",
    ") \n",
    "\n",
    "pred = model.predict(token_test[\"input_ids\"])\n",
    "\n",
    "pred_prob = tf.nn.softmax(pred.logits, axis=-1).numpy()\n",
    "pred_class = np.argmax(pred_prob, axis=1)"
   ]
  },
  {
   "cell_type": "code",
   "execution_count": 46,
   "id": "093b125e",
   "metadata": {},
   "outputs": [
    {
     "data": {
      "text/plain": [
       "array([1, 2, 4, 4, 4, 0, 2, 3, 3, 1, 0, 3, 2, 2, 2, 1, 4, 4, 0, 3, 0, 4,\n",
       "       3, 3, 1, 2, 4, 4, 2, 3, 4, 0, 4, 2, 4, 4, 3, 0, 3, 1, 0, 1, 2, 1,\n",
       "       4, 2, 3, 3, 3, 0, 3, 4, 1, 2, 2, 3, 4, 3, 3, 4, 4, 3, 0, 4, 2, 0,\n",
       "       3, 2, 4, 1, 4, 2, 4, 2, 3, 2, 4, 1, 4, 4, 3, 0, 4, 0, 4, 2, 4, 3,\n",
       "       4, 2, 4, 2, 0, 3, 3, 2, 4, 3, 1, 3, 4, 1, 4, 4, 4, 2, 2, 3, 4, 0,\n",
       "       1, 3, 0, 3, 1, 1, 4, 4, 2, 1, 2, 3, 3, 1, 1, 1, 2, 4, 1, 3, 4, 3,\n",
       "       2, 3, 1, 0, 3, 0, 4, 4, 3, 4, 4, 4, 2, 0, 0, 0, 0, 4, 4, 4, 4, 4,\n",
       "       4, 4, 3, 2, 4, 4, 0, 4, 2, 0, 2, 3, 4, 4, 4, 4, 0, 4, 4, 3, 0, 3,\n",
       "       4, 2, 4, 1, 2, 4, 2, 3, 4, 4, 4, 0, 1, 0, 0, 3, 3, 3, 1, 3, 0, 4,\n",
       "       0, 4, 2, 4, 0, 4, 0, 4, 2, 0, 4, 2, 0, 1, 4, 2, 1, 4, 4, 3, 3, 0,\n",
       "       1, 2, 3, 3, 0, 3, 1, 0, 3, 0, 2, 0, 4, 0, 4, 4, 0, 1, 3, 3, 4, 3,\n",
       "       4, 2, 4, 1, 2, 1, 2, 1, 2, 3, 0, 4, 2, 1, 4, 2, 3, 4, 1, 4, 4, 4,\n",
       "       2, 3, 3, 4, 4, 3, 0, 3, 4, 4, 3, 2, 2, 4, 2, 2, 1, 4, 3, 2, 4, 2,\n",
       "       1, 2, 4, 4, 1, 4, 4, 4, 2, 3, 3, 4, 3, 4, 4, 3, 0, 2, 1, 4, 4, 3,\n",
       "       1, 2, 0, 1, 0, 3, 2, 3, 4, 4, 3, 1, 2, 0, 0, 1, 3, 4, 3, 3, 4, 4,\n",
       "       3, 0, 0, 4, 1, 4, 4, 1, 4, 4, 0, 4, 0, 0, 4, 2, 4, 1, 0, 0, 0, 3,\n",
       "       0, 1, 4, 4, 4, 4, 3, 1, 4, 3, 4, 4, 2, 4, 1, 4, 0, 3, 4, 2, 0, 4,\n",
       "       2, 1, 1, 4, 4, 1, 2, 4, 2, 0, 4, 3, 3, 0, 0, 3, 1, 4, 4, 2, 4, 4,\n",
       "       3, 4, 3, 3, 4, 4, 2, 4, 4, 4, 4, 3, 2, 1, 3, 3, 3, 2, 4, 3, 0, 3,\n",
       "       4, 3, 1, 0, 3, 4, 3, 1, 3, 2, 2, 0, 4, 3, 1, 0, 3, 4, 3, 3, 3, 2,\n",
       "       3, 0, 2, 3, 3, 2, 4, 2, 2, 3, 3, 0, 2, 3, 2, 3, 2, 2, 1, 4, 2, 0,\n",
       "       2, 2, 2, 1, 3, 3, 4, 0, 2, 4, 3, 2, 2, 2, 1, 4, 3, 2, 4, 4, 1, 3,\n",
       "       1, 4, 4, 4, 4, 4, 3, 4, 0, 1, 4, 2, 2, 1, 0, 0])"
      ]
     },
     "execution_count": 46,
     "metadata": {},
     "output_type": "execute_result"
    }
   ],
   "source": [
    "pred_class"
   ]
  },
  {
   "cell_type": "code",
   "execution_count": 47,
   "id": "950a5577",
   "metadata": {},
   "outputs": [],
   "source": [
    "def save_submission(y_pred, user_name, f1_score=None):\n",
    "    data_path =\"../data\"\n",
    "    save_path =\"../submission\"\n",
    "    submission_path = join(data_path, 'new_submission.csv')\n",
    "    submission = pd.read_csv(submission_path)\n",
    "    submission['class'] = y_pred\n",
    "    submission_csv_path = '{}/submission_{}_f1score_{}.csv'.format(save_path, user_name, f1_score)\n",
    "    submission.to_csv(submission_csv_path, index=False)\n",
    "    print('{} saved!'.format(submission_csv_path))"
   ]
  },
  {
   "cell_type": "code",
   "execution_count": 48,
   "id": "7f43b04a",
   "metadata": {},
   "outputs": [
    {
     "name": "stdout",
     "output_type": "stream",
     "text": [
      "../submission/submission_lhc_tfbert_full_f1score_0.98.csv saved!\n"
     ]
    }
   ],
   "source": [
    "save_submission(pred_class,'lhc_tfbert_full',0.98)"
   ]
  },
  {
   "cell_type": "code",
   "execution_count": null,
   "id": "9a9432ae",
   "metadata": {},
   "outputs": [],
   "source": []
  }
 ],
 "metadata": {
  "kernelspec": {
   "display_name": "Python 3 (ipykernel)",
   "language": "python",
   "name": "python3"
  },
  "language_info": {
   "codemirror_mode": {
    "name": "ipython",
    "version": 3
   },
   "file_extension": ".py",
   "mimetype": "text/x-python",
   "name": "python",
   "nbconvert_exporter": "python",
   "pygments_lexer": "ipython3",
   "version": "3.9.7"
  }
 },
 "nbformat": 4,
 "nbformat_minor": 5
}
